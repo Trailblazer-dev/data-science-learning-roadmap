{
 "cells": [
  {
   "cell_type": "markdown",
   "id": "683b6c30-ea21-400e-87b5-0debae584fff",
   "metadata": {},
   "source": [
    "## Introduction\n",
    "\n",
    "Now that you can select raw data, you're ready to learn how to group your data and count things within those groups. This can help you answer questions like:\n",
    "\n",
    "    How many of each kind of fruit has our store sold?\n",
    "    How many species of animal has the vet office treated?\n",
    "\n",
    "To do this, you'll learn about three new techniques: GROUP BY, HAVING and COUNT(). Once again, we'll use this made-up table of information on pets."
   ]
  },
  {
   "cell_type": "markdown",
   "id": "d8f9e5dd-9f0d-411f-9834-e6eda57714d1",
   "metadata": {},
   "source": [
    "## COUNT()\n",
    "COUNT(), as you may have guessed from the name, returns a count of things. If you pass it the name of a column, it will return the number of entries in that column.\n",
    "\n",
    "For instance, if we SELECT the COUNT() of the ID column in the pets table, it will return 4, because there are 4 ID's in the table.\n",
    "\n",
    "COUNT() is an example of an aggregate function, which takes many values and returns one. (Other examples of aggregate functions include SUM(), AVG(), MIN(), and MAX().) As you'll notice in the picture above, aggregate functions introduce strange column names (like f0__). Later in this tutorial, you'll learn how to change the name to something more descriptive."
   ]
  },
  {
   "cell_type": "markdown",
   "id": "77c15c68-384b-4da6-a66d-87c0d91c6061",
   "metadata": {},
   "source": [
    "## GROUP BY\n",
    "\n",
    "GROUP BY takes the name of one or more columns, and treats all rows with the same value in that column as a single group when you apply aggregate functions like COUNT().\n",
    "\n",
    "For example, say we want to know how many of each type of animal we have in the pets table. We can use GROUP BY to group together rows that have the same value in the Animal column, while using COUNT() to find out how many ID's we have in each group."
   ]
  },
  {
   "cell_type": "markdown",
   "id": "b5f04227-9141-45e4-af3c-592b64c6b128",
   "metadata": {},
   "source": [
    "## GROUP BY ... HAVING\n",
    "\n",
    "HAVING is used in combination with GROUP BY to ignore groups that don't meet certain criteria."
   ]
  },
  {
   "cell_type": "code",
   "execution_count": null,
   "id": "2f9041f5-92e9-48d5-9bb0-f3ec24037043",
   "metadata": {},
   "outputs": [],
   "source": []
  },
  {
   "cell_type": "code",
   "execution_count": 2,
   "id": "20cd7c45-7471-45a9-8436-b2192cc237b8",
   "metadata": {},
   "outputs": [],
   "source": [
    "import os\n",
    "import pandas as pd\n",
    "from google.cloud import bigquery"
   ]
  },
  {
   "cell_type": "code",
   "execution_count": 3,
   "id": "1bdffdbc-1c63-4cb2-b3f1-c34b19ef656b",
   "metadata": {},
   "outputs": [],
   "source": [
    "# Set this to the full absolute path of your downloaded key \n",
    "# get the key form google console to be able to access bigquery which is hosted my google\n",
    "os.environ[\"GOOGLE_APPLICATION_CREDENTIALS\"] = \"E:\\\\c_extend\\\\Documents\\\\egerdrive-7433adb919ad.json\"\n",
    "# os.environ[\"GOOGLE_APPLICATION_CREDENTIALS\"] = \"/home/mwaki/Documents/Documents/Credentials/egerdrive-7433adb919ad.json\""
   ]
  },
  {
   "cell_type": "code",
   "execution_count": 4,
   "id": "e76aaf97-43ec-4be7-84f3-8868116a4870",
   "metadata": {},
   "outputs": [],
   "source": [
    "client = bigquery.Client()\n",
    "dataset_ref = client.dataset('hacker_news',project ='bigquery-public-data')\n",
    "dataset = client.get_dataset(dataset_ref)\n",
    "table_ref = dataset_ref.table('full')\n",
    "table = client.get_table(table_ref)"
   ]
  },
  {
   "cell_type": "code",
   "execution_count": 5,
   "id": "f56c3da9-bf8d-4e64-94a6-8e690458c46c",
   "metadata": {},
   "outputs": [
    {
     "data": {
      "text/html": [
       "<div>\n",
       "<style scoped>\n",
       "    .dataframe tbody tr th:only-of-type {\n",
       "        vertical-align: middle;\n",
       "    }\n",
       "\n",
       "    .dataframe tbody tr th {\n",
       "        vertical-align: top;\n",
       "    }\n",
       "\n",
       "    .dataframe thead th {\n",
       "        text-align: right;\n",
       "    }\n",
       "</style>\n",
       "<table border=\"1\" class=\"dataframe\">\n",
       "  <thead>\n",
       "    <tr style=\"text-align: right;\">\n",
       "      <th></th>\n",
       "      <th>title</th>\n",
       "      <th>url</th>\n",
       "      <th>text</th>\n",
       "      <th>dead</th>\n",
       "      <th>by</th>\n",
       "      <th>score</th>\n",
       "      <th>time</th>\n",
       "      <th>timestamp</th>\n",
       "      <th>type</th>\n",
       "      <th>id</th>\n",
       "      <th>parent</th>\n",
       "      <th>descendants</th>\n",
       "      <th>ranking</th>\n",
       "      <th>deleted</th>\n",
       "    </tr>\n",
       "  </thead>\n",
       "  <tbody>\n",
       "    <tr>\n",
       "      <th>0</th>\n",
       "      <td>None</td>\n",
       "      <td>None</td>\n",
       "      <td>None</td>\n",
       "      <td>True</td>\n",
       "      <td>Adoum_Tech</td>\n",
       "      <td>2</td>\n",
       "      <td>1713995025</td>\n",
       "      <td>2024-04-24 21:43:45+00:00</td>\n",
       "      <td>story</td>\n",
       "      <td>40150086</td>\n",
       "      <td>&lt;NA&gt;</td>\n",
       "      <td>&lt;NA&gt;</td>\n",
       "      <td>&lt;NA&gt;</td>\n",
       "      <td>&lt;NA&gt;</td>\n",
       "    </tr>\n",
       "    <tr>\n",
       "      <th>1</th>\n",
       "      <td>None</td>\n",
       "      <td>None</td>\n",
       "      <td>None</td>\n",
       "      <td>True</td>\n",
       "      <td>belter</td>\n",
       "      <td>2</td>\n",
       "      <td>1713995286</td>\n",
       "      <td>2024-04-24 21:48:06+00:00</td>\n",
       "      <td>story</td>\n",
       "      <td>40150135</td>\n",
       "      <td>&lt;NA&gt;</td>\n",
       "      <td>&lt;NA&gt;</td>\n",
       "      <td>&lt;NA&gt;</td>\n",
       "      <td>&lt;NA&gt;</td>\n",
       "    </tr>\n",
       "    <tr>\n",
       "      <th>2</th>\n",
       "      <td>None</td>\n",
       "      <td>None</td>\n",
       "      <td>None</td>\n",
       "      <td>True</td>\n",
       "      <td>Rinzler89</td>\n",
       "      <td>1</td>\n",
       "      <td>1713995678</td>\n",
       "      <td>2024-04-24 21:54:38+00:00</td>\n",
       "      <td>story</td>\n",
       "      <td>40150207</td>\n",
       "      <td>&lt;NA&gt;</td>\n",
       "      <td>&lt;NA&gt;</td>\n",
       "      <td>&lt;NA&gt;</td>\n",
       "      <td>&lt;NA&gt;</td>\n",
       "    </tr>\n",
       "    <tr>\n",
       "      <th>3</th>\n",
       "      <td>None</td>\n",
       "      <td>None</td>\n",
       "      <td>None</td>\n",
       "      <td>True</td>\n",
       "      <td>stockstobuynow</td>\n",
       "      <td>1</td>\n",
       "      <td>1713995704</td>\n",
       "      <td>2024-04-24 21:55:04+00:00</td>\n",
       "      <td>story</td>\n",
       "      <td>40150212</td>\n",
       "      <td>&lt;NA&gt;</td>\n",
       "      <td>&lt;NA&gt;</td>\n",
       "      <td>&lt;NA&gt;</td>\n",
       "      <td>&lt;NA&gt;</td>\n",
       "    </tr>\n",
       "    <tr>\n",
       "      <th>4</th>\n",
       "      <td>None</td>\n",
       "      <td>None</td>\n",
       "      <td>None</td>\n",
       "      <td>True</td>\n",
       "      <td>FLMAN407</td>\n",
       "      <td>1</td>\n",
       "      <td>1713995772</td>\n",
       "      <td>2024-04-24 21:56:12+00:00</td>\n",
       "      <td>story</td>\n",
       "      <td>40150229</td>\n",
       "      <td>&lt;NA&gt;</td>\n",
       "      <td>&lt;NA&gt;</td>\n",
       "      <td>&lt;NA&gt;</td>\n",
       "      <td>&lt;NA&gt;</td>\n",
       "    </tr>\n",
       "  </tbody>\n",
       "</table>\n",
       "</div>"
      ],
      "text/plain": [
       "  title   url  text  dead              by  score        time  \\\n",
       "0  None  None  None  True      Adoum_Tech      2  1713995025   \n",
       "1  None  None  None  True          belter      2  1713995286   \n",
       "2  None  None  None  True       Rinzler89      1  1713995678   \n",
       "3  None  None  None  True  stockstobuynow      1  1713995704   \n",
       "4  None  None  None  True        FLMAN407      1  1713995772   \n",
       "\n",
       "                  timestamp   type        id  parent  descendants  ranking  \\\n",
       "0 2024-04-24 21:43:45+00:00  story  40150086    <NA>         <NA>     <NA>   \n",
       "1 2024-04-24 21:48:06+00:00  story  40150135    <NA>         <NA>     <NA>   \n",
       "2 2024-04-24 21:54:38+00:00  story  40150207    <NA>         <NA>     <NA>   \n",
       "3 2024-04-24 21:55:04+00:00  story  40150212    <NA>         <NA>     <NA>   \n",
       "4 2024-04-24 21:56:12+00:00  story  40150229    <NA>         <NA>     <NA>   \n",
       "\n",
       "   deleted  \n",
       "0     <NA>  \n",
       "1     <NA>  \n",
       "2     <NA>  \n",
       "3     <NA>  \n",
       "4     <NA>  "
      ]
     },
     "execution_count": 5,
     "metadata": {},
     "output_type": "execute_result"
    }
   ],
   "source": [
    "client.list_rows(table,max_results=5).to_dataframe()"
   ]
  },
  {
   "cell_type": "code",
   "execution_count": 6,
   "id": "be0e5ab1-c9ac-4244-8206-7101b33e374a",
   "metadata": {},
   "outputs": [],
   "source": [
    "query_popular = \"\"\"\n",
    "select parent,count(id) from \n",
    "`bigquery-public-data.hacker_news.full`\n",
    "group by parent having count(id) >10\n",
    "\"\"\""
   ]
  },
  {
   "cell_type": "code",
   "execution_count": 7,
   "id": "4f3462a3-6913-4787-817e-9bc113965364",
   "metadata": {},
   "outputs": [
    {
     "name": "stderr",
     "output_type": "stream",
     "text": [
      "C:\\Users\\Admin\\.conda\\envs\\data_science\\Lib\\site-packages\\google\\cloud\\bigquery\\table.py:1957: UserWarning: BigQuery Storage module not found, fetch data with the REST endpoint instead.\n",
      "  warnings.warn(\n"
     ]
    },
    {
     "data": {
      "text/html": [
       "<div>\n",
       "<style scoped>\n",
       "    .dataframe tbody tr th:only-of-type {\n",
       "        vertical-align: middle;\n",
       "    }\n",
       "\n",
       "    .dataframe tbody tr th {\n",
       "        vertical-align: top;\n",
       "    }\n",
       "\n",
       "    .dataframe thead th {\n",
       "        text-align: right;\n",
       "    }\n",
       "</style>\n",
       "<table border=\"1\" class=\"dataframe\">\n",
       "  <thead>\n",
       "    <tr style=\"text-align: right;\">\n",
       "      <th></th>\n",
       "      <th>parent</th>\n",
       "      <th>f0_</th>\n",
       "    </tr>\n",
       "  </thead>\n",
       "  <tbody>\n",
       "    <tr>\n",
       "      <th>0</th>\n",
       "      <td>187977</td>\n",
       "      <td>50</td>\n",
       "    </tr>\n",
       "    <tr>\n",
       "      <th>1</th>\n",
       "      <td>18902561</td>\n",
       "      <td>53</td>\n",
       "    </tr>\n",
       "    <tr>\n",
       "      <th>2</th>\n",
       "      <td>29154216</td>\n",
       "      <td>127</td>\n",
       "    </tr>\n",
       "    <tr>\n",
       "      <th>3</th>\n",
       "      <td>29162551</td>\n",
       "      <td>40</td>\n",
       "    </tr>\n",
       "    <tr>\n",
       "      <th>4</th>\n",
       "      <td>29167580</td>\n",
       "      <td>76</td>\n",
       "    </tr>\n",
       "  </tbody>\n",
       "</table>\n",
       "</div>"
      ],
      "text/plain": [
       "     parent  f0_\n",
       "0    187977   50\n",
       "1  18902561   53\n",
       "2  29154216  127\n",
       "3  29162551   40\n",
       "4  29167580   76"
      ]
     },
     "execution_count": 7,
     "metadata": {},
     "output_type": "execute_result"
    }
   ],
   "source": [
    "# Set up the query (cancel the query if it would use too much of \n",
    "# your quota, with the limit set to 10 GB)\n",
    "safe_config = bigquery.QueryJobConfig(maximum_bytes_billed=10**10)\n",
    "query_job = client.query(query_popular, job_config=safe_config)\n",
    "\n",
    "# API request - run the query, and convert the results to a pandas DataFrame\n",
    "popular_comments = query_job.to_dataframe()\n",
    "\n",
    "# Print the first five rows of the DataFrame\n",
    "popular_comments.head()"
   ]
  },
  {
   "cell_type": "markdown",
   "id": "305263a1-4e7a-41eb-93b4-a47ce5b79ae0",
   "metadata": {},
   "source": [
    "\n",
    "\n",
    "Each row in the popular_comments DataFrame corresponds to a comment that received more than ten replies. For instance, the comment with ID 801208 received 56 replies.\n",
    "## Aliasing and other improvements\n",
    "\n",
    "A couple hints to make your queries even better:\n",
    "\n",
    "    The column resulting from COUNT(id) was called f0__. That's not a very descriptive name. You can change the name by adding AS NumPosts after you specify the aggregation. This is called aliasing, and it will be covered in more detail in an upcoming lesson.\n",
    "    If you are ever unsure what to put inside the COUNT() function, you can do COUNT(1) to count the rows in each group. Most people find it especially readable, because we know it's not focusing on other columns. It also scans less data than if supplied column names (making it faster and using less of your data access quota).\n",
    "\n",
    "Using these tricks, we can rewrite our query:\n"
   ]
  },
  {
   "cell_type": "code",
   "execution_count": 8,
   "id": "1a8263f5-995a-4101-9c81-1a08a68176d9",
   "metadata": {},
   "outputs": [],
   "source": [
    "query_improved = \"\"\"\n",
    "select parent ,count(id) as total_ids \n",
    "from `bigquery-public-data.hacker_news.full`\n",
    "group by parent having count(id)>10\n",
    "\n",
    "\"\"\""
   ]
  },
  {
   "cell_type": "code",
   "execution_count": 9,
   "id": "fd44625b-5607-4bda-94d6-92c051ca41a2",
   "metadata": {},
   "outputs": [
    {
     "name": "stderr",
     "output_type": "stream",
     "text": [
      "C:\\Users\\Admin\\.conda\\envs\\data_science\\Lib\\site-packages\\google\\cloud\\bigquery\\table.py:1957: UserWarning: BigQuery Storage module not found, fetch data with the REST endpoint instead.\n",
      "  warnings.warn(\n"
     ]
    },
    {
     "data": {
      "text/html": [
       "<div>\n",
       "<style scoped>\n",
       "    .dataframe tbody tr th:only-of-type {\n",
       "        vertical-align: middle;\n",
       "    }\n",
       "\n",
       "    .dataframe tbody tr th {\n",
       "        vertical-align: top;\n",
       "    }\n",
       "\n",
       "    .dataframe thead th {\n",
       "        text-align: right;\n",
       "    }\n",
       "</style>\n",
       "<table border=\"1\" class=\"dataframe\">\n",
       "  <thead>\n",
       "    <tr style=\"text-align: right;\">\n",
       "      <th></th>\n",
       "      <th>parent</th>\n",
       "      <th>total_ids</th>\n",
       "    </tr>\n",
       "  </thead>\n",
       "  <tbody>\n",
       "    <tr>\n",
       "      <th>0</th>\n",
       "      <td>9770</td>\n",
       "      <td>292</td>\n",
       "    </tr>\n",
       "    <tr>\n",
       "      <th>1</th>\n",
       "      <td>16474102</td>\n",
       "      <td>41</td>\n",
       "    </tr>\n",
       "    <tr>\n",
       "      <th>2</th>\n",
       "      <td>29154216</td>\n",
       "      <td>127</td>\n",
       "    </tr>\n",
       "    <tr>\n",
       "      <th>3</th>\n",
       "      <td>29162551</td>\n",
       "      <td>40</td>\n",
       "    </tr>\n",
       "    <tr>\n",
       "      <th>4</th>\n",
       "      <td>29167580</td>\n",
       "      <td>76</td>\n",
       "    </tr>\n",
       "  </tbody>\n",
       "</table>\n",
       "</div>"
      ],
      "text/plain": [
       "     parent  total_ids\n",
       "0      9770        292\n",
       "1  16474102         41\n",
       "2  29154216        127\n",
       "3  29162551         40\n",
       "4  29167580         76"
      ]
     },
     "execution_count": 9,
     "metadata": {},
     "output_type": "execute_result"
    }
   ],
   "source": [
    "query_job = client.query(query_improved)\n",
    "query_data = query_job.to_dataframe()\n",
    "query_data.head()"
   ]
  },
  {
   "cell_type": "markdown",
   "id": "975871bd-583a-4a18-877e-d900b8b845b7",
   "metadata": {},
   "source": [
    "\n",
    "\n",
    "Now you have the data you want, and it has descriptive names. That's good style.\n",
    "### Note on using GROUP BY\n",
    "\n",
    "Note that because it tells SQL how to apply aggregate functions (like COUNT()), it doesn't make sense to use GROUP BY without an aggregate function. Similarly, if you have any GROUP BY clause, then all variables must be passed to either a\n",
    "\n",
    "    GROUP BY command, or\n",
    "    an aggregation function.\n",
    "\n",
    "Consider the query below:\n"
   ]
  },
  {
   "cell_type": "code",
   "execution_count": 11,
   "id": "46edd5cc-9614-49b9-9613-d4750f9afcdb",
   "metadata": {},
   "outputs": [],
   "source": [
    "query_good = \"\"\"\n",
    "             SELECT parent, COUNT(id)\n",
    "             FROM `bigquery-public-data.hacker_news.full`\n",
    "             GROUP BY parent\n",
    "             \"\"\""
   ]
  },
  {
   "cell_type": "markdown",
   "id": "6f0b3fca-5260-414a-942f-30ce04ceac12",
   "metadata": {},
   "source": [
    "Note that there are two variables: parent and id.\n",
    "\n",
    "    parent was passed to a GROUP BY command (in GROUP BY parent), and\n",
    "    id was passed to an aggregate function (in COUNT(id)).\n"
   ]
  },
  {
   "cell_type": "code",
   "execution_count": 13,
   "id": "a6233fdc-aa5b-45a1-9561-16339d3bb44b",
   "metadata": {},
   "outputs": [],
   "source": [
    "query_bad = \"\"\"\n",
    "            SELECT `by` AS author, parent, COUNT(id)\n",
    "            FROM `bigquery-public-data.hacker_news.full`\n",
    "            GROUP BY parent\n",
    "            \"\"\""
   ]
  },
  {
   "cell_type": "markdown",
   "id": "53f14d0f-34e7-4b20-a9a6-0ab1d6029a7d",
   "metadata": {},
   "source": [
    "\n",
    "\n",
    "If make this error, you'll get the error message SELECT list expression references column (column's name) which is neither grouped nor aggregated at.\n",
    "\n",
    "You may notice the `by` column in this query is surrounded by backticks. This is because BY is a reserved keyword used in clauses including GROUP BY. In BigQuery reserved keywords used as identifiers must be quoted in backticks to avoid an error. We also make subsequent references to this column more readable by adding an alias to rename it to author"
   ]
  },
  {
   "cell_type": "code",
   "execution_count": null,
   "id": "dad53c48-d4dd-4b34-b9e9-4295b6440ffe",
   "metadata": {},
   "outputs": [],
   "source": []
  }
 ],
 "metadata": {
  "kernelspec": {
   "display_name": "Python 3 (ipykernel)",
   "language": "python",
   "name": "python3"
  },
  "language_info": {
   "codemirror_mode": {
    "name": "ipython",
    "version": 3
   },
   "file_extension": ".py",
   "mimetype": "text/x-python",
   "name": "python",
   "nbconvert_exporter": "python",
   "pygments_lexer": "ipython3",
   "version": "3.13.0"
  }
 },
 "nbformat": 4,
 "nbformat_minor": 5
}
