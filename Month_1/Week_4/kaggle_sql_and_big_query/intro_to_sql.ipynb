{
 "cells": [
  {
   "cell_type": "markdown",
   "id": "5fc6d30d-535b-4e19-91c6-28001905e911",
   "metadata": {},
   "source": [
    "# Introduction\n",
    "\n",
    "Structured Query Language, or SQL, is the programming language used with databases, and it is an important skill for any data scientist. In this course, you'll build your SQL skills using BigQuery, a web service that lets you apply SQL to huge datasets.\n",
    "\n",
    "In this lesson, you'll learn the basics of accessing and examining BigQuery datasets. After you have a handle on these basics, we'll come back to build your SQL skills."
   ]
  },
  {
   "cell_type": "markdown",
   "id": "ee7e009c-b265-4f3e-a987-2401af0f7804",
   "metadata": {},
   "source": [
    "## Your first BigQuery commands\n",
    "\n",
    "To use BigQuery, we'll import the Python package below:"
   ]
  },
  {
   "cell_type": "code",
   "execution_count": 1,
   "id": "ef705d62-1063-45f8-9dc3-1c0862825b69",
   "metadata": {},
   "outputs": [
    {
     "name": "stdout",
     "output_type": "stream",
     "text": [
      "Requirement already satisfied: google-cloud-bigquery in /home/mwaki/miniconda3/envs/hood/lib/python3.13/site-packages (3.34.0)\n",
      "Requirement already satisfied: google-api-core<3.0.0,>=2.11.1 in /home/mwaki/miniconda3/envs/hood/lib/python3.13/site-packages (from google-api-core[grpc]<3.0.0,>=2.11.1->google-cloud-bigquery) (2.25.0)\n",
      "Requirement already satisfied: google-auth<3.0.0,>=2.14.1 in /home/mwaki/miniconda3/envs/hood/lib/python3.13/site-packages (from google-cloud-bigquery) (2.40.3)\n",
      "Requirement already satisfied: google-cloud-core<3.0.0,>=2.4.1 in /home/mwaki/miniconda3/envs/hood/lib/python3.13/site-packages (from google-cloud-bigquery) (2.4.3)\n",
      "Requirement already satisfied: google-resumable-media<3.0.0,>=2.0.0 in /home/mwaki/miniconda3/envs/hood/lib/python3.13/site-packages (from google-cloud-bigquery) (2.7.2)\n",
      "Requirement already satisfied: packaging>=24.2.0 in /home/mwaki/miniconda3/envs/hood/lib/python3.13/site-packages (from google-cloud-bigquery) (24.2)\n",
      "Requirement already satisfied: python-dateutil<3.0.0,>=2.8.2 in /home/mwaki/miniconda3/envs/hood/lib/python3.13/site-packages (from google-cloud-bigquery) (2.9.0.post0)\n",
      "Requirement already satisfied: requests<3.0.0,>=2.21.0 in /home/mwaki/miniconda3/envs/hood/lib/python3.13/site-packages (from google-cloud-bigquery) (2.32.3)\n",
      "Requirement already satisfied: googleapis-common-protos<2.0.0,>=1.56.2 in /home/mwaki/miniconda3/envs/hood/lib/python3.13/site-packages (from google-api-core<3.0.0,>=2.11.1->google-api-core[grpc]<3.0.0,>=2.11.1->google-cloud-bigquery) (1.70.0)\n",
      "Requirement already satisfied: protobuf!=3.20.0,!=3.20.1,!=4.21.0,!=4.21.1,!=4.21.2,!=4.21.3,!=4.21.4,!=4.21.5,<7.0.0,>=3.19.5 in /home/mwaki/miniconda3/envs/hood/lib/python3.13/site-packages (from google-api-core<3.0.0,>=2.11.1->google-api-core[grpc]<3.0.0,>=2.11.1->google-cloud-bigquery) (6.31.1)\n",
      "Requirement already satisfied: proto-plus<2.0.0,>=1.22.3 in /home/mwaki/miniconda3/envs/hood/lib/python3.13/site-packages (from google-api-core<3.0.0,>=2.11.1->google-api-core[grpc]<3.0.0,>=2.11.1->google-cloud-bigquery) (1.26.1)\n",
      "Requirement already satisfied: grpcio<2.0.0,>=1.33.2 in /home/mwaki/miniconda3/envs/hood/lib/python3.13/site-packages (from google-api-core[grpc]<3.0.0,>=2.11.1->google-cloud-bigquery) (1.73.0)\n",
      "Requirement already satisfied: grpcio-status<2.0.0,>=1.33.2 in /home/mwaki/miniconda3/envs/hood/lib/python3.13/site-packages (from google-api-core[grpc]<3.0.0,>=2.11.1->google-cloud-bigquery) (1.73.0)\n",
      "Requirement already satisfied: cachetools<6.0,>=2.0.0 in /home/mwaki/miniconda3/envs/hood/lib/python3.13/site-packages (from google-auth<3.0.0,>=2.14.1->google-cloud-bigquery) (5.5.2)\n",
      "Requirement already satisfied: pyasn1-modules>=0.2.1 in /home/mwaki/miniconda3/envs/hood/lib/python3.13/site-packages (from google-auth<3.0.0,>=2.14.1->google-cloud-bigquery) (0.4.2)\n",
      "Requirement already satisfied: rsa<5,>=3.1.4 in /home/mwaki/miniconda3/envs/hood/lib/python3.13/site-packages (from google-auth<3.0.0,>=2.14.1->google-cloud-bigquery) (4.9.1)\n",
      "Requirement already satisfied: google-crc32c<2.0dev,>=1.0 in /home/mwaki/miniconda3/envs/hood/lib/python3.13/site-packages (from google-resumable-media<3.0.0,>=2.0.0->google-cloud-bigquery) (1.7.1)\n",
      "Requirement already satisfied: six>=1.5 in /home/mwaki/miniconda3/envs/hood/lib/python3.13/site-packages (from python-dateutil<3.0.0,>=2.8.2->google-cloud-bigquery) (1.17.0)\n",
      "Requirement already satisfied: charset-normalizer<4,>=2 in /home/mwaki/miniconda3/envs/hood/lib/python3.13/site-packages (from requests<3.0.0,>=2.21.0->google-cloud-bigquery) (3.3.2)\n",
      "Requirement already satisfied: idna<4,>=2.5 in /home/mwaki/miniconda3/envs/hood/lib/python3.13/site-packages (from requests<3.0.0,>=2.21.0->google-cloud-bigquery) (3.7)\n",
      "Requirement already satisfied: urllib3<3,>=1.21.1 in /home/mwaki/miniconda3/envs/hood/lib/python3.13/site-packages (from requests<3.0.0,>=2.21.0->google-cloud-bigquery) (2.3.0)\n",
      "Requirement already satisfied: certifi>=2017.4.17 in /home/mwaki/miniconda3/envs/hood/lib/python3.13/site-packages (from requests<3.0.0,>=2.21.0->google-cloud-bigquery) (2025.4.26)\n",
      "Requirement already satisfied: pyasn1>=0.1.3 in /home/mwaki/miniconda3/envs/hood/lib/python3.13/site-packages (from rsa<5,>=3.1.4->google-auth<3.0.0,>=2.14.1->google-cloud-bigquery) (0.6.1)\n"
     ]
    }
   ],
   "source": [
    "!pip install google-cloud-bigquery"
   ]
  },
  {
   "cell_type": "code",
   "execution_count": 2,
   "id": "7c3ca7c7-cc96-4cf4-94c1-bba9c468fb87",
   "metadata": {},
   "outputs": [],
   "source": [
    "import os\n",
    "from google.cloud import bigquery"
   ]
  },
  {
   "cell_type": "markdown",
   "id": "218670f2-a44d-4a4d-9d25-639ef0efc258",
   "metadata": {},
   "source": [
    "The first step in the workflow is to create a Client object. As you'll soon see, this Client object will play a central role in retrieving information from BigQuery datasets."
   ]
  },
  {
   "cell_type": "code",
   "execution_count": 3,
   "id": "e6f79cc1-9430-4631-adeb-137d0c1df16f",
   "metadata": {},
   "outputs": [],
   "source": [
    "# Set this to the full absolute path of your downloaded key\n",
    "os.environ[\"GOOGLE_APPLICATION_CREDENTIALS\"] = \"/home/mwaki/Documents/Documents/Credentials/egerdrive-7433adb919ad.json\""
   ]
  },
  {
   "cell_type": "code",
   "execution_count": 4,
   "id": "37ca10e7-ea55-478e-a7ac-1c34fe11ba28",
   "metadata": {},
   "outputs": [],
   "source": [
    "# Create a \"Client\" object\n",
    "client = bigquery.Client()"
   ]
  },
  {
   "cell_type": "markdown",
   "id": "9395307d-242a-4e60-98ef-0e2a5117ed06",
   "metadata": {},
   "source": [
    "We'll work with a dataset of posts on Hacker News, a website focusing on computer science and cybersecurity news.\n",
    "\n",
    "In BigQuery, each dataset is contained in a corresponding project. In this case, our hacker_news dataset is contained in the bigquery-public-data project. To access the dataset,\n",
    "\n",
    "    We begin by constructing a reference to the dataset with the dataset() method.\n",
    "    Next, we use the get_dataset() method, along with the reference we just constructed, to fetch the dataset.\n",
    "\n"
   ]
  },
  {
   "cell_type": "code",
   "execution_count": 5,
   "id": "cb1f2757-aa31-4640-a5d0-7e750aa8c1ee",
   "metadata": {},
   "outputs": [],
   "source": [
    "dataset_ref = client.dataset(\"hacker_news\",project=\"bigquery-public-data\")\n",
    "# Api request - fetch the dataset\n",
    "dataset = client.get_dataset(dataset_ref)"
   ]
  },
  {
   "cell_type": "markdown",
   "id": "0d5cc8f9-88f4-498f-a878-9d9e398b736e",
   "metadata": {},
   "source": [
    "Every dataset is just a collection of tables. You can think of a dataset as a spreadsheet file containing multiple tables, all composed of rows and columns.\n",
    "\n",
    "We use the list_tables() method to list the tables in the dataset.\n"
   ]
  },
  {
   "cell_type": "code",
   "execution_count": 6,
   "id": "6131b880-c114-4fab-a082-8d2f1905b4cd",
   "metadata": {},
   "outputs": [
    {
     "name": "stdout",
     "output_type": "stream",
     "text": [
      "full\n"
     ]
    }
   ],
   "source": [
    "tables = list(client.list_tables(dataset))\n",
    "\n",
    "for table in tables:\n",
    "    print(table.table_id)"
   ]
  },
  {
   "cell_type": "markdown",
   "id": "8b670d9c-1838-4769-be04-35b59fdd8cb5",
   "metadata": {},
   "source": [
    "Similar to how we fetched a dataset, we can fetch a table. In the code cell below, we fetch the full table in the hacker_news dataset."
   ]
  },
  {
   "cell_type": "code",
   "execution_count": 7,
   "id": "d7040750-0610-428b-bb6f-e5a51bf1fbf0",
   "metadata": {},
   "outputs": [],
   "source": [
    "# construct a reference to the full talbe\n",
    "table_ref = dataset_ref.table(\"full\")\n",
    "# api request - fetch the table\n",
    "table = client.get_table(table_ref)"
   ]
  },
  {
   "cell_type": "markdown",
   "id": "6ef44148-36aa-45bf-8131-084f791a7624",
   "metadata": {},
   "source": [
    "Similar to how we fetched a dataset, we can fetch a table. In the code cell below, we fetch the full table in the hacker_news dataset."
   ]
  },
  {
   "cell_type": "markdown",
   "id": "1455e529-b9e9-4958-b34b-19dce43be2da",
   "metadata": {},
   "source": [
    "## Table schema\n",
    "\n",
    "The structure of a table is called its *schema*. We need to understand a table's schema to effectively pull out the data we want.\n",
    "\n",
    "In this example, we'll investigate the full table that we fetched above.\n"
   ]
  },
  {
   "cell_type": "code",
   "execution_count": 8,
   "id": "68514658-1cb6-4c3c-adc1-3a10a4752a6a",
   "metadata": {},
   "outputs": [
    {
     "data": {
      "text/plain": [
       "[SchemaField('title', 'STRING', 'NULLABLE', None, 'Story title', (), None),\n",
       " SchemaField('url', 'STRING', 'NULLABLE', None, 'Story url', (), None),\n",
       " SchemaField('text', 'STRING', 'NULLABLE', None, 'Story or comment text', (), None),\n",
       " SchemaField('dead', 'BOOLEAN', 'NULLABLE', None, 'Is dead?', (), None),\n",
       " SchemaField('by', 'STRING', 'NULLABLE', None, \"The username of the item's author.\", (), None),\n",
       " SchemaField('score', 'INTEGER', 'NULLABLE', None, 'Story score', (), None),\n",
       " SchemaField('time', 'INTEGER', 'NULLABLE', None, 'Unix time', (), None),\n",
       " SchemaField('timestamp', 'TIMESTAMP', 'NULLABLE', None, 'Timestamp for the unix time', (), None),\n",
       " SchemaField('type', 'STRING', 'NULLABLE', None, 'type of details (comment comment_ranking poll story job pollopt)', (), None),\n",
       " SchemaField('id', 'INTEGER', 'NULLABLE', None, \"The item's unique id.\", (), None),\n",
       " SchemaField('parent', 'INTEGER', 'NULLABLE', None, 'Parent comment ID', (), None),\n",
       " SchemaField('descendants', 'INTEGER', 'NULLABLE', None, 'Number of story or poll descendants', (), None),\n",
       " SchemaField('ranking', 'INTEGER', 'NULLABLE', None, 'Comment ranking', (), None),\n",
       " SchemaField('deleted', 'BOOLEAN', 'NULLABLE', None, 'Is deleted?', (), None)]"
      ]
     },
     "execution_count": 8,
     "metadata": {},
     "output_type": "execute_result"
    }
   ],
   "source": [
    "# Print information on all the columns in the \"full\" table in the \"hacker_news\" dataset\n",
    "table.schema"
   ]
  },
  {
   "cell_type": "markdown",
   "id": "adf0ad15-1bbb-4958-a72f-1ac55fd8e3b5",
   "metadata": {},
   "source": [
    "Each SchemaField tells us about a specific column (which we also refer to as a field). In order, the information is:\n",
    "\n",
    "    The name of the column\n",
    "    The field type (or datatype) in the column\n",
    "    The mode of the column ('NULLABLE' means that a column allows NULL values, and is the default)\n",
    "    A description of the data in that column\n",
    "\n",
    "The first field has the SchemaField:\n",
    "\n",
    "SchemaField('by', 'string', 'NULLABLE', \"The username of the item's author.\",())\n",
    "\n",
    "This tells us:\n",
    "\n",
    "    the field (or column) is called by,\n",
    "    the data in this field is strings,\n",
    "    NULL values are allowed, and\n",
    "    it contains the usernames corresponding to each item's author.\n",
    "\n",
    "We can use the list_rows() method to check just the first five lines of of the full table to make sure this is right. (Sometimes databases have outdated descriptions, so it's good to check.) This returns a BigQuery RowIterator object that can quickly be converted to a pandas DataFrame with the to_dataframe() method.\n"
   ]
  },
  {
   "cell_type": "code",
   "execution_count": 9,
   "id": "80a8a8ae-63c8-4226-9ee8-aecbd27aa812",
   "metadata": {},
   "outputs": [
    {
     "name": "stdout",
     "output_type": "stream",
     "text": [
      "Requirement already satisfied: db-dtypes in /home/mwaki/miniconda3/envs/hood/lib/python3.13/site-packages (1.4.3)\n",
      "Requirement already satisfied: numpy>=1.24.0 in /home/mwaki/miniconda3/envs/hood/lib/python3.13/site-packages (from db-dtypes) (2.2.5)\n",
      "Requirement already satisfied: packaging>=24.2.0 in /home/mwaki/miniconda3/envs/hood/lib/python3.13/site-packages (from db-dtypes) (24.2)\n",
      "Requirement already satisfied: pandas>=1.5.3 in /home/mwaki/miniconda3/envs/hood/lib/python3.13/site-packages (from db-dtypes) (2.2.3)\n",
      "Requirement already satisfied: pyarrow>=13.0.0 in /home/mwaki/miniconda3/envs/hood/lib/python3.13/site-packages (from db-dtypes) (20.0.0)\n",
      "Requirement already satisfied: python-dateutil>=2.8.2 in /home/mwaki/miniconda3/envs/hood/lib/python3.13/site-packages (from pandas>=1.5.3->db-dtypes) (2.9.0.post0)\n",
      "Requirement already satisfied: pytz>=2020.1 in /home/mwaki/miniconda3/envs/hood/lib/python3.13/site-packages (from pandas>=1.5.3->db-dtypes) (2024.1)\n",
      "Requirement already satisfied: tzdata>=2022.7 in /home/mwaki/miniconda3/envs/hood/lib/python3.13/site-packages (from pandas>=1.5.3->db-dtypes) (2025.2)\n",
      "Requirement already satisfied: six>=1.5 in /home/mwaki/miniconda3/envs/hood/lib/python3.13/site-packages (from python-dateutil>=2.8.2->pandas>=1.5.3->db-dtypes) (1.17.0)\n"
     ]
    }
   ],
   "source": [
    "!pip install db-dtypes\n"
   ]
  },
  {
   "cell_type": "code",
   "execution_count": 10,
   "id": "39020941-9814-4991-a4a3-f65906d15d53",
   "metadata": {},
   "outputs": [
    {
     "data": {
      "text/html": [
       "<div>\n",
       "<style scoped>\n",
       "    .dataframe tbody tr th:only-of-type {\n",
       "        vertical-align: middle;\n",
       "    }\n",
       "\n",
       "    .dataframe tbody tr th {\n",
       "        vertical-align: top;\n",
       "    }\n",
       "\n",
       "    .dataframe thead th {\n",
       "        text-align: right;\n",
       "    }\n",
       "</style>\n",
       "<table border=\"1\" class=\"dataframe\">\n",
       "  <thead>\n",
       "    <tr style=\"text-align: right;\">\n",
       "      <th></th>\n",
       "      <th>title</th>\n",
       "      <th>url</th>\n",
       "      <th>text</th>\n",
       "      <th>dead</th>\n",
       "      <th>by</th>\n",
       "      <th>score</th>\n",
       "      <th>time</th>\n",
       "      <th>timestamp</th>\n",
       "      <th>type</th>\n",
       "      <th>id</th>\n",
       "      <th>parent</th>\n",
       "      <th>descendants</th>\n",
       "      <th>ranking</th>\n",
       "      <th>deleted</th>\n",
       "    </tr>\n",
       "  </thead>\n",
       "  <tbody>\n",
       "    <tr>\n",
       "      <th>0</th>\n",
       "      <td>None</td>\n",
       "      <td>None</td>\n",
       "      <td>None</td>\n",
       "      <td>&lt;NA&gt;</td>\n",
       "      <td>None</td>\n",
       "      <td>&lt;NA&gt;</td>\n",
       "      <td>1437502056</td>\n",
       "      <td>2015-07-21 18:07:36+00:00</td>\n",
       "      <td>story</td>\n",
       "      <td>9924394</td>\n",
       "      <td>&lt;NA&gt;</td>\n",
       "      <td>&lt;NA&gt;</td>\n",
       "      <td>&lt;NA&gt;</td>\n",
       "      <td>&lt;NA&gt;</td>\n",
       "    </tr>\n",
       "    <tr>\n",
       "      <th>1</th>\n",
       "      <td>None</td>\n",
       "      <td>None</td>\n",
       "      <td>None</td>\n",
       "      <td>&lt;NA&gt;</td>\n",
       "      <td>None</td>\n",
       "      <td>&lt;NA&gt;</td>\n",
       "      <td>1437502282</td>\n",
       "      <td>2015-07-21 18:11:22+00:00</td>\n",
       "      <td>story</td>\n",
       "      <td>9924424</td>\n",
       "      <td>&lt;NA&gt;</td>\n",
       "      <td>&lt;NA&gt;</td>\n",
       "      <td>&lt;NA&gt;</td>\n",
       "      <td>&lt;NA&gt;</td>\n",
       "    </tr>\n",
       "    <tr>\n",
       "      <th>2</th>\n",
       "      <td>None</td>\n",
       "      <td>None</td>\n",
       "      <td>None</td>\n",
       "      <td>&lt;NA&gt;</td>\n",
       "      <td>None</td>\n",
       "      <td>&lt;NA&gt;</td>\n",
       "      <td>1437502311</td>\n",
       "      <td>2015-07-21 18:11:51+00:00</td>\n",
       "      <td>story</td>\n",
       "      <td>9924428</td>\n",
       "      <td>&lt;NA&gt;</td>\n",
       "      <td>&lt;NA&gt;</td>\n",
       "      <td>&lt;NA&gt;</td>\n",
       "      <td>&lt;NA&gt;</td>\n",
       "    </tr>\n",
       "    <tr>\n",
       "      <th>3</th>\n",
       "      <td>None</td>\n",
       "      <td>None</td>\n",
       "      <td>None</td>\n",
       "      <td>&lt;NA&gt;</td>\n",
       "      <td>None</td>\n",
       "      <td>&lt;NA&gt;</td>\n",
       "      <td>1437502371</td>\n",
       "      <td>2015-07-21 18:12:51+00:00</td>\n",
       "      <td>story</td>\n",
       "      <td>9924434</td>\n",
       "      <td>&lt;NA&gt;</td>\n",
       "      <td>&lt;NA&gt;</td>\n",
       "      <td>&lt;NA&gt;</td>\n",
       "      <td>&lt;NA&gt;</td>\n",
       "    </tr>\n",
       "    <tr>\n",
       "      <th>4</th>\n",
       "      <td>None</td>\n",
       "      <td>None</td>\n",
       "      <td>None</td>\n",
       "      <td>&lt;NA&gt;</td>\n",
       "      <td>None</td>\n",
       "      <td>&lt;NA&gt;</td>\n",
       "      <td>1437502867</td>\n",
       "      <td>2015-07-21 18:21:07+00:00</td>\n",
       "      <td>story</td>\n",
       "      <td>9924512</td>\n",
       "      <td>&lt;NA&gt;</td>\n",
       "      <td>&lt;NA&gt;</td>\n",
       "      <td>&lt;NA&gt;</td>\n",
       "      <td>&lt;NA&gt;</td>\n",
       "    </tr>\n",
       "  </tbody>\n",
       "</table>\n",
       "</div>"
      ],
      "text/plain": [
       "  title   url  text  dead    by  score        time                 timestamp  \\\n",
       "0  None  None  None  <NA>  None   <NA>  1437502056 2015-07-21 18:07:36+00:00   \n",
       "1  None  None  None  <NA>  None   <NA>  1437502282 2015-07-21 18:11:22+00:00   \n",
       "2  None  None  None  <NA>  None   <NA>  1437502311 2015-07-21 18:11:51+00:00   \n",
       "3  None  None  None  <NA>  None   <NA>  1437502371 2015-07-21 18:12:51+00:00   \n",
       "4  None  None  None  <NA>  None   <NA>  1437502867 2015-07-21 18:21:07+00:00   \n",
       "\n",
       "    type       id  parent  descendants  ranking  deleted  \n",
       "0  story  9924394    <NA>         <NA>     <NA>     <NA>  \n",
       "1  story  9924424    <NA>         <NA>     <NA>     <NA>  \n",
       "2  story  9924428    <NA>         <NA>     <NA>     <NA>  \n",
       "3  story  9924434    <NA>         <NA>     <NA>     <NA>  \n",
       "4  story  9924512    <NA>         <NA>     <NA>     <NA>  "
      ]
     },
     "execution_count": 10,
     "metadata": {},
     "output_type": "execute_result"
    }
   ],
   "source": [
    "# Preview the first five lines of the \"full\" table\n",
    "client.list_rows(table, max_results=5).to_dataframe()"
   ]
  },
  {
   "cell_type": "markdown",
   "id": "faf56ca1-cdfd-40d1-9d86-6124bb1b09ba",
   "metadata": {},
   "source": [
    "The list_rows() method will also let us look at just the information in a specific column. If we want to see the first five entries in the by column, for example, we can do that!"
   ]
  },
  {
   "cell_type": "code",
   "execution_count": 11,
   "id": "fe4e11cc-ac2a-49e2-914f-45a3297420cc",
   "metadata": {},
   "outputs": [
    {
     "data": {
      "text/html": [
       "<div>\n",
       "<style scoped>\n",
       "    .dataframe tbody tr th:only-of-type {\n",
       "        vertical-align: middle;\n",
       "    }\n",
       "\n",
       "    .dataframe tbody tr th {\n",
       "        vertical-align: top;\n",
       "    }\n",
       "\n",
       "    .dataframe thead th {\n",
       "        text-align: right;\n",
       "    }\n",
       "</style>\n",
       "<table border=\"1\" class=\"dataframe\">\n",
       "  <thead>\n",
       "    <tr style=\"text-align: right;\">\n",
       "      <th></th>\n",
       "      <th>title</th>\n",
       "    </tr>\n",
       "  </thead>\n",
       "  <tbody>\n",
       "    <tr>\n",
       "      <th>0</th>\n",
       "      <td>None</td>\n",
       "    </tr>\n",
       "    <tr>\n",
       "      <th>1</th>\n",
       "      <td>None</td>\n",
       "    </tr>\n",
       "    <tr>\n",
       "      <th>2</th>\n",
       "      <td>None</td>\n",
       "    </tr>\n",
       "    <tr>\n",
       "      <th>3</th>\n",
       "      <td>None</td>\n",
       "    </tr>\n",
       "    <tr>\n",
       "      <th>4</th>\n",
       "      <td>None</td>\n",
       "    </tr>\n",
       "  </tbody>\n",
       "</table>\n",
       "</div>"
      ],
      "text/plain": [
       "  title\n",
       "0  None\n",
       "1  None\n",
       "2  None\n",
       "3  None\n",
       "4  None"
      ]
     },
     "execution_count": 11,
     "metadata": {},
     "output_type": "execute_result"
    }
   ],
   "source": [
    "# Preview the first five entries in the \"by\" column of the \"full\" table\n",
    "client.list_rows(table, selected_fields=table.schema[:1], max_results=5).to_dataframe()"
   ]
  },
  {
   "cell_type": "code",
   "execution_count": null,
   "id": "f7ef7dee-a525-4ca7-958f-57eee1acf0de",
   "metadata": {},
   "outputs": [],
   "source": []
  }
 ],
 "metadata": {
  "kernelspec": {
   "display_name": "Python 3 (ipykernel)",
   "language": "python",
   "name": "python3"
  },
  "language_info": {
   "codemirror_mode": {
    "name": "ipython",
    "version": 3
   },
   "file_extension": ".py",
   "mimetype": "text/x-python",
   "name": "python",
   "nbconvert_exporter": "python",
   "pygments_lexer": "ipython3",
   "version": "3.13.4"
  }
 },
 "nbformat": 4,
 "nbformat_minor": 5
}
