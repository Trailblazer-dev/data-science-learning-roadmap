{
 "cells": [
  {
   "cell_type": "markdown",
   "id": "974238ff-b6d5-4b65-8564-ad46d080a3d9",
   "metadata": {},
   "source": [
    "We'll begin by using the keywords SELECT, FROM, and WHERE to get data from specific columns based on conditions you specify.\n",
    "\n",
    "For clarity, we'll work with a small imaginary dataset pet_records which contains just one table, called pets.\n"
   ]
  },
  {
   "cell_type": "markdown",
   "id": "d182941b-f546-43fb-be3a-3e3bf90aed87",
   "metadata": {},
   "source": [
    "## SELECT ... FROM¶\n",
    "The most basic SQL query selects a single column from a single table. To do this,\n",
    "\n",
    "    specify the column you want after the word SELECT, and then\n",
    "    specify the table after the word FROM.\n",
    "\n",
    "For instance, to select the Name column (from the pets table in the pet_records database in the bigquery-public-data project), our query would appear as follows:\n",
    "```\n",
    "SELECT Name\n",
    "    FROM `bigquery-public-data.pet_records_pets`\n",
    "```\n",
    "\n",
    "Note that when writing an SQL query, the argument we pass to FROM is not in single or double quotation marks (' or \"). It is in backticks (`)."
   ]
  },
  {
   "cell_type": "markdown",
   "id": "d9b9977e-5dc3-4251-ac6e-a63665242b0b",
   "metadata": {},
   "source": [
    "## WHERE ...\n",
    "\n",
    "BigQuery datasets are large, so you'll usually want to return only the rows meeting specific conditions. You can do this using the WHERE clause.\n",
    "\n",
    "The query below returns the entries from the Name column that are in rows where the Animal column has the text 'Cat'."
   ]
  },
  {
   "cell_type": "code",
   "execution_count": 1,
   "id": "480d231e-8a9a-4097-8554-49c3eb0ef8dc",
   "metadata": {},
   "outputs": [],
   "source": [
    "from google.cloud import bigquery\n",
    "import os"
   ]
  },
  {
   "cell_type": "code",
   "execution_count": 2,
   "id": "5d2aef54-89fa-40a5-b3ba-bef8fd98d88e",
   "metadata": {},
   "outputs": [],
   "source": [
    "# Set this to the full absolute path of your downloaded key\n",
    "os.environ[\"GOOGLE_APPLICATION_CREDENTIALS\"] = \"/home/mwaki/Documents/Documents/Credentials/egerdrive-7433adb919ad.json\""
   ]
  },
  {
   "cell_type": "code",
   "execution_count": 3,
   "id": "075f95ee-be3e-4354-a539-e81df58e66e5",
   "metadata": {},
   "outputs": [],
   "source": [
    "# create a Client objec\n",
    "client = bigquery.Client()\n",
    "# construct a reference to the dataset\n",
    "dataset_ref = client.dataset(\"openaq\",project=\"bigquery-public-data\")"
   ]
  },
  {
   "cell_type": "code",
   "execution_count": 4,
   "id": "386c89a1-e419-4cda-be94-de8224dc944f",
   "metadata": {},
   "outputs": [
    {
     "name": "stdout",
     "output_type": "stream",
     "text": [
      "global_air_quality\n"
     ]
    }
   ],
   "source": [
    "# fetch the dataset\n",
    "dataset = client.get_dataset(dataset_ref)\n",
    "tables = list(client.list_tables(dataset))\n",
    "for table in tables:\n",
    "    print(table.table_id)"
   ]
  },
  {
   "cell_type": "markdown",
   "id": "e2c7d762-d7d5-47bb-8033-781a8e1bfd2b",
   "metadata": {},
   "source": [
    "The dataset contains only one table, called global_air_quality. We'll fetch the table and take a peek at the first few rows to see what sort of data it contains"
   ]
  },
  {
   "cell_type": "code",
   "execution_count": 5,
   "id": "fa72704b-5882-476f-a065-9f8f8f3cc8ac",
   "metadata": {},
   "outputs": [
    {
     "data": {
      "text/html": [
       "<div>\n",
       "<style scoped>\n",
       "    .dataframe tbody tr th:only-of-type {\n",
       "        vertical-align: middle;\n",
       "    }\n",
       "\n",
       "    .dataframe tbody tr th {\n",
       "        vertical-align: top;\n",
       "    }\n",
       "\n",
       "    .dataframe thead th {\n",
       "        text-align: right;\n",
       "    }\n",
       "</style>\n",
       "<table border=\"1\" class=\"dataframe\">\n",
       "  <thead>\n",
       "    <tr style=\"text-align: right;\">\n",
       "      <th></th>\n",
       "      <th>location</th>\n",
       "      <th>city</th>\n",
       "      <th>country</th>\n",
       "      <th>pollutant</th>\n",
       "      <th>value</th>\n",
       "      <th>timestamp</th>\n",
       "      <th>unit</th>\n",
       "      <th>source_name</th>\n",
       "      <th>latitude</th>\n",
       "      <th>longitude</th>\n",
       "      <th>averaged_over_in_hours</th>\n",
       "      <th>location_geom</th>\n",
       "    </tr>\n",
       "  </thead>\n",
       "  <tbody>\n",
       "    <tr>\n",
       "      <th>0</th>\n",
       "      <td>Borówiec, ul. Drapałka</td>\n",
       "      <td>Borówiec</td>\n",
       "      <td>PL</td>\n",
       "      <td>bc</td>\n",
       "      <td>0.85217</td>\n",
       "      <td>2022-04-28 07:00:00+00:00</td>\n",
       "      <td>µg/m³</td>\n",
       "      <td>GIOS</td>\n",
       "      <td>1.0</td>\n",
       "      <td>52.276794</td>\n",
       "      <td>17.074114</td>\n",
       "      <td>POINT(52.276794 1)</td>\n",
       "    </tr>\n",
       "    <tr>\n",
       "      <th>1</th>\n",
       "      <td>Kraków, ul. Bulwarowa</td>\n",
       "      <td>Kraków</td>\n",
       "      <td>PL</td>\n",
       "      <td>bc</td>\n",
       "      <td>0.91284</td>\n",
       "      <td>2022-04-27 23:00:00+00:00</td>\n",
       "      <td>µg/m³</td>\n",
       "      <td>GIOS</td>\n",
       "      <td>1.0</td>\n",
       "      <td>50.069308</td>\n",
       "      <td>20.053492</td>\n",
       "      <td>POINT(50.069308 1)</td>\n",
       "    </tr>\n",
       "    <tr>\n",
       "      <th>2</th>\n",
       "      <td>Płock, ul. Reja</td>\n",
       "      <td>Płock</td>\n",
       "      <td>PL</td>\n",
       "      <td>bc</td>\n",
       "      <td>1.41000</td>\n",
       "      <td>2022-03-30 04:00:00+00:00</td>\n",
       "      <td>µg/m³</td>\n",
       "      <td>GIOS</td>\n",
       "      <td>1.0</td>\n",
       "      <td>52.550938</td>\n",
       "      <td>19.709791</td>\n",
       "      <td>POINT(52.550938 1)</td>\n",
       "    </tr>\n",
       "    <tr>\n",
       "      <th>3</th>\n",
       "      <td>Elbląg, ul. Bażyńskiego</td>\n",
       "      <td>Elbląg</td>\n",
       "      <td>PL</td>\n",
       "      <td>bc</td>\n",
       "      <td>0.33607</td>\n",
       "      <td>2022-05-03 13:00:00+00:00</td>\n",
       "      <td>µg/m³</td>\n",
       "      <td>GIOS</td>\n",
       "      <td>1.0</td>\n",
       "      <td>54.167847</td>\n",
       "      <td>19.410942</td>\n",
       "      <td>POINT(54.167847 1)</td>\n",
       "    </tr>\n",
       "    <tr>\n",
       "      <th>4</th>\n",
       "      <td>Piastów, ul. Pułaskiego</td>\n",
       "      <td>Piastów</td>\n",
       "      <td>PL</td>\n",
       "      <td>bc</td>\n",
       "      <td>0.51000</td>\n",
       "      <td>2022-05-11 05:00:00+00:00</td>\n",
       "      <td>µg/m³</td>\n",
       "      <td>GIOS</td>\n",
       "      <td>1.0</td>\n",
       "      <td>52.191728</td>\n",
       "      <td>20.837489</td>\n",
       "      <td>POINT(52.191728 1)</td>\n",
       "    </tr>\n",
       "  </tbody>\n",
       "</table>\n",
       "</div>"
      ],
      "text/plain": [
       "                  location      city country pollutant    value  \\\n",
       "0   Borówiec, ul. Drapałka  Borówiec      PL        bc  0.85217   \n",
       "1    Kraków, ul. Bulwarowa    Kraków      PL        bc  0.91284   \n",
       "2          Płock, ul. Reja     Płock      PL        bc  1.41000   \n",
       "3  Elbląg, ul. Bażyńskiego    Elbląg      PL        bc  0.33607   \n",
       "4  Piastów, ul. Pułaskiego   Piastów      PL        bc  0.51000   \n",
       "\n",
       "                  timestamp   unit source_name  latitude  longitude  \\\n",
       "0 2022-04-28 07:00:00+00:00  µg/m³        GIOS       1.0  52.276794   \n",
       "1 2022-04-27 23:00:00+00:00  µg/m³        GIOS       1.0  50.069308   \n",
       "2 2022-03-30 04:00:00+00:00  µg/m³        GIOS       1.0  52.550938   \n",
       "3 2022-05-03 13:00:00+00:00  µg/m³        GIOS       1.0  54.167847   \n",
       "4 2022-05-11 05:00:00+00:00  µg/m³        GIOS       1.0  52.191728   \n",
       "\n",
       "   averaged_over_in_hours       location_geom  \n",
       "0               17.074114  POINT(52.276794 1)  \n",
       "1               20.053492  POINT(50.069308 1)  \n",
       "2               19.709791  POINT(52.550938 1)  \n",
       "3               19.410942  POINT(54.167847 1)  \n",
       "4               20.837489  POINT(52.191728 1)  "
      ]
     },
     "execution_count": 5,
     "metadata": {},
     "output_type": "execute_result"
    }
   ],
   "source": [
    "table_ref = dataset_ref.table('global_air_quality')\n",
    "table = client.get_table(table_ref)\n",
    "client.list_rows(table,max_results=5).to_dataframe()"
   ]
  },
  {
   "cell_type": "markdown",
   "id": "facd6f8a-187c-4c4a-a03c-1b8f4f0a7b81",
   "metadata": {},
   "source": [
    "Everything looks good! So, let's put together a query. Say we want to select all the values from the city column that are in rows where the country column is 'US' (for \"United States\")."
   ]
  },
  {
   "cell_type": "code",
   "execution_count": 6,
   "id": "b0e34bab-1ab8-4eb3-9266-182e1f36ea71",
   "metadata": {},
   "outputs": [],
   "source": [
    "query = \"\"\"select city from `bigquery-public-data.openaq.global_air_quality`\n",
    "where country='US'\n",
    "\"\"\""
   ]
  },
  {
   "cell_type": "markdown",
   "id": "aacf214a-3288-4129-bbe2-cf34cff94062",
   "metadata": {},
   "source": [
    "## Submitting the query to the dataset\n",
    "\n",
    "We're ready to use this query to get information from the OpenAQ dataset. As in the previous tutorial, the first step is to create a Client object."
   ]
  },
  {
   "cell_type": "code",
   "execution_count": 8,
   "id": "704ecd0c-1141-4f0a-9ec3-74f3d462c7c4",
   "metadata": {},
   "outputs": [],
   "source": [
    "query_job = client.query(query)"
   ]
  },
  {
   "cell_type": "code",
   "execution_count": 9,
   "id": "04a9cde3-fe28-4eda-8371-b4935cf5a80c",
   "metadata": {},
   "outputs": [
    {
     "name": "stderr",
     "output_type": "stream",
     "text": [
      "/home/mwaki/miniconda3/envs/hood/lib/python3.13/site-packages/google/cloud/bigquery/table.py:1957: UserWarning: BigQuery Storage module not found, fetch data with the REST endpoint instead.\n",
      "  warnings.warn(\n"
     ]
    }
   ],
   "source": [
    "us_cities = query_job.to_dataframe()"
   ]
  },
  {
   "cell_type": "code",
   "execution_count": 10,
   "id": "c253a002-41d5-44fd-b579-4aeb1e23829f",
   "metadata": {},
   "outputs": [
    {
     "data": {
      "text/plain": [
       "city\n",
       "Phoenix-Mesa-Scottsdale                     39414\n",
       "Los Angeles-Long Beach-Santa Ana            27479\n",
       "Riverside-San Bernardino-Ontario            26887\n",
       "New York-Northern New Jersey-Long Island    25417\n",
       "San Francisco-Oakland-Fremont               22710\n",
       "Name: count, dtype: int64"
      ]
     },
     "execution_count": 10,
     "metadata": {},
     "output_type": "execute_result"
    }
   ],
   "source": [
    "# What five cities have the most measurements?\n",
    "us_cities.city.value_counts().head()"
   ]
  },
  {
   "cell_type": "code",
   "execution_count": 13,
   "id": "ca09dc70-0d6d-43fa-880c-6775e624d2ea",
   "metadata": {},
   "outputs": [
    {
     "data": {
      "text/plain": [
       "city                                    \n",
       "Phoenix-Mesa-Scottsdale                     39414\n",
       "Los Angeles-Long Beach-Santa Ana            27479\n",
       "Riverside-San Bernardino-Ontario            26887\n",
       "New York-Northern New Jersey-Long Island    25417\n",
       "San Francisco-Oakland-Fremont               22710\n",
       "                                            ...  \n",
       "Fort Walton Beach-Crestview-Destin              1\n",
       "WILL                                            1\n",
       "College Station-Bryan                           1\n",
       "077                                             1\n",
       "019                                             1\n",
       "Name: count, Length: 826, dtype: int64"
      ]
     },
     "execution_count": 13,
     "metadata": {},
     "output_type": "execute_result"
    }
   ],
   "source": [
    "us_cities.value_counts()"
   ]
  },
  {
   "cell_type": "markdown",
   "id": "0d7445c3-bd1d-479a-b3a0-3f06525c5db5",
   "metadata": {},
   "source": [
    "## Q&A: Notes on formatting\n",
    "\n",
    "The formatting of the SQL query might feel unfamiliar. If you have any questions, you can ask in the comments section at the bottom of this page. Here are answers to two common questions:\n",
    "Question: What's up with the triple quotation marks (\"\"\")?\n",
    "\n",
    "**Answer:** These tell Python that everything inside them is a single string, even though we have line breaks in it. The line breaks aren't necessary, but they make it easier to read your query.\n",
    "## Question: Do you need to capitalize SELECT and FROM?\n",
    "\n",
    "**Answer:** No, SQL doesn't care about capitalization. However, it's customary to capitalize your SQL commands, and it makes your queries a bit easier to read.\n"
   ]
  },
  {
   "cell_type": "code",
   "execution_count": null,
   "id": "a420b5bd-4c1d-46ba-a8de-b5022b05dacb",
   "metadata": {},
   "outputs": [],
   "source": []
  }
 ],
 "metadata": {
  "kernelspec": {
   "display_name": "Python 3 (ipykernel)",
   "language": "python",
   "name": "python3"
  },
  "language_info": {
   "codemirror_mode": {
    "name": "ipython",
    "version": 3
   },
   "file_extension": ".py",
   "mimetype": "text/x-python",
   "name": "python",
   "nbconvert_exporter": "python",
   "pygments_lexer": "ipython3",
   "version": "3.13.4"
  }
 },
 "nbformat": 4,
 "nbformat_minor": 5
}
