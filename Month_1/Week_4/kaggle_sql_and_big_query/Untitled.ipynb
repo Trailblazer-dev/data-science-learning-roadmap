{
 "cells": [
  {
   "cell_type": "markdown",
   "id": "683b6c30-ea21-400e-87b5-0debae584fff",
   "metadata": {},
   "source": [
    "## Introduction\n",
    "\n",
    "Now that you can select raw data, you're ready to learn how to group your data and count things within those groups. This can help you answer questions like:\n",
    "\n",
    "    How many of each kind of fruit has our store sold?\n",
    "    How many species of animal has the vet office treated?\n",
    "\n",
    "To do this, you'll learn about three new techniques: GROUP BY, HAVING and COUNT(). Once again, we'll use this made-up table of information on pets."
   ]
  },
  {
   "cell_type": "markdown",
   "id": "d8f9e5dd-9f0d-411f-9834-e6eda57714d1",
   "metadata": {},
   "source": [
    "## COUNT()\n",
    "COUNT(), as you may have guessed from the name, returns a count of things. If you pass it the name of a column, it will return the number of entries in that column.\n",
    "\n",
    "For instance, if we SELECT the COUNT() of the ID column in the pets table, it will return 4, because there are 4 ID's in the table.\n",
    "\n",
    "COUNT() is an example of an aggregate function, which takes many values and returns one. (Other examples of aggregate functions include SUM(), AVG(), MIN(), and MAX().) As you'll notice in the picture above, aggregate functions introduce strange column names (like f0__). Later in this tutorial, you'll learn how to change the name to something more descriptive."
   ]
  },
  {
   "cell_type": "markdown",
   "id": "77c15c68-384b-4da6-a66d-87c0d91c6061",
   "metadata": {},
   "source": [
    "## GROUP BY\n",
    "\n",
    "GROUP BY takes the name of one or more columns, and treats all rows with the same value in that column as a single group when you apply aggregate functions like COUNT().\n",
    "\n",
    "For example, say we want to know how many of each type of animal we have in the pets table. We can use GROUP BY to group together rows that have the same value in the Animal column, while using COUNT() to find out how many ID's we have in each group."
   ]
  },
  {
   "cell_type": "markdown",
   "id": "b5f04227-9141-45e4-af3c-592b64c6b128",
   "metadata": {},
   "source": [
    "## GROUP BY ... HAVING\n",
    "\n",
    "HAVING is used in combination with GROUP BY to ignore groups that don't meet certain criteria."
   ]
  },
  {
   "cell_type": "code",
   "execution_count": null,
   "id": "e07ab786-734a-42e5-8cf4-1185eb228f3f",
   "metadata": {},
   "outputs": [],
   "source": []
  },
  {
   "cell_type": "code",
   "execution_count": null,
   "id": "99f9a5ff-053e-45fb-888e-cf3eb3da4114",
   "metadata": {},
   "outputs": [],
   "source": []
  },
  {
   "cell_type": "code",
   "execution_count": null,
   "id": "7491c1ba-df49-4523-a379-46c73add4d68",
   "metadata": {},
   "outputs": [],
   "source": []
  },
  {
   "cell_type": "code",
   "execution_count": null,
   "id": "2f9041f5-92e9-48d5-9bb0-f3ec24037043",
   "metadata": {},
   "outputs": [],
   "source": []
  },
  {
   "cell_type": "code",
   "execution_count": 5,
   "id": "20cd7c45-7471-45a9-8436-b2192cc237b8",
   "metadata": {},
   "outputs": [],
   "source": [
    "import os\n",
    "from google.cloud import bigquery"
   ]
  },
  {
   "cell_type": "code",
   "execution_count": 6,
   "id": "1bdffdbc-1c63-4cb2-b3f1-c34b19ef656b",
   "metadata": {},
   "outputs": [],
   "source": [
    "# Set this to the full absolute path of your downloaded key\n",
    "os.environ[\"GOOGLE_APPLICATION_CREDENTIALS\"] = \"/home/mwaki/Documents/Documents/Credentials/egerdrive-7433adb919ad.json\""
   ]
  },
  {
   "cell_type": "code",
   "execution_count": 7,
   "id": "e76aaf97-43ec-4be7-84f3-8868116a4870",
   "metadata": {},
   "outputs": [],
   "source": [
    "client = bigquery.Client()\n",
    "dataset_ref = client.dataset('hacker_news',project ='bigquery-public-data')\n",
    "dataset = client.get_dataset(dataset_ref)\n",
    "table_ref = dataset_ref.table('full')\n",
    "table = client.get_table(table_ref)"
   ]
  },
  {
   "cell_type": "code",
   "execution_count": 8,
   "id": "f56c3da9-bf8d-4e64-94a6-8e690458c46c",
   "metadata": {},
   "outputs": [
    {
     "data": {
      "text/html": [
       "<div>\n",
       "<style scoped>\n",
       "    .dataframe tbody tr th:only-of-type {\n",
       "        vertical-align: middle;\n",
       "    }\n",
       "\n",
       "    .dataframe tbody tr th {\n",
       "        vertical-align: top;\n",
       "    }\n",
       "\n",
       "    .dataframe thead th {\n",
       "        text-align: right;\n",
       "    }\n",
       "</style>\n",
       "<table border=\"1\" class=\"dataframe\">\n",
       "  <thead>\n",
       "    <tr style=\"text-align: right;\">\n",
       "      <th></th>\n",
       "      <th>title</th>\n",
       "      <th>url</th>\n",
       "      <th>text</th>\n",
       "      <th>dead</th>\n",
       "      <th>by</th>\n",
       "      <th>score</th>\n",
       "      <th>time</th>\n",
       "      <th>timestamp</th>\n",
       "      <th>type</th>\n",
       "      <th>id</th>\n",
       "      <th>parent</th>\n",
       "      <th>descendants</th>\n",
       "      <th>ranking</th>\n",
       "      <th>deleted</th>\n",
       "    </tr>\n",
       "  </thead>\n",
       "  <tbody>\n",
       "    <tr>\n",
       "      <th>0</th>\n",
       "      <td>None</td>\n",
       "      <td>None</td>\n",
       "      <td>None</td>\n",
       "      <td>&lt;NA&gt;</td>\n",
       "      <td>None</td>\n",
       "      <td>&lt;NA&gt;</td>\n",
       "      <td>1437366626</td>\n",
       "      <td>2015-07-20 04:30:26+00:00</td>\n",
       "      <td>story</td>\n",
       "      <td>9913999</td>\n",
       "      <td>&lt;NA&gt;</td>\n",
       "      <td>&lt;NA&gt;</td>\n",
       "      <td>&lt;NA&gt;</td>\n",
       "      <td>&lt;NA&gt;</td>\n",
       "    </tr>\n",
       "    <tr>\n",
       "      <th>1</th>\n",
       "      <td>None</td>\n",
       "      <td>None</td>\n",
       "      <td>None</td>\n",
       "      <td>&lt;NA&gt;</td>\n",
       "      <td>None</td>\n",
       "      <td>&lt;NA&gt;</td>\n",
       "      <td>1437368572</td>\n",
       "      <td>2015-07-20 05:02:52+00:00</td>\n",
       "      <td>story</td>\n",
       "      <td>9914086</td>\n",
       "      <td>&lt;NA&gt;</td>\n",
       "      <td>&lt;NA&gt;</td>\n",
       "      <td>&lt;NA&gt;</td>\n",
       "      <td>&lt;NA&gt;</td>\n",
       "    </tr>\n",
       "    <tr>\n",
       "      <th>2</th>\n",
       "      <td>None</td>\n",
       "      <td>None</td>\n",
       "      <td>None</td>\n",
       "      <td>&lt;NA&gt;</td>\n",
       "      <td>None</td>\n",
       "      <td>&lt;NA&gt;</td>\n",
       "      <td>1437369080</td>\n",
       "      <td>2015-07-20 05:11:20+00:00</td>\n",
       "      <td>story</td>\n",
       "      <td>9914102</td>\n",
       "      <td>&lt;NA&gt;</td>\n",
       "      <td>&lt;NA&gt;</td>\n",
       "      <td>&lt;NA&gt;</td>\n",
       "      <td>&lt;NA&gt;</td>\n",
       "    </tr>\n",
       "    <tr>\n",
       "      <th>3</th>\n",
       "      <td>None</td>\n",
       "      <td>None</td>\n",
       "      <td>None</td>\n",
       "      <td>&lt;NA&gt;</td>\n",
       "      <td>None</td>\n",
       "      <td>&lt;NA&gt;</td>\n",
       "      <td>1437373322</td>\n",
       "      <td>2015-07-20 06:22:02+00:00</td>\n",
       "      <td>story</td>\n",
       "      <td>9914275</td>\n",
       "      <td>&lt;NA&gt;</td>\n",
       "      <td>&lt;NA&gt;</td>\n",
       "      <td>&lt;NA&gt;</td>\n",
       "      <td>&lt;NA&gt;</td>\n",
       "    </tr>\n",
       "    <tr>\n",
       "      <th>4</th>\n",
       "      <td>None</td>\n",
       "      <td>None</td>\n",
       "      <td>None</td>\n",
       "      <td>True</td>\n",
       "      <td>None</td>\n",
       "      <td>&lt;NA&gt;</td>\n",
       "      <td>1437374323</td>\n",
       "      <td>2015-07-20 06:38:43+00:00</td>\n",
       "      <td>story</td>\n",
       "      <td>9914316</td>\n",
       "      <td>&lt;NA&gt;</td>\n",
       "      <td>&lt;NA&gt;</td>\n",
       "      <td>&lt;NA&gt;</td>\n",
       "      <td>&lt;NA&gt;</td>\n",
       "    </tr>\n",
       "  </tbody>\n",
       "</table>\n",
       "</div>"
      ],
      "text/plain": [
       "  title   url  text  dead    by  score        time                 timestamp  \\\n",
       "0  None  None  None  <NA>  None   <NA>  1437366626 2015-07-20 04:30:26+00:00   \n",
       "1  None  None  None  <NA>  None   <NA>  1437368572 2015-07-20 05:02:52+00:00   \n",
       "2  None  None  None  <NA>  None   <NA>  1437369080 2015-07-20 05:11:20+00:00   \n",
       "3  None  None  None  <NA>  None   <NA>  1437373322 2015-07-20 06:22:02+00:00   \n",
       "4  None  None  None  True  None   <NA>  1437374323 2015-07-20 06:38:43+00:00   \n",
       "\n",
       "    type       id  parent  descendants  ranking  deleted  \n",
       "0  story  9913999    <NA>         <NA>     <NA>     <NA>  \n",
       "1  story  9914086    <NA>         <NA>     <NA>     <NA>  \n",
       "2  story  9914102    <NA>         <NA>     <NA>     <NA>  \n",
       "3  story  9914275    <NA>         <NA>     <NA>     <NA>  \n",
       "4  story  9914316    <NA>         <NA>     <NA>     <NA>  "
      ]
     },
     "execution_count": 8,
     "metadata": {},
     "output_type": "execute_result"
    }
   ],
   "source": [
    "client.list_rows(table,max_results=5).to_dataframe()"
   ]
  },
  {
   "cell_type": "code",
   "execution_count": 9,
   "id": "be0e5ab1-c9ac-4244-8206-7101b33e374a",
   "metadata": {},
   "outputs": [],
   "source": [
    "query_popular = \"\"\"\n",
    "select parent,count(id) from \n",
    "`bigquery-public-data.hacker_news.full`\n",
    "group by parent having count(id) >10\n",
    "\"\"\""
   ]
  },
  {
   "cell_type": "code",
   "execution_count": 10,
   "id": "4f3462a3-6913-4787-817e-9bc113965364",
   "metadata": {},
   "outputs": [
    {
     "name": "stderr",
     "output_type": "stream",
     "text": [
      "/home/mwaki/miniconda3/envs/hood/lib/python3.13/site-packages/google/cloud/bigquery/table.py:1957: UserWarning: BigQuery Storage module not found, fetch data with the REST endpoint instead.\n",
      "  warnings.warn(\n"
     ]
    },
    {
     "data": {
      "text/html": [
       "<div>\n",
       "<style scoped>\n",
       "    .dataframe tbody tr th:only-of-type {\n",
       "        vertical-align: middle;\n",
       "    }\n",
       "\n",
       "    .dataframe tbody tr th {\n",
       "        vertical-align: top;\n",
       "    }\n",
       "\n",
       "    .dataframe thead th {\n",
       "        text-align: right;\n",
       "    }\n",
       "</style>\n",
       "<table border=\"1\" class=\"dataframe\">\n",
       "  <thead>\n",
       "    <tr style=\"text-align: right;\">\n",
       "      <th></th>\n",
       "      <th>parent</th>\n",
       "      <th>f0_</th>\n",
       "    </tr>\n",
       "  </thead>\n",
       "  <tbody>\n",
       "    <tr>\n",
       "      <th>0</th>\n",
       "      <td>9953592</td>\n",
       "      <td>84</td>\n",
       "    </tr>\n",
       "    <tr>\n",
       "      <th>1</th>\n",
       "      <td>9955811</td>\n",
       "      <td>45</td>\n",
       "    </tr>\n",
       "    <tr>\n",
       "      <th>2</th>\n",
       "      <td>8945592</td>\n",
       "      <td>40</td>\n",
       "    </tr>\n",
       "    <tr>\n",
       "      <th>3</th>\n",
       "      <td>8952100</td>\n",
       "      <td>59</td>\n",
       "    </tr>\n",
       "    <tr>\n",
       "      <th>4</th>\n",
       "      <td>9027498</td>\n",
       "      <td>44</td>\n",
       "    </tr>\n",
       "  </tbody>\n",
       "</table>\n",
       "</div>"
      ],
      "text/plain": [
       "    parent  f0_\n",
       "0  9953592   84\n",
       "1  9955811   45\n",
       "2  8945592   40\n",
       "3  8952100   59\n",
       "4  9027498   44"
      ]
     },
     "execution_count": 10,
     "metadata": {},
     "output_type": "execute_result"
    }
   ],
   "source": [
    "# Set up the query (cancel the query if it would use too much of \n",
    "# your quota, with the limit set to 10 GB)\n",
    "safe_config = bigquery.QueryJobConfig(maximum_bytes_billed=10**10)\n",
    "query_job = client.query(query_popular, job_config=safe_config)\n",
    "\n",
    "# API request - run the query, and convert the results to a pandas DataFrame\n",
    "popular_comments = query_job.to_dataframe()\n",
    "\n",
    "# Print the first five rows of the DataFrame\n",
    "popular_comments.head()"
   ]
  },
  {
   "cell_type": "code",
   "execution_count": null,
   "id": "187749af-8d2a-4140-8436-cd8b740416d7",
   "metadata": {},
   "outputs": [],
   "source": []
  }
 ],
 "metadata": {
  "kernelspec": {
   "display_name": "Python 3 (ipykernel)",
   "language": "python",
   "name": "python3"
  },
  "language_info": {
   "codemirror_mode": {
    "name": "ipython",
    "version": 3
   },
   "file_extension": ".py",
   "mimetype": "text/x-python",
   "name": "python",
   "nbconvert_exporter": "python",
   "pygments_lexer": "ipython3",
   "version": "3.13.4"
  }
 },
 "nbformat": 4,
 "nbformat_minor": 5
}
