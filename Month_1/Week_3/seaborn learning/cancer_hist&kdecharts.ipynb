{
 "cells": [
  {
   "cell_type": "markdown",
   "id": "6d8adf02-5f8b-4f38-b6a4-f249b6fc1611",
   "metadata": {},
   "source": [
    "In this exercise, you will use your new knowledge to propose a solution to a real-world scenario. To succeed, you will need to import data into Python, answer questions using the data, and generate histograms and density plots to understand patterns in the data."
   ]
  },
  {
   "cell_type": "markdown",
   "id": "5ca8624a-2d03-40c4-88fe-91771cf33fb3",
   "metadata": {},
   "source": [
    "## Scenario\n",
    "You'll work with a real-world dataset containing information collected from microscopic images of breast cancer tumors, similar to the image below.\n",
    "Each tumor has been labeled as either benign (noncancerous) or malignant (cancerous).\n",
    "\n",
    "To learn more about how this kind of data is used to create intelligent algorithms to classify tumors in medical settings."
   ]
  },
  {
   "cell_type": "markdown",
   "id": "9864ee52-fa00-48a0-9eb1-deb1796c832f",
   "metadata": {},
   "source": [
    "## Setup\n",
    "\n",
    "Run the next cell to import and configure the Python libraries that you need to complete the exercise."
   ]
  },
  {
   "cell_type": "code",
   "execution_count": 1,
   "id": "63e8993c-a2cd-44e2-963b-60e7aa732065",
   "metadata": {},
   "outputs": [],
   "source": [
    "import matplotlib.pyplot as plt\n",
    "import seaborn as sns\n",
    "import pandas as pd"
   ]
  },
  {
   "cell_type": "markdown",
   "id": "0f43cee3-2b17-41e6-b943-811ba577b2f4",
   "metadata": {},
   "source": [
    "## Step 1: Load the data\n",
    "\n",
    "In this step, you will load the data.  \n",
    "    -Load the data file into a DataFrame called cancer_data.  \n",
    "    -The corresponding filepath is cancer_filepath.  \n",
    "    -Use the \"Id\" column to label the rows.  \n"
   ]
  },
  {
   "cell_type": "code",
   "execution_count": 2,
   "id": "bf765f44-18c6-4b30-af70-1e6d1bdc3c9d",
   "metadata": {},
   "outputs": [],
   "source": [
    "cancer_filepath = './cancer.csv'\n",
    "cancer_data = pd.read_csv(cancer_filepath,index_col='Id')"
   ]
  },
  {
   "cell_type": "markdown",
   "id": "f57354fe-2d42-4331-9c20-143cf4b6c815",
   "metadata": {},
   "source": [
    "## Step 2: Review the data\n",
    "\n",
    "Use a Python command to print the first 5 rows of the data."
   ]
  },
  {
   "cell_type": "code",
   "execution_count": 3,
   "id": "0161803f-aa52-4a68-a140-248ee3863308",
   "metadata": {},
   "outputs": [
    {
     "data": {
      "text/html": [
       "<div>\n",
       "<style scoped>\n",
       "    .dataframe tbody tr th:only-of-type {\n",
       "        vertical-align: middle;\n",
       "    }\n",
       "\n",
       "    .dataframe tbody tr th {\n",
       "        vertical-align: top;\n",
       "    }\n",
       "\n",
       "    .dataframe thead th {\n",
       "        text-align: right;\n",
       "    }\n",
       "</style>\n",
       "<table border=\"1\" class=\"dataframe\">\n",
       "  <thead>\n",
       "    <tr style=\"text-align: right;\">\n",
       "      <th></th>\n",
       "      <th>Diagnosis</th>\n",
       "      <th>Radius (mean)</th>\n",
       "      <th>Texture (mean)</th>\n",
       "      <th>Perimeter (mean)</th>\n",
       "      <th>Area (mean)</th>\n",
       "      <th>Smoothness (mean)</th>\n",
       "      <th>Compactness (mean)</th>\n",
       "      <th>Concavity (mean)</th>\n",
       "      <th>Concave points (mean)</th>\n",
       "      <th>Symmetry (mean)</th>\n",
       "      <th>...</th>\n",
       "      <th>Radius (worst)</th>\n",
       "      <th>Texture (worst)</th>\n",
       "      <th>Perimeter (worst)</th>\n",
       "      <th>Area (worst)</th>\n",
       "      <th>Smoothness (worst)</th>\n",
       "      <th>Compactness (worst)</th>\n",
       "      <th>Concavity (worst)</th>\n",
       "      <th>Concave points (worst)</th>\n",
       "      <th>Symmetry (worst)</th>\n",
       "      <th>Fractal dimension (worst)</th>\n",
       "    </tr>\n",
       "    <tr>\n",
       "      <th>Id</th>\n",
       "      <th></th>\n",
       "      <th></th>\n",
       "      <th></th>\n",
       "      <th></th>\n",
       "      <th></th>\n",
       "      <th></th>\n",
       "      <th></th>\n",
       "      <th></th>\n",
       "      <th></th>\n",
       "      <th></th>\n",
       "      <th></th>\n",
       "      <th></th>\n",
       "      <th></th>\n",
       "      <th></th>\n",
       "      <th></th>\n",
       "      <th></th>\n",
       "      <th></th>\n",
       "      <th></th>\n",
       "      <th></th>\n",
       "      <th></th>\n",
       "      <th></th>\n",
       "    </tr>\n",
       "  </thead>\n",
       "  <tbody>\n",
       "    <tr>\n",
       "      <th>8510426</th>\n",
       "      <td>B</td>\n",
       "      <td>13.540</td>\n",
       "      <td>14.36</td>\n",
       "      <td>87.46</td>\n",
       "      <td>566.3</td>\n",
       "      <td>0.09779</td>\n",
       "      <td>0.08129</td>\n",
       "      <td>0.06664</td>\n",
       "      <td>0.047810</td>\n",
       "      <td>0.1885</td>\n",
       "      <td>...</td>\n",
       "      <td>15.110</td>\n",
       "      <td>19.26</td>\n",
       "      <td>99.70</td>\n",
       "      <td>711.2</td>\n",
       "      <td>0.14400</td>\n",
       "      <td>0.17730</td>\n",
       "      <td>0.23900</td>\n",
       "      <td>0.12880</td>\n",
       "      <td>0.2977</td>\n",
       "      <td>0.07259</td>\n",
       "    </tr>\n",
       "    <tr>\n",
       "      <th>8510653</th>\n",
       "      <td>B</td>\n",
       "      <td>13.080</td>\n",
       "      <td>15.71</td>\n",
       "      <td>85.63</td>\n",
       "      <td>520.0</td>\n",
       "      <td>0.10750</td>\n",
       "      <td>0.12700</td>\n",
       "      <td>0.04568</td>\n",
       "      <td>0.031100</td>\n",
       "      <td>0.1967</td>\n",
       "      <td>...</td>\n",
       "      <td>14.500</td>\n",
       "      <td>20.49</td>\n",
       "      <td>96.09</td>\n",
       "      <td>630.5</td>\n",
       "      <td>0.13120</td>\n",
       "      <td>0.27760</td>\n",
       "      <td>0.18900</td>\n",
       "      <td>0.07283</td>\n",
       "      <td>0.3184</td>\n",
       "      <td>0.08183</td>\n",
       "    </tr>\n",
       "    <tr>\n",
       "      <th>8510824</th>\n",
       "      <td>B</td>\n",
       "      <td>9.504</td>\n",
       "      <td>12.44</td>\n",
       "      <td>60.34</td>\n",
       "      <td>273.9</td>\n",
       "      <td>0.10240</td>\n",
       "      <td>0.06492</td>\n",
       "      <td>0.02956</td>\n",
       "      <td>0.020760</td>\n",
       "      <td>0.1815</td>\n",
       "      <td>...</td>\n",
       "      <td>10.230</td>\n",
       "      <td>15.66</td>\n",
       "      <td>65.13</td>\n",
       "      <td>314.9</td>\n",
       "      <td>0.13240</td>\n",
       "      <td>0.11480</td>\n",
       "      <td>0.08867</td>\n",
       "      <td>0.06227</td>\n",
       "      <td>0.2450</td>\n",
       "      <td>0.07773</td>\n",
       "    </tr>\n",
       "    <tr>\n",
       "      <th>854941</th>\n",
       "      <td>B</td>\n",
       "      <td>13.030</td>\n",
       "      <td>18.42</td>\n",
       "      <td>82.61</td>\n",
       "      <td>523.8</td>\n",
       "      <td>0.08983</td>\n",
       "      <td>0.03766</td>\n",
       "      <td>0.02562</td>\n",
       "      <td>0.029230</td>\n",
       "      <td>0.1467</td>\n",
       "      <td>...</td>\n",
       "      <td>13.300</td>\n",
       "      <td>22.81</td>\n",
       "      <td>84.46</td>\n",
       "      <td>545.9</td>\n",
       "      <td>0.09701</td>\n",
       "      <td>0.04619</td>\n",
       "      <td>0.04833</td>\n",
       "      <td>0.05013</td>\n",
       "      <td>0.1987</td>\n",
       "      <td>0.06169</td>\n",
       "    </tr>\n",
       "    <tr>\n",
       "      <th>85713702</th>\n",
       "      <td>B</td>\n",
       "      <td>8.196</td>\n",
       "      <td>16.84</td>\n",
       "      <td>51.71</td>\n",
       "      <td>201.9</td>\n",
       "      <td>0.08600</td>\n",
       "      <td>0.05943</td>\n",
       "      <td>0.01588</td>\n",
       "      <td>0.005917</td>\n",
       "      <td>0.1769</td>\n",
       "      <td>...</td>\n",
       "      <td>8.964</td>\n",
       "      <td>21.96</td>\n",
       "      <td>57.26</td>\n",
       "      <td>242.2</td>\n",
       "      <td>0.12970</td>\n",
       "      <td>0.13570</td>\n",
       "      <td>0.06880</td>\n",
       "      <td>0.02564</td>\n",
       "      <td>0.3105</td>\n",
       "      <td>0.07409</td>\n",
       "    </tr>\n",
       "  </tbody>\n",
       "</table>\n",
       "<p>5 rows × 31 columns</p>\n",
       "</div>"
      ],
      "text/plain": [
       "         Diagnosis  Radius (mean)  Texture (mean)  Perimeter (mean)  \\\n",
       "Id                                                                    \n",
       "8510426          B         13.540           14.36             87.46   \n",
       "8510653          B         13.080           15.71             85.63   \n",
       "8510824          B          9.504           12.44             60.34   \n",
       "854941           B         13.030           18.42             82.61   \n",
       "85713702         B          8.196           16.84             51.71   \n",
       "\n",
       "          Area (mean)  Smoothness (mean)  Compactness (mean)  \\\n",
       "Id                                                             \n",
       "8510426         566.3            0.09779             0.08129   \n",
       "8510653         520.0            0.10750             0.12700   \n",
       "8510824         273.9            0.10240             0.06492   \n",
       "854941          523.8            0.08983             0.03766   \n",
       "85713702        201.9            0.08600             0.05943   \n",
       "\n",
       "          Concavity (mean)  Concave points (mean)  Symmetry (mean)  ...  \\\n",
       "Id                                                                  ...   \n",
       "8510426            0.06664               0.047810           0.1885  ...   \n",
       "8510653            0.04568               0.031100           0.1967  ...   \n",
       "8510824            0.02956               0.020760           0.1815  ...   \n",
       "854941             0.02562               0.029230           0.1467  ...   \n",
       "85713702           0.01588               0.005917           0.1769  ...   \n",
       "\n",
       "          Radius (worst)  Texture (worst)  Perimeter (worst)  Area (worst)  \\\n",
       "Id                                                                           \n",
       "8510426           15.110            19.26              99.70         711.2   \n",
       "8510653           14.500            20.49              96.09         630.5   \n",
       "8510824           10.230            15.66              65.13         314.9   \n",
       "854941            13.300            22.81              84.46         545.9   \n",
       "85713702           8.964            21.96              57.26         242.2   \n",
       "\n",
       "          Smoothness (worst)  Compactness (worst)  Concavity (worst)  \\\n",
       "Id                                                                     \n",
       "8510426              0.14400              0.17730            0.23900   \n",
       "8510653              0.13120              0.27760            0.18900   \n",
       "8510824              0.13240              0.11480            0.08867   \n",
       "854941               0.09701              0.04619            0.04833   \n",
       "85713702             0.12970              0.13570            0.06880   \n",
       "\n",
       "          Concave points (worst)  Symmetry (worst)  Fractal dimension (worst)  \n",
       "Id                                                                             \n",
       "8510426                  0.12880            0.2977                    0.07259  \n",
       "8510653                  0.07283            0.3184                    0.08183  \n",
       "8510824                  0.06227            0.2450                    0.07773  \n",
       "854941                   0.05013            0.1987                    0.06169  \n",
       "85713702                 0.02564            0.3105                    0.07409  \n",
       "\n",
       "[5 rows x 31 columns]"
      ]
     },
     "execution_count": 3,
     "metadata": {},
     "output_type": "execute_result"
    }
   ],
   "source": [
    "cancer_data.head()"
   ]
  },
  {
   "cell_type": "markdown",
   "id": "0073f241-39e1-42ca-b1b4-ca332f9502a1",
   "metadata": {},
   "source": [
    "In the dataset, each row corresponds to a different image. The dataset has 31 different columns, corresponding to:  \n",
    "\n",
    "    - 1 column ('Diagnosis') that classifies tumors as either benign (which appears in the dataset as B) or malignant (M), and  \n",
    "    - 30 columns containing different measurements collected from the images.  \n",
    "\n",
    "Use the first 5 rows of the data to answer the questions below.\n"
   ]
  },
  {
   "cell_type": "code",
   "execution_count": null,
   "id": "19b1df90-f1f2-481d-a452-7cf3c420e648",
   "metadata": {},
   "outputs": [],
   "source": []
  },
  {
   "cell_type": "markdown",
   "id": "028f5c36-860a-42f7-87e2-0373d4f1fa4e",
   "metadata": {},
   "source": [
    "## Step 3: Investigating differences\n",
    "### Part A\n",
    "\n",
    "Use the code cell below to create two histograms that show the distribution in values for 'Area (mean)', separately for both benign and malignant tumors. (To permit easy comparison, create a single figure containing both histograms in the code cell below.)\n"
   ]
  },
  {
   "cell_type": "code",
   "execution_count": 4,
   "id": "e130cdb2-31d3-4874-a4a0-19df9aa680d1",
   "metadata": {},
   "outputs": [
    {
     "data": {
      "text/plain": [
       "<Axes: xlabel='Area (mean)', ylabel='Count'>"
      ]
     },
     "execution_count": 4,
     "metadata": {},
     "output_type": "execute_result"
    },
    {
     "data": {
      "image/png": "[encoded data removed]",
      "text/plain": [
       "<Figure size 640x480 with 1 Axes>"
      ]
     },
     "metadata": {},
     "output_type": "display_data"
    }
   ],
   "source": [
    "sns.histplot(data=cancer_data,x='Area (mean)',hue='Diagnosis')"
   ]
  },
  {
   "cell_type": "markdown",
   "id": "88c2a48b-fd62-41c2-a44e-601aa2e99db7",
   "metadata": {},
   "source": [
    "### Part B\n",
    "\n",
    "A researcher approaches you for help with identifying how the 'Area (mean)' column can be used to understand the difference between benign and malignant tumors. Based on the histograms above,:  \n",
    "\n",
    "    Do malignant tumors have higher or lower values for 'Area (mean)' (relative to benign tumors), on average?  \n",
    "    Which tumor type seems to have a larger range of potential values?\n",
    "\n"
   ]
  },
  {
   "cell_type": "markdown",
   "id": "57a11ed9-bb89-4e15-8a78-3b4eb0a9da00",
   "metadata": {},
   "source": [
    "**solution**  \n",
    "Malignant tumors have higher values for 'Area (mean)', on average. Malignant tumors have a larger range of potential values."
   ]
  },
  {
   "cell_type": "markdown",
   "id": "50b91ac7-5652-45fa-933e-1ab5404edbbb",
   "metadata": {},
   "source": [
    "## Step 4: A very useful column\n",
    "### Part A\n",
    "\n",
    "Use the code cell below to create two KDE plots that show the distribution in values for 'Radius (worst)', separately for both benign and malignant tumors. (To permit easy comparison, create a single figure containing both KDE plots in the code cell below.)"
   ]
  },
  {
   "cell_type": "code",
   "execution_count": 6,
   "id": "bb79181e-c976-45bf-9e38-3dbfc1761aef",
   "metadata": {},
   "outputs": [
    {
     "data": {
      "text/plain": [
       "<Axes: xlabel='Radius (worst)', ylabel='Density'>"
      ]
     },
     "execution_count": 6,
     "metadata": {},
     "output_type": "execute_result"
    },
    {
     "data": {
      "image/png": "[encoded data removed]",
      "text/plain": [
       "<Figure size 640x480 with 1 Axes>"
      ]
     },
     "metadata": {},
     "output_type": "display_data"
    }
   ],
   "source": [
    "sns.kdeplot(data=cancer_data,x='Radius (worst)',hue='Diagnosis')"
   ]
  },
  {
   "cell_type": "markdown",
   "id": "22cfc60c-c4b7-473f-bc25-62ca1f53edff",
   "metadata": {},
   "source": [
    "### Part B\n",
    "\n",
    "A hospital has recently started using an algorithm that can diagnose tumors with high accuracy. Given a tumor with a value for 'Radius (worst)' of 25, do you think the algorithm is more likely to classify the tumor as benign or malignant?"
   ]
  },
  {
   "cell_type": "markdown",
   "id": "77eeb97a-2516-4080-86fc-45f450245240",
   "metadata": {},
   "source": [
    "**solution**  \n",
    "The algorithm is more likely to classify the tumor as malignant. This is because the curve for malignant tumors is much higher than the curve for benign tumors around a value of 25 -- and an algorithm that gets high accuracy is likely to make decisions based on this pattern in the data."
   ]
  }
 ],
 "metadata": {
  "kernelspec": {
   "display_name": "Python 3 (ipykernel)",
   "language": "python",
   "name": "python3"
  },
  "language_info": {
   "codemirror_mode": {
    "name": "ipython",
    "version": 3
   },
   "file_extension": ".py",
   "mimetype": "text/x-python",
   "name": "python",
   "nbconvert_exporter": "python",
   "pygments_lexer": "ipython3",
   "version": "3.11.11"
  }
 },
 "nbformat": 4,
 "nbformat_minor": 5
}
