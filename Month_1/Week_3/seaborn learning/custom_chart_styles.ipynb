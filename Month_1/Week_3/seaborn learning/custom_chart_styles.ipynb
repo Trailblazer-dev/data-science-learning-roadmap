{
 "cells": [
  {
   "cell_type": "markdown",
   "id": "13c16735-622d-4498-9466-a4490bcade0d",
   "metadata": {},
   "source": [
    "Since it's not always easy to decide how to best tell the story behind your data, we've broken the chart types into three broad categories to help with this.\n",
    "\n",
    "### 📈 Trends\n",
    "A trend is defined as a pattern of change.\n",
    "\n",
    "- `sns.lineplot` – Line charts are best to show trends over a period of time, and multiple lines can be used to show trends in more than one group.\n",
    "\n",
    "---\n",
    "\n",
    "### 🔗 Relationship\n",
    "These chart types help you understand relationships between variables in your data.\n",
    "\n",
    "- `sns.barplot` – Bar charts are useful for comparing quantities corresponding to different groups.\n",
    "- `sns.heatmap` – Heatmaps can be used to find color-coded patterns in tables of numbers.\n",
    "- `sns.scatterplot` – Scatter plots show the relationship between two continuous variables; if color-coded, we can also show the relationship with a third categorical variable.\n",
    "- `sns.regplot` – Including a regression line in the scatter plot makes it easier to see any linear relationship between two variables.\n",
    "- `sns.lmplot` – Useful for drawing multiple regression lines, if the scatter plot contains multiple, color-coded groups.\n",
    "- `sns.swarmplot` – Categorical scatter plots show the relationship between a continuous variable and a categorical variable.\n",
    "\n",
    "---\n",
    "\n",
    "### 📊 Distribution\n",
    "We visualize distributions to show the possible values we can expect to see in a variable, along with how likely they are.\n",
    "\n",
    "- `sns.histplot` – Histograms show the distribution of a single numerical variable.\n",
    "- `sns.kdeplot` – KDE plots (or 2D KDE plots) show an estimated, smooth distribution of a single numerical variable (or two numerical variables).\n",
    "- `sns.jointplot` – Useful for simultaneously displaying a 2D KDE plot with the corresponding KDE plots for each individual variable.\n"
   ]
  },
  {
   "cell_type": "markdown",
   "id": "2b812ac3-f351-4a15-a947-fb11ee03a4a3",
   "metadata": {},
   "source": [
    "## Changing styles with seaborn¶\n",
    "\n",
    "All of the commands have provided a nice, default style to each of the plots. However, you may find it useful to customize how your plots look, and thankfully, this can be accomplished by just adding one more line of code!"
   ]
  },
  {
   "cell_type": "markdown",
   "id": "435b6e3d-9994-4faf-87da-47578054389d",
   "metadata": {},
   "source": [
    "Seaborn has five different themes: (1)\"darkgrid\", (2)\"whitegrid\", (3)\"dark\", (4)\"white\", and (5)\"ticks\", and you need only use a command similar to the one in the code cell above (with the chosen theme filled in) to change it."
   ]
  },
  {
   "cell_type": "code",
   "execution_count": null,
   "id": "beda8d6c-a6c8-4c71-a54b-d2f05c3ffc8c",
   "metadata": {},
   "outputs": [],
   "source": []
  }
 ],
 "metadata": {
  "kernelspec": {
   "display_name": "Python 3 (ipykernel)",
   "language": "python",
   "name": "python3"
  },
  "language_info": {
   "codemirror_mode": {
    "name": "ipython",
    "version": 3
   },
   "file_extension": ".py",
   "mimetype": "text/x-python",
   "name": "python",
   "nbconvert_exporter": "python",
   "pygments_lexer": "ipython3",
   "version": "3.11.11"
  }
 },
 "nbformat": 4,
 "nbformat_minor": 5
}
