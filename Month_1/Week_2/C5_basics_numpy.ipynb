{
 "cells": [
  {
   "cell_type": "markdown",
   "id": "a57635fd-5024-49ca-9943-2b8fd5e2e49f",
   "metadata": {},
   "source": [
    "# Chapter 5. The Basics of Numpy Arrays\n",
    "**This chapter will present several examples of using NumPy\n",
    "array manipulation to access data and subarrays, and to split, reshape, and\n",
    "join the arrays.**"
   ]
  },
  {
   "cell_type": "code",
   "execution_count": 1,
   "id": "aa23d85f-bd56-4042-9d5b-842faece5d22",
   "metadata": {},
   "outputs": [],
   "source": [
    "import numpy as np"
   ]
  },
  {
   "cell_type": "markdown",
   "id": "b0299785-e266-4574-891b-6f51417ebea3",
   "metadata": {},
   "source": [
    "## Array Attributes"
   ]
  },
  {
   "cell_type": "code",
   "execution_count": 5,
   "id": "b78fc3ec-a232-4374-a263-31739313ece7",
   "metadata": {},
   "outputs": [],
   "source": [
    "# we'll use numpy random number generator\n",
    "rng = np.random.default_rng(seed=1702)\n",
    "# we have used seed to ensure the same random array are generated each timethis code is run"
   ]
  },
  {
   "cell_type": "code",
   "execution_count": 7,
   "id": "4fd382d4-f2ff-41ba-9179-584d4d2302df",
   "metadata": {},
   "outputs": [],
   "source": [
    "x1 = rng.integers(10,size=6)# one dimensional array\n",
    "x2 = rng.integers(10,size=(3,4)) # two dimensional array\n",
    "x3 = rng.integers(10,size=(3,4,5)) # three dimensional array"
   ]
  },
  {
   "cell_type": "markdown",
   "id": "7241a060-d191-4ff2-9923-d5a5f2531c8c",
   "metadata": {},
   "source": [
    "### Each array has attributes including ndim (the number of dimensions),shape (the size of each dimension), size (the total size of the array), and dtype (the type of each element):"
   ]
  },
  {
   "cell_type": "code",
   "execution_count": 8,
   "id": "15045227-fd09-4557-9504-b8f3a725a4fa",
   "metadata": {},
   "outputs": [
    {
     "name": "stdout",
     "output_type": "stream",
     "text": [
      "x3 ndim:  3\n"
     ]
    }
   ],
   "source": [
    "print(\"x3 ndim: \",x3.ndim)"
   ]
  },
  {
   "cell_type": "code",
   "execution_count": 9,
   "id": "1c9e0413-0eaf-448a-98ac-75eac781d987",
   "metadata": {},
   "outputs": [
    {
     "name": "stdout",
     "output_type": "stream",
     "text": [
      "x3 shape:  (3, 4, 5)\n"
     ]
    }
   ],
   "source": [
    "print(\"x3 shape: \",x3.shape)"
   ]
  },
  {
   "cell_type": "code",
   "execution_count": 10,
   "id": "2dbecd52-e08b-4075-838f-5f1b6e627ca8",
   "metadata": {},
   "outputs": [
    {
     "name": "stdout",
     "output_type": "stream",
     "text": [
      "x3 size:  60\n"
     ]
    }
   ],
   "source": [
    "print(\"x3 size: \",x3.size)"
   ]
  },
  {
   "cell_type": "code",
   "execution_count": 11,
   "id": "c6b7d818-3556-4727-891b-2598c93dff8e",
   "metadata": {},
   "outputs": [
    {
     "name": "stdout",
     "output_type": "stream",
     "text": [
      "x3 dtype:  int64\n"
     ]
    }
   ],
   "source": [
    "print(\"x3 dtype: \",x3.dtype)"
   ]
  },
  {
   "cell_type": "code",
   "execution_count": 12,
   "id": "83d78ad8-a8e0-4244-a2c2-0db6171f553b",
   "metadata": {},
   "outputs": [
    {
     "data": {
      "text/plain": [
       "array([8, 1, 4, 7, 5, 3])"
      ]
     },
     "execution_count": 12,
     "metadata": {},
     "output_type": "execute_result"
    }
   ],
   "source": [
    "x1"
   ]
  },
  {
   "cell_type": "markdown",
   "id": "0155b41f-070e-4067-a03e-36b01c21538c",
   "metadata": {},
   "source": [
    "## Array Slicing: Accessing Subarrays"
   ]
  },
  {
   "cell_type": "markdown",
   "id": "1c744f70-35da-4508-b554-ec83303d6d2d",
   "metadata": {},
   "source": [
    "### One-Dimensional Subarrays"
   ]
  },
  {
   "cell_type": "code",
   "execution_count": 13,
   "id": "310e0c92-381a-437f-bb37-c2d60e793103",
   "metadata": {},
   "outputs": [
    {
     "data": {
      "text/plain": [
       "array([8, 1, 4])"
      ]
     },
     "execution_count": 13,
     "metadata": {},
     "output_type": "execute_result"
    }
   ],
   "source": [
    "x1[:3] # outputs for the 0 to 2 Index"
   ]
  },
  {
   "cell_type": "code",
   "execution_count": 15,
   "id": "f5677752-a845-4cad-82af-db21afdfa85d",
   "metadata": {},
   "outputs": [
    {
     "data": {
      "text/plain": [
       "array([7, 5, 3])"
      ]
     },
     "execution_count": 15,
     "metadata": {},
     "output_type": "execute_result"
    }
   ],
   "source": [
    "x1[3:] #outputs from 3 to the end "
   ]
  },
  {
   "cell_type": "code",
   "execution_count": 16,
   "id": "9b414934-b277-4d19-aca2-0975ceb16284",
   "metadata": {},
   "outputs": [
    {
     "data": {
      "text/plain": [
       "array([1, 4, 7])"
      ]
     },
     "execution_count": 16,
     "metadata": {},
     "output_type": "execute_result"
    }
   ],
   "source": [
    "x1[1:4] # outputs from 1 index to 3 index"
   ]
  },
  {
   "cell_type": "code",
   "execution_count": 19,
   "id": "3444c814-66c0-42c3-b610-1a211a2e2e1d",
   "metadata": {},
   "outputs": [
    {
     "data": {
      "text/plain": [
       "array([8, 4, 5])"
      ]
     },
     "execution_count": 19,
     "metadata": {},
     "output_type": "execute_result"
    }
   ],
   "source": [
    "x1[::2] # outputs fromt the first element then the second(2) jumps 1 element"
   ]
  },
  {
   "cell_type": "code",
   "execution_count": 20,
   "id": "df3d68a2-d76d-46ed-9646-b1866da223ac",
   "metadata": {},
   "outputs": [
    {
     "data": {
      "text/plain": [
       "array([8, 7])"
      ]
     },
     "execution_count": 20,
     "metadata": {},
     "output_type": "execute_result"
    }
   ],
   "source": [
    "x1[::3] #outputs form the first and jumps 2"
   ]
  },
  {
   "cell_type": "code",
   "execution_count": 21,
   "id": "823426ad-4c13-41d3-a162-279f84abab56",
   "metadata": {},
   "outputs": [
    {
     "data": {
      "text/plain": [
       "array([1, 7, 3])"
      ]
     },
     "execution_count": 21,
     "metadata": {},
     "output_type": "execute_result"
    }
   ],
   "source": [
    "x1[1::2] #outputs from the index[1] then jumps 1 element"
   ]
  },
  {
   "cell_type": "code",
   "execution_count": 22,
   "id": "f730e8c3-07ac-4431-94a3-d35281ad52b0",
   "metadata": {},
   "outputs": [
    {
     "data": {
      "text/plain": [
       "array([3, 5, 7, 4, 1, 8])"
      ]
     },
     "execution_count": 22,
     "metadata": {},
     "output_type": "execute_result"
    }
   ],
   "source": [
    "x1[::-1] # all elements , reversed"
   ]
  },
  {
   "cell_type": "code",
   "execution_count": 23,
   "id": "a40492f3-df99-4ac0-863c-6152fd210ebf",
   "metadata": {},
   "outputs": [
    {
     "data": {
      "text/plain": [
       "array([5, 4, 8])"
      ]
     },
     "execution_count": 23,
     "metadata": {},
     "output_type": "execute_result"
    }
   ],
   "source": [
    "x1[4::-2] # array([8, 1, 4, 7, 5, 3]) starts from index[4] the reverse jumping 1 elements"
   ]
  },
  {
   "cell_type": "markdown",
   "id": "7d8bef1d-5a78-421f-9f17-e3a56ffe3474",
   "metadata": {},
   "source": [
    "### Multidimensional Subarrays"
   ]
  },
  {
   "cell_type": "code",
   "execution_count": 24,
   "id": "07a587fb-393d-42ae-9bc7-69c649c0ae57",
   "metadata": {},
   "outputs": [
    {
     "data": {
      "text/plain": [
       "array([[9, 1, 1, 1],\n",
       "       [1, 3, 6, 4],\n",
       "       [3, 3, 7, 5]])"
      ]
     },
     "execution_count": 24,
     "metadata": {},
     "output_type": "execute_result"
    }
   ],
   "source": [
    "x2"
   ]
  },
  {
   "cell_type": "code",
   "execution_count": 27,
   "id": "1392aeee-3605-4c75-ba35-7ac4abf200d6",
   "metadata": {},
   "outputs": [
    {
     "data": {
      "text/plain": [
       "array([[9, 1, 1],\n",
       "       [1, 3, 6]])"
      ]
     },
     "execution_count": 27,
     "metadata": {},
     "output_type": "execute_result"
    }
   ],
   "source": [
    "x2[:2,:3] #starts from 0 rows to 2 row and from 0 column to 2 column"
   ]
  },
  {
   "cell_type": "code",
   "execution_count": 28,
   "id": "2a1e7480-5610-4bec-ab67-9aad4cc5d7df",
   "metadata": {},
   "outputs": [
    {
     "data": {
      "text/plain": [
       "array([[9, 1],\n",
       "       [1, 6],\n",
       "       [3, 7]])"
      ]
     },
     "execution_count": 28,
     "metadata": {},
     "output_type": "execute_result"
    }
   ],
   "source": [
    "x2[:3,::2] #start for 0 rows to 3 rows then on the column it jumps 1"
   ]
  },
  {
   "cell_type": "code",
   "execution_count": 30,
   "id": "c49fb9f1-ce8a-49a4-8a04-e74bd2b704c0",
   "metadata": {},
   "outputs": [
    {
     "data": {
      "text/plain": [
       "array([[5, 7, 3, 3],\n",
       "       [4, 6, 3, 1],\n",
       "       [1, 1, 1, 9]])"
      ]
     },
     "execution_count": 30,
     "metadata": {},
     "output_type": "execute_result"
    }
   ],
   "source": [
    "x2[::-1,::-1] #all rows and columns,reversed"
   ]
  },
  {
   "cell_type": "code",
   "execution_count": 31,
   "id": "25730a36-2355-4b6f-abd6-21697209bbbb",
   "metadata": {},
   "outputs": [
    {
     "data": {
      "text/plain": [
       "array([9, 1, 3])"
      ]
     },
     "execution_count": 31,
     "metadata": {},
     "output_type": "execute_result"
    }
   ],
   "source": [
    "x2[:,0]"
   ]
  },
  {
   "cell_type": "markdown",
   "id": "c0a5825e-2e6b-4091-abc2-8352cdfa97cb",
   "metadata": {},
   "source": [
    "**Subarrays as No-Copy Views**"
   ]
  },
  {
   "cell_type": "code",
   "execution_count": 32,
   "id": "5a6f2d9c-5b82-40fc-95d8-ccc4d118e87b",
   "metadata": {},
   "outputs": [
    {
     "name": "stdout",
     "output_type": "stream",
     "text": [
      "[[9 1 1 1]\n",
      " [1 3 6 4]\n",
      " [3 3 7 5]]\n"
     ]
    }
   ],
   "source": [
    "print(x2)"
   ]
  },
  {
   "cell_type": "code",
   "execution_count": 34,
   "id": "49a89333-08fd-4a2e-80fb-da553ffc5f1a",
   "metadata": {},
   "outputs": [
    {
     "name": "stdout",
     "output_type": "stream",
     "text": [
      "[[9 1]\n",
      " [1 3]]\n"
     ]
    }
   ],
   "source": [
    "x2_copy=x2[:2,:2]\n",
    "print(x2_copy)"
   ]
  },
  {
   "cell_type": "code",
   "execution_count": 35,
   "id": "b47cadc4-b339-4c69-9750-c4d1d830df99",
   "metadata": {},
   "outputs": [
    {
     "name": "stdout",
     "output_type": "stream",
     "text": [
      "[[99  1]\n",
      " [ 1  3]]\n"
     ]
    }
   ],
   "source": [
    "x2_copy[0,0] = 99\n",
    "print(x2_copy)"
   ]
  },
  {
   "cell_type": "code",
   "execution_count": 37,
   "id": "fca8886e-21a9-4717-913d-a652f3e4d95b",
   "metadata": {},
   "outputs": [
    {
     "name": "stdout",
     "output_type": "stream",
     "text": [
      "[[99  1  1  1]\n",
      " [ 1  3  6  4]\n",
      " [ 3  3  7  5]]\n"
     ]
    }
   ],
   "source": [
    "print(x2) # if we modify this subarray, we’ll see that the original array is changed!"
   ]
  },
  {
   "cell_type": "markdown",
   "id": "86cbe850-e3d4-4c62-a52d-2947f6c78b34",
   "metadata": {},
   "source": [
    "### Creating Copies of Arrays"
   ]
  },
  {
   "cell_type": "code",
   "execution_count": 38,
   "id": "6de13496-2bca-4c08-9e49-ad55ecc62178",
   "metadata": {},
   "outputs": [
    {
     "name": "stdout",
     "output_type": "stream",
     "text": [
      "[[99  1]\n",
      " [ 1  3]]\n"
     ]
    }
   ],
   "source": [
    "x2_copy = x2[:2,:2].copy()\n",
    "print(x2_copy)"
   ]
  },
  {
   "cell_type": "code",
   "execution_count": 39,
   "id": "741528a5-8b18-4278-b088-6e080e1b6f17",
   "metadata": {},
   "outputs": [],
   "source": [
    "x2_copy[0,0]=21"
   ]
  },
  {
   "cell_type": "code",
   "execution_count": 42,
   "id": "e10ce7c4-ec79-4c6d-8271-591d52677947",
   "metadata": {},
   "outputs": [
    {
     "name": "stdout",
     "output_type": "stream",
     "text": [
      "[[21  1]\n",
      " [ 1  3]]\n",
      "-------\n",
      "[[99  1  1  1]\n",
      " [ 1  3  6  4]\n",
      " [ 3  3  7  5]]\n"
     ]
    }
   ],
   "source": [
    "print(x2_copy)\n",
    "print(\"-------\")\n",
    "print(x2)"
   ]
  },
  {
   "cell_type": "markdown",
   "id": "b8fc9b6b-0440-4007-a3fe-3824aeca71c6",
   "metadata": {},
   "source": [
    "## Reshaping of Arrays"
   ]
  },
  {
   "cell_type": "code",
   "execution_count": 43,
   "id": "ceaf989c-877e-46be-9772-ab7f918d1e7a",
   "metadata": {},
   "outputs": [
    {
     "name": "stdout",
     "output_type": "stream",
     "text": [
      "[[1 2 3]\n",
      " [4 5 6]\n",
      " [7 8 9]]\n"
     ]
    }
   ],
   "source": [
    "grid = np.arange(1,10).reshape(3,3)\n",
    "print(grid)"
   ]
  },
  {
   "cell_type": "code",
   "execution_count": 46,
   "id": "bcf5d92e-b09d-48a8-a180-c8c1d248f73f",
   "metadata": {},
   "outputs": [
    {
     "data": {
      "text/plain": [
       "array([[1, 2, 3]])"
      ]
     },
     "execution_count": 46,
     "metadata": {},
     "output_type": "execute_result"
    }
   ],
   "source": [
    "x = np.arange(1,4)\n",
    "x.reshape((1,3))"
   ]
  },
  {
   "cell_type": "code",
   "execution_count": 48,
   "id": "a26d865f-0c19-4699-a33d-d80d29dd0f9c",
   "metadata": {},
   "outputs": [
    {
     "data": {
      "text/plain": [
       "array([[1],\n",
       "       [2],\n",
       "       [3]])"
      ]
     },
     "execution_count": 48,
     "metadata": {},
     "output_type": "execute_result"
    }
   ],
   "source": [
    "x.reshape((3,1))"
   ]
  },
  {
   "cell_type": "markdown",
   "id": "b12fef07-5e1f-4e18-b93c-08fe39e1aaa9",
   "metadata": {},
   "source": [
    "**alternative**"
   ]
  },
  {
   "cell_type": "code",
   "execution_count": 50,
   "id": "37821b64-bc1c-46b5-8ef1-ffa1246facc1",
   "metadata": {},
   "outputs": [
    {
     "data": {
      "text/plain": [
       "array([[1, 2, 3]])"
      ]
     },
     "execution_count": 50,
     "metadata": {},
     "output_type": "execute_result"
    }
   ],
   "source": [
    "x[np.newaxis, :]"
   ]
  },
  {
   "cell_type": "code",
   "execution_count": 51,
   "id": "150c7b65-1ee5-43af-83da-416da66b3cb9",
   "metadata": {},
   "outputs": [
    {
     "data": {
      "text/plain": [
       "array([[1],\n",
       "       [2],\n",
       "       [3]])"
      ]
     },
     "execution_count": 51,
     "metadata": {},
     "output_type": "execute_result"
    }
   ],
   "source": [
    "x[:,np.newaxis]"
   ]
  },
  {
   "cell_type": "markdown",
   "id": "2365d514-e2b6-4a91-9f59-98b24926925c",
   "metadata": {},
   "source": [
    "### Array Concatenation and Splitting"
   ]
  },
  {
   "cell_type": "code",
   "execution_count": 52,
   "id": "fe1d5ee0-92cf-4f6b-9949-b98ee7cec6f5",
   "metadata": {},
   "outputs": [],
   "source": [
    "x = np.array([1,2,3])"
   ]
  },
  {
   "cell_type": "code",
   "execution_count": 53,
   "id": "5db76272-13fb-4bc3-8f67-4b437749bc54",
   "metadata": {},
   "outputs": [],
   "source": [
    "y = np.array([3,2,1])"
   ]
  },
  {
   "cell_type": "code",
   "execution_count": 55,
   "id": "c11098fd-ea46-4cb2-82d0-80b442dd4844",
   "metadata": {},
   "outputs": [
    {
     "data": {
      "text/plain": [
       "array([1, 2, 3, 3, 2, 1])"
      ]
     },
     "execution_count": 55,
     "metadata": {},
     "output_type": "execute_result"
    }
   ],
   "source": [
    "np.concatenate([x,y])"
   ]
  },
  {
   "cell_type": "code",
   "execution_count": 57,
   "id": "a0948399-2709-4128-a55e-2384607e21d6",
   "metadata": {},
   "outputs": [
    {
     "name": "stdout",
     "output_type": "stream",
     "text": [
      "[ 1  2  3  3  2  1 99 99 88]\n"
     ]
    }
   ],
   "source": [
    "z = np.array([99,99,88])\n",
    "print(np.concatenate([x,y,z]))"
   ]
  },
  {
   "cell_type": "code",
   "execution_count": 58,
   "id": "585649e3-62a7-4c4f-b20a-46cc11060fba",
   "metadata": {},
   "outputs": [
    {
     "data": {
      "text/plain": [
       "array([[1, 2, 3],\n",
       "       [4, 5, 6],\n",
       "       [7, 8, 9]])"
      ]
     },
     "execution_count": 58,
     "metadata": {},
     "output_type": "execute_result"
    }
   ],
   "source": [
    "grid"
   ]
  },
  {
   "cell_type": "code",
   "execution_count": 61,
   "id": "006eac40-8d30-4a29-bf55-8f5848074b75",
   "metadata": {},
   "outputs": [
    {
     "data": {
      "text/plain": [
       "array([[1, 2, 3],\n",
       "       [4, 5, 6],\n",
       "       [7, 8, 9],\n",
       "       [1, 2, 3],\n",
       "       [4, 5, 6],\n",
       "       [7, 8, 9]])"
      ]
     },
     "execution_count": 61,
     "metadata": {},
     "output_type": "execute_result"
    }
   ],
   "source": [
    "np.concatenate([grid,grid]) # concatenate along the first axis"
   ]
  },
  {
   "cell_type": "code",
   "execution_count": 60,
   "id": "cfda1ef5-515d-40e3-88de-4937850494ce",
   "metadata": {},
   "outputs": [
    {
     "data": {
      "text/plain": [
       "array([[1, 2, 3, 1, 2, 3],\n",
       "       [4, 5, 6, 4, 5, 6],\n",
       "       [7, 8, 9, 7, 8, 9]])"
      ]
     },
     "execution_count": 60,
     "metadata": {},
     "output_type": "execute_result"
    }
   ],
   "source": [
    "np.concatenate([grid,grid],axis=1) # concatenate along the second axis"
   ]
  },
  {
   "cell_type": "code",
   "execution_count": 62,
   "id": "6efd408b-8f6e-4e92-bbcd-c959cc39a6bc",
   "metadata": {},
   "outputs": [
    {
     "data": {
      "text/plain": [
       "array([[1, 2, 3],\n",
       "       [1, 2, 3],\n",
       "       [4, 5, 6],\n",
       "       [7, 8, 9]])"
      ]
     },
     "execution_count": 62,
     "metadata": {},
     "output_type": "execute_result"
    }
   ],
   "source": [
    "#vertically stack the arrays\n",
    "np.vstack([x,grid])"
   ]
  },
  {
   "cell_type": "code",
   "execution_count": 67,
   "id": "0c749cf2-01f7-419a-97a7-3d5f037f5ff5",
   "metadata": {},
   "outputs": [
    {
     "data": {
      "text/plain": [
       "array([[ 1,  2,  3, 99],\n",
       "       [ 4,  5,  6, 99],\n",
       "       [ 7,  8,  9, 99]])"
      ]
     },
     "execution_count": 67,
     "metadata": {},
     "output_type": "execute_result"
    }
   ],
   "source": [
    "# horizontally stack the arrays\n",
    "y = np.array([[99],\n",
    "               [99],[99]])\n",
    "np.hstack([grid,y])#the number of rows must be the same"
   ]
  },
  {
   "cell_type": "markdown",
   "id": "b89fa680-a908-4bb2-ac7a-1f0711a872c5",
   "metadata": {},
   "source": [
    "### Splitting of Arrays"
   ]
  },
  {
   "cell_type": "code",
   "execution_count": 69,
   "id": "f6420d50-d44e-4315-8edd-5b7da43ddb63",
   "metadata": {},
   "outputs": [],
   "source": [
    "x = np.array([1,2,4,99,00,3,2,1])"
   ]
  },
  {
   "cell_type": "code",
   "execution_count": 70,
   "id": "19a900c5-0a5b-4ba4-89a4-f3d3cd47d4d5",
   "metadata": {},
   "outputs": [
    {
     "name": "stdout",
     "output_type": "stream",
     "text": [
      "[1 2 4] [99  0] [3 2 1]\n"
     ]
    }
   ],
   "source": [
    "x1,x2,x3 = np.split(x,[3,5])\n",
    "print(x1,x2,x3)"
   ]
  },
  {
   "cell_type": "code",
   "execution_count": 72,
   "id": "e120e4a7-dd76-4ec1-9af0-43f00c28ae35",
   "metadata": {},
   "outputs": [
    {
     "data": {
      "text/plain": [
       "array([[ 0,  1,  2,  3],\n",
       "       [ 4,  5,  6,  7],\n",
       "       [ 8,  9, 10, 11],\n",
       "       [12, 13, 14, 15]])"
      ]
     },
     "execution_count": 72,
     "metadata": {},
     "output_type": "execute_result"
    }
   ],
   "source": [
    "grid = np.arange(16).reshape((4,4))\n",
    "grid"
   ]
  },
  {
   "cell_type": "code",
   "execution_count": 73,
   "id": "2d1a75ca-aaa4-4f9b-8d3d-b00976d23248",
   "metadata": {},
   "outputs": [
    {
     "name": "stdout",
     "output_type": "stream",
     "text": [
      "upper  [[0 1 2 3]\n",
      " [4 5 6 7]]\n",
      "lower  [[ 8  9 10 11]\n",
      " [12 13 14 15]]\n"
     ]
    }
   ],
   "source": [
    "upper,lower = np.vsplit(grid,[2])\n",
    "print(\"upper \",upper)\n",
    "print(\"lower \",lower) "
   ]
  },
  {
   "cell_type": "code",
   "execution_count": 75,
   "id": "a5ae67b9-5c4c-4901-b250-25edc667ecb2",
   "metadata": {},
   "outputs": [
    {
     "name": "stdout",
     "output_type": "stream",
     "text": [
      "left  [[ 0  1]\n",
      " [ 4  5]\n",
      " [ 8  9]\n",
      " [12 13]]\n",
      "right  [[ 2  3]\n",
      " [ 6  7]\n",
      " [10 11]\n",
      " [14 15]]\n"
     ]
    }
   ],
   "source": [
    "left,right = np.hsplit(grid,[2])\n",
    "print(\"left \",left)\n",
    "print(\"right \",right)"
   ]
  },
  {
   "cell_type": "code",
   "execution_count": null,
   "id": "dada0a11-bfe9-44f5-8c2d-9431e6f1e2a3",
   "metadata": {},
   "outputs": [],
   "source": []
  }
 ],
 "metadata": {
  "kernelspec": {
   "display_name": "Python 3 (ipykernel)",
   "language": "python",
   "name": "python3"
  },
  "language_info": {
   "codemirror_mode": {
    "name": "ipython",
    "version": 3
   },
   "file_extension": ".py",
   "mimetype": "text/x-python",
   "name": "python",
   "nbconvert_exporter": "python",
   "pygments_lexer": "ipython3",
   "version": "3.11.11"
  }
 },
 "nbformat": 4,
 "nbformat_minor": 5
}
