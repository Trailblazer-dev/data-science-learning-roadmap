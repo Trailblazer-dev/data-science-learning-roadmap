{
 "cells": [
  {
   "cell_type": "markdown",
   "id": "0798e09d-5660-4ab5-9973-c6b517f5a742",
   "metadata": {},
   "source": [
    "# Part III. Data Manipulation with Pandas"
   ]
  },
  {
   "cell_type": "markdown",
   "id": "84107791-10b1-4ca8-9934-50ee82e33279",
   "metadata": {},
   "source": [
    "### we will focus on the mechanics of using Series, DataFrame, and related structures effectively."
   ]
  },
  {
   "cell_type": "code",
   "execution_count": 1,
   "id": "029b3a7c-9345-4430-81b4-bba11684c922",
   "metadata": {},
   "outputs": [],
   "source": [
    "import pandas"
   ]
  },
  {
   "cell_type": "code",
   "execution_count": 2,
   "id": "449ce11c-bae4-4c37-86ce-27fbeb54a233",
   "metadata": {},
   "outputs": [
    {
     "data": {
      "text/plain": [
       "'2.2.3'"
      ]
     },
     "execution_count": 2,
     "metadata": {},
     "output_type": "execute_result"
    }
   ],
   "source": [
    "pandas.__version__"
   ]
  },
  {
   "cell_type": "code",
   "execution_count": 3,
   "id": "799a0088-9aac-4511-8ac1-84f142dce017",
   "metadata": {},
   "outputs": [],
   "source": [
    "import pandas as pd"
   ]
  },
  {
   "cell_type": "code",
   "execution_count": 4,
   "id": "896da955-1aeb-40cb-bb1c-5cb28a523226",
   "metadata": {},
   "outputs": [
    {
     "data": {
      "text/plain": [
       "\u001b[31mType:\u001b[39m        module\n",
       "\u001b[31mString form:\u001b[39m <module 'pandas' from '/home/mwaki/Documents/Vscode/data-science-learning-roadmap/Month_1/Week_2/env/lib/python3.11/site-packages/pandas/__init__.py'>\n",
       "\u001b[31mFile:\u001b[39m        ~/Documents/Vscode/data-science-learning-roadmap/Month_1/Week_2/env/lib/python3.11/site-packages/pandas/__init__.py\n",
       "\u001b[31mDocstring:\u001b[39m  \n",
       "pandas - a powerful data analysis and manipulation library for Python\n",
       "=====================================================================\n",
       "\n",
       "**pandas** is a Python package providing fast, flexible, and expressive data\n",
       "structures designed to make working with \"relational\" or \"labeled\" data both\n",
       "easy and intuitive. It aims to be the fundamental high-level building block for\n",
       "doing practical, **real world** data analysis in Python. Additionally, it has\n",
       "the broader goal of becoming **the most powerful and flexible open source data\n",
       "analysis / manipulation tool available in any language**. It is already well on\n",
       "its way toward this goal.\n",
       "\n",
       "Main Features\n",
       "-------------\n",
       "Here are just a few of the things that pandas does well:\n",
       "\n",
       "  - Easy handling of missing data in floating point as well as non-floating\n",
       "    point data.\n",
       "  - Size mutability: columns can be inserted and deleted from DataFrame and\n",
       "    higher dimensional objects\n",
       "  - Automatic and explicit data alignment: objects can be explicitly aligned\n",
       "    to a set of labels, or the user can simply ignore the labels and let\n",
       "    `Series`, `DataFrame`, etc. automatically align the data for you in\n",
       "    computations.\n",
       "  - Powerful, flexible group by functionality to perform split-apply-combine\n",
       "    operations on data sets, for both aggregating and transforming data.\n",
       "  - Make it easy to convert ragged, differently-indexed data in other Python\n",
       "    and NumPy data structures into DataFrame objects.\n",
       "  - Intelligent label-based slicing, fancy indexing, and subsetting of large\n",
       "    data sets.\n",
       "  - Intuitive merging and joining data sets.\n",
       "  - Flexible reshaping and pivoting of data sets.\n",
       "  - Hierarchical labeling of axes (possible to have multiple labels per tick).\n",
       "  - Robust IO tools for loading data from flat files (CSV and delimited),\n",
       "    Excel files, databases, and saving/loading data from the ultrafast HDF5\n",
       "    format.\n",
       "  - Time series-specific functionality: date range generation and frequency\n",
       "    conversion, moving window statistics, date shifting and lagging."
      ]
     },
     "metadata": {},
     "output_type": "display_data"
    }
   ],
   "source": [
    "pd?"
   ]
  },
  {
   "cell_type": "code",
   "execution_count": null,
   "id": "fa1100ef-c4fd-4f81-8559-2db6c7ee0096",
   "metadata": {},
   "outputs": [],
   "source": []
  }
 ],
 "metadata": {
  "kernelspec": {
   "display_name": "Python 3 (ipykernel)",
   "language": "python",
   "name": "python3"
  },
  "language_info": {
   "codemirror_mode": {
    "name": "ipython",
    "version": 3
   },
   "file_extension": ".py",
   "mimetype": "text/x-python",
   "name": "python",
   "nbconvert_exporter": "python",
   "pygments_lexer": "ipython3",
   "version": "3.11.11"
  }
 },
 "nbformat": 4,
 "nbformat_minor": 5
}
