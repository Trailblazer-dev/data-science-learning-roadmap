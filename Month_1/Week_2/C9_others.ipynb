{
 "cells": [
  {
   "cell_type": "markdown",
   "id": "98c56117-8e00-41bc-9ae3-44eee7eb65e5",
   "metadata": {},
   "source": [
    "# Chapter 9. Comparisons,Masks, and Boolean Logic\n",
    "covers the use of Boolean masks to examine and manipulate values within NumPy arrays."
   ]
  },
  {
   "cell_type": "code",
   "execution_count": 1,
   "id": "1fec8474-c984-4cca-bf03-83235cf71f7b",
   "metadata": {},
   "outputs": [],
   "source": [
    "import numpy as np"
   ]
  },
  {
   "cell_type": "code",
   "execution_count": 3,
   "id": "c0bc3bac-42bd-457c-8e8e-3c15d94bbbc1",
   "metadata": {},
   "outputs": [],
   "source": [
    "x = np.arange(6)\n",
    "y = np.arange(4,10)"
   ]
  },
  {
   "cell_type": "code",
   "execution_count": 10,
   "id": "607229d9-7816-46cc-ab61-373ba0eb4fc3",
   "metadata": {},
   "outputs": [
    {
     "name": "stdout",
     "output_type": "stream",
     "text": [
      "[False False False False False False]\n",
      "[0 1 2 3 4 5]\n",
      "[4 5 6 7 8 9]\n"
     ]
    },
    {
     "data": {
      "text/plain": [
       "array([False, False, False, False,  True, False])"
      ]
     },
     "execution_count": 10,
     "metadata": {},
     "output_type": "execute_result"
    }
   ],
   "source": [
    "print(np.equal(x,y))\n",
    "\n",
    "print(x)\n",
    "print(y)\n",
    "y[4]=4\n",
    "np.equal(x,y)"
   ]
  },
  {
   "cell_type": "code",
   "execution_count": 11,
   "id": "b4359267-f1c4-48c6-a957-44998036dbd1",
   "metadata": {},
   "outputs": [
    {
     "data": {
      "text/plain": [
       "array([ True,  True,  True,  True, False,  True])"
      ]
     },
     "execution_count": 11,
     "metadata": {},
     "output_type": "execute_result"
    }
   ],
   "source": [
    "np.less(x,y)"
   ]
  },
  {
   "cell_type": "code",
   "execution_count": 13,
   "id": "f9263b1d-e95c-4aa9-a978-ed1d6ae2b6df",
   "metadata": {},
   "outputs": [
    {
     "data": {
      "text/plain": [
       "np.False_"
      ]
     },
     "execution_count": 13,
     "metadata": {},
     "output_type": "execute_result"
    }
   ],
   "source": [
    "np.any(x>y)"
   ]
  },
  {
   "cell_type": "code",
   "execution_count": 14,
   "id": "a2bb3f86-1558-423d-bcbd-29bfd1d7c0e6",
   "metadata": {},
   "outputs": [
    {
     "data": {
      "text/plain": [
       "array([0, 1, 2, 3])"
      ]
     },
     "execution_count": 14,
     "metadata": {},
     "output_type": "execute_result"
    }
   ],
   "source": [
    "#masking\n",
    "x[x<4]"
   ]
  },
  {
   "cell_type": "code",
   "execution_count": 16,
   "id": "f3617249-041f-4fa9-a8e1-416f036e87d1",
   "metadata": {},
   "outputs": [
    {
     "data": {
      "text/plain": [
       "array([ 4,  5,  6,  7,  4, 13])"
      ]
     },
     "execution_count": 16,
     "metadata": {},
     "output_type": "execute_result"
    }
   ],
   "source": [
    "x | y"
   ]
  },
  {
   "cell_type": "code",
   "execution_count": 20,
   "id": "22699450-9c32-47ea-b137-1d61a6726afc",
   "metadata": {},
   "outputs": [
    {
     "data": {
      "text/plain": [
       "array([False, False,  True, False, False, False])"
      ]
     },
     "execution_count": 20,
     "metadata": {},
     "output_type": "execute_result"
    }
   ],
   "source": [
    "(x<3)& (y>5)"
   ]
  },
  {
   "cell_type": "code",
   "execution_count": null,
   "id": "2b343425-f8b1-4950-ba2f-6c004740f870",
   "metadata": {},
   "outputs": [],
   "source": []
  }
 ],
 "metadata": {
  "kernelspec": {
   "display_name": "Python 3 (ipykernel)",
   "language": "python",
   "name": "python3"
  },
  "language_info": {
   "codemirror_mode": {
    "name": "ipython",
    "version": 3
   },
   "file_extension": ".py",
   "mimetype": "text/x-python",
   "name": "python",
   "nbconvert_exporter": "python",
   "pygments_lexer": "ipython3",
   "version": "3.11.11"
  }
 },
 "nbformat": 4,
 "nbformat_minor": 5
}
