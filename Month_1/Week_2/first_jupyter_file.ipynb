{
 "cells": [
  {
   "cell_type": "markdown",
   "id": "7ba47ea8-e0e4-4b07-a489-7841ca0efbb9",
   "metadata": {
    "editable": false,
    "slideshow": {
     "slide_type": ""
    },
    "tags": []
   },
   "source": [
    "# This is Week 2 learning about jupyter,numpy and pandas"
   ]
  },
  {
   "cell_type": "code",
   "execution_count": 11,
   "id": "bd9e2960-3ffd-4e7a-a9d7-7001a2cf4c02",
   "metadata": {},
   "outputs": [
    {
     "name": "stdout",
     "output_type": "stream",
     "text": [
      "Hello Jupyter\n"
     ]
    }
   ],
   "source": [
    "print(\"Hello Jupyter\")"
   ]
  },
  {
   "cell_type": "markdown",
   "id": "97020022-e27f-486b-ae88-cd1503763f8e",
   "metadata": {},
   "source": [
    "## Numpy "
   ]
  },
  {
   "cell_type": "code",
   "execution_count": 3,
   "id": "2cc95931-e615-4168-95dc-fc4964ee9eaa",
   "metadata": {},
   "outputs": [],
   "source": [
    "import numpy as np"
   ]
  },
  {
   "cell_type": "code",
   "execution_count": 6,
   "id": "80253554-0954-4785-9d4c-0cb58d431c09",
   "metadata": {},
   "outputs": [
    {
     "name": "stdout",
     "output_type": "stream",
     "text": [
      "[0 1 2 3 4]\n"
     ]
    }
   ],
   "source": [
    "x = np.arange(5)\n",
    "print(x)"
   ]
  },
  {
   "cell_type": "code",
   "execution_count": 7,
   "id": "fee24ae1-4d89-4fd7-ba1b-4f41a21a9a0e",
   "metadata": {},
   "outputs": [
    {
     "data": {
      "text/plain": [
       "numpy.ndarray"
      ]
     },
     "execution_count": 7,
     "metadata": {},
     "output_type": "execute_result"
    }
   ],
   "source": [
    "type(x)"
   ]
  },
  {
   "cell_type": "code",
   "execution_count": 14,
   "id": "b88d266d-2b97-4dfd-b99e-89a29fe9bd28",
   "metadata": {},
   "outputs": [],
   "source": [
    "a = np.array([1,3,4,6,0])"
   ]
  },
  {
   "cell_type": "code",
   "execution_count": 15,
   "id": "a2383b55-39ba-4633-8bcc-7fa021f6cdd2",
   "metadata": {},
   "outputs": [],
   "source": [
    "b = np.array((2,4,6))"
   ]
  },
  {
   "cell_type": "code",
   "execution_count": 16,
   "id": "6a85c89f-fd0f-4ea7-932b-c9dd28e721df",
   "metadata": {},
   "outputs": [
    {
     "name": "stdout",
     "output_type": "stream",
     "text": [
      "[1 3 4 6 0]\n"
     ]
    }
   ],
   "source": [
    "print(a)"
   ]
  },
  {
   "cell_type": "code",
   "execution_count": 17,
   "id": "b355b5a8-edd1-457f-a1a5-114937b02a00",
   "metadata": {},
   "outputs": [
    {
     "data": {
      "text/plain": [
       "numpy.ndarray"
      ]
     },
     "execution_count": 17,
     "metadata": {},
     "output_type": "execute_result"
    }
   ],
   "source": [
    "type(a)"
   ]
  },
  {
   "cell_type": "code",
   "execution_count": 18,
   "id": "236fd225-d8d3-465b-84f8-2eb71b652dc6",
   "metadata": {},
   "outputs": [
    {
     "data": {
      "text/plain": [
       "dtype('int64')"
      ]
     },
     "execution_count": 18,
     "metadata": {},
     "output_type": "execute_result"
    }
   ],
   "source": [
    "a.dtype\n"
   ]
  },
  {
   "cell_type": "code",
   "execution_count": 19,
   "id": "dd340440-d1b1-40c7-8378-93c23311fc63",
   "metadata": {},
   "outputs": [
    {
     "name": "stdout",
     "output_type": "stream",
     "text": [
      "[2 4 6]\n"
     ]
    }
   ],
   "source": [
    "print(b)\n"
   ]
  },
  {
   "cell_type": "code",
   "execution_count": 20,
   "id": "def8ad5c-ae4e-4f5b-a8f7-9f8e7a297d79",
   "metadata": {},
   "outputs": [
    {
     "data": {
      "text/plain": [
       "numpy.ndarray"
      ]
     },
     "execution_count": 20,
     "metadata": {},
     "output_type": "execute_result"
    }
   ],
   "source": [
    "type(b)\n"
   ]
  },
  {
   "cell_type": "code",
   "execution_count": 21,
   "id": "9f3af7b7-1c02-468c-9963-dbd58658caea",
   "metadata": {},
   "outputs": [
    {
     "data": {
      "text/plain": [
       "dtype('int64')"
      ]
     },
     "execution_count": 21,
     "metadata": {},
     "output_type": "execute_result"
    }
   ],
   "source": [
    "b.dtype"
   ]
  },
  {
   "cell_type": "markdown",
   "id": "c60fd606-957d-4d74-b27e-23b5e3997178",
   "metadata": {},
   "source": [
    "### one can explicity specify the data type of an array this way"
   ]
  },
  {
   "cell_type": "code",
   "execution_count": 22,
   "id": "2508a00b-430a-48e2-96c3-c46ad24c2a28",
   "metadata": {},
   "outputs": [],
   "source": [
    "b = np.array((3,4,5),dtype='f')\n"
   ]
  },
  {
   "cell_type": "code",
   "execution_count": 23,
   "id": "9da4a9f1-eb4e-4005-b3c4-0c3e0e637365",
   "metadata": {},
   "outputs": [
    {
     "data": {
      "text/plain": [
       "dtype('float32')"
      ]
     },
     "execution_count": 23,
     "metadata": {},
     "output_type": "execute_result"
    }
   ],
   "source": [
    "b.dtype"
   ]
  },
  {
   "cell_type": "code",
   "execution_count": 24,
   "id": "a8e8c496-8152-4fab-b316-878b47c6510d",
   "metadata": {},
   "outputs": [
    {
     "name": "stdout",
     "output_type": "stream",
     "text": [
      "[3. 4. 5.]\n"
     ]
    }
   ],
   "source": [
    "print(b)\n"
   ]
  },
  {
   "cell_type": "markdown",
   "id": "9953ce51-5447-441d-8144-6deeddb69e73",
   "metadata": {},
   "source": [
    "## Creating Arrays from Scratch"
   ]
  },
  {
   "cell_type": "code",
   "execution_count": 28,
   "id": "c24991cb-483d-45b1-8cf8-0f9333ad3179",
   "metadata": {},
   "outputs": [
    {
     "data": {
      "text/plain": [
       "array([0, 0, 0, 0, 0, 0, 0, 0, 0, 0], dtype=int32)"
      ]
     },
     "execution_count": 28,
     "metadata": {},
     "output_type": "execute_result"
    }
   ],
   "source": [
    "# create a length 10 integer array filled with 0s\n",
    "np.zeros(10,dtype='i')"
   ]
  },
  {
   "cell_type": "code",
   "execution_count": 29,
   "id": "36efe46f-2c22-48ba-af81-d3a1d81bcfe6",
   "metadata": {},
   "outputs": [
    {
     "data": {
      "text/plain": [
       "array([[1., 1., 1., 1., 1.],\n",
       "       [1., 1., 1., 1., 1.],\n",
       "       [1., 1., 1., 1., 1.]], dtype=float32)"
      ]
     },
     "execution_count": 29,
     "metadata": {},
     "output_type": "execute_result"
    }
   ],
   "source": [
    "# create a 3*5 floating poin array filled with 1s\n",
    "np.ones((3,5),dtype='f')"
   ]
  },
  {
   "cell_type": "code",
   "execution_count": 30,
   "id": "95b9ea36-76d6-450d-a9e7-ac7393004c09",
   "metadata": {},
   "outputs": [
    {
     "data": {
      "text/plain": [
       "array([[3.14, 3.14, 3.14, 3.14, 3.14],\n",
       "       [3.14, 3.14, 3.14, 3.14, 3.14],\n",
       "       [3.14, 3.14, 3.14, 3.14, 3.14]])"
      ]
     },
     "execution_count": 30,
     "metadata": {},
     "output_type": "execute_result"
    }
   ],
   "source": [
    "# create a 3*5 array filled with 3.14\n",
    "np.full((3,5),3.14)"
   ]
  },
  {
   "cell_type": "code",
   "execution_count": 31,
   "id": "5b68b8ac-802f-488c-8628-29610a3a7ac2",
   "metadata": {},
   "outputs": [
    {
     "data": {
      "text/plain": [
       "array([ 0,  2,  4,  6,  8, 10, 12, 14, 16, 18])"
      ]
     },
     "execution_count": 31,
     "metadata": {},
     "output_type": "execute_result"
    }
   ],
   "source": [
    "# create an array filled with a linear sequence \n",
    "# starting at 0, ending at 20, stepping by 2(similar to built-in range function\n",
    "np.arange(0,20,2)"
   ]
  },
  {
   "cell_type": "code",
   "execution_count": 4,
   "id": "19ce9cb9-dc95-45c9-9018-ba6c3a64b42a",
   "metadata": {},
   "outputs": [
    {
     "data": {
      "text/plain": [
       "array([0.  , 0.25, 0.5 , 0.75, 1.  ])"
      ]
     },
     "execution_count": 4,
     "metadata": {},
     "output_type": "execute_result"
    }
   ],
   "source": [
    "#create an array of 5 values evenly spaced between 0 and 6\n",
    "np.linspace(0,1,5)"
   ]
  },
  {
   "cell_type": "code",
   "execution_count": 6,
   "id": "b30b4820-c95c-4544-a14e-c0f3bf39d228",
   "metadata": {},
   "outputs": [
    {
     "data": {
      "text/plain": [
       "array([[0.43297272, 0.16106552, 0.31764973],\n",
       "       [0.24902014, 0.45312119, 0.37415708],\n",
       "       [0.5735446 , 0.84191905, 0.34147024]])"
      ]
     },
     "execution_count": 6,
     "metadata": {},
     "output_type": "execute_result"
    }
   ],
   "source": [
    "# create a 3*3 array of uniformly distributed\n",
    "# pseudorandom values between 0 and 1\n",
    "np.random.random((3,3))"
   ]
  },
  {
   "cell_type": "code",
   "execution_count": 7,
   "id": "3d7c2d6e-1311-4af9-a77e-7424c3037ed7",
   "metadata": {},
   "outputs": [
    {
     "data": {
      "text/plain": [
       "array([[-1.3799456 , -3.08021539, -0.22878844],\n",
       "       [ 1.64085835, -0.64965052, -1.24983733],\n",
       "       [-0.26346792, -1.49155287, -0.48176463]])"
      ]
     },
     "execution_count": 7,
     "metadata": {},
     "output_type": "execute_result"
    }
   ],
   "source": [
    "#create a 3*3 array of normally distributed pseaudorandom\n",
    "# values with mean 0 and standard deviation 1\n",
    "np.random.normal(0,1,(3,3))"
   ]
  },
  {
   "cell_type": "code",
   "execution_count": 9,
   "id": "577cd63a-4292-45e8-84df-0030a8216e27",
   "metadata": {},
   "outputs": [
    {
     "data": {
      "text/plain": [
       "array([[1, 0, 2],\n",
       "       [0, 7, 9],\n",
       "       [1, 9, 0]])"
      ]
     },
     "execution_count": 9,
     "metadata": {},
     "output_type": "execute_result"
    }
   ],
   "source": [
    "# create a 3*3 array of pseaudorandom integers in the interval (0,10)\n",
    "np.random.randint(0,10,(3,3))"
   ]
  },
  {
   "cell_type": "code",
   "execution_count": 10,
   "id": "c92a316a-4e1b-4d31-a7b6-625df526da81",
   "metadata": {},
   "outputs": [
    {
     "data": {
      "text/plain": [
       "array([[1., 0., 0.],\n",
       "       [0., 1., 0.],\n",
       "       [0., 0., 1.]])"
      ]
     },
     "execution_count": 10,
     "metadata": {},
     "output_type": "execute_result"
    }
   ],
   "source": [
    "# create a 3*3 identity matrix\n",
    "np.eye(3)"
   ]
  },
  {
   "cell_type": "code",
   "execution_count": 12,
   "id": "61d5fc70-0109-4833-8af5-ef39f8f12752",
   "metadata": {},
   "outputs": [
    {
     "data": {
      "text/plain": [
       "array([1., 1., 1.])"
      ]
     },
     "execution_count": 12,
     "metadata": {},
     "output_type": "execute_result"
    }
   ],
   "source": [
    "# create an uninitialized array of three integers the vlues will be\n",
    "# whatever happens to already exist at that memory location\n",
    "np.empty(3)"
   ]
  },
  {
   "cell_type": "code",
   "execution_count": null,
   "id": "dd9b0fd6-aa72-4460-9fa3-148da8f1f7e0",
   "metadata": {},
   "outputs": [],
   "source": []
  }
 ],
 "metadata": {
  "kernelspec": {
   "display_name": "Python 3 (ipykernel)",
   "language": "python",
   "name": "python3"
  },
  "language_info": {
   "codemirror_mode": {
    "name": "ipython",
    "version": 3
   },
   "file_extension": ".py",
   "mimetype": "text/x-python",
   "name": "python",
   "nbconvert_exporter": "python",
   "pygments_lexer": "ipython3",
   "version": "3.11.11"
  }
 },
 "nbformat": 4,
 "nbformat_minor": 5
}
