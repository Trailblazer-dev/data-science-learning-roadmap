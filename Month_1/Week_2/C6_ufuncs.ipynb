{
 "cells": [
  {
   "cell_type": "markdown",
   "id": "5832b201-7566-4649-aa89-8e8ff7f32c33",
   "metadata": {},
   "source": [
    "# Chapter 6. Computation on NumPy Arrays: Universal Functions"
   ]
  },
  {
   "cell_type": "code",
   "execution_count": 1,
   "id": "34e78862-cbc9-485f-898c-ec35ab33f075",
   "metadata": {},
   "outputs": [],
   "source": [
    "import numpy as np"
   ]
  },
  {
   "cell_type": "code",
   "execution_count": 2,
   "id": "3c190f78-af0b-4de3-81bc-a988b8aa2998",
   "metadata": {},
   "outputs": [],
   "source": [
    "rng = np.random.default_rng(seed=1701)"
   ]
  },
  {
   "cell_type": "code",
   "execution_count": 6,
   "id": "08eeaacf-4438-440e-97a7-5cc71d77c920",
   "metadata": {},
   "outputs": [],
   "source": [
    "def compute_reciprocals(values):\n",
    "    output = np.empty(len(values))\n",
    "    for i in range(len(values)):\n",
    "        output[i] = 1.0/values[i]\n",
    "    return output"
   ]
  },
  {
   "cell_type": "code",
   "execution_count": 7,
   "id": "26c84fc4-fb33-4bc1-ae52-d4d26476570d",
   "metadata": {},
   "outputs": [
    {
     "data": {
      "text/plain": [
       "array([0.11111111, 0.25      , 1.        , 0.33333333, 0.125     ])"
      ]
     },
     "execution_count": 7,
     "metadata": {},
     "output_type": "execute_result"
    }
   ],
   "source": [
    "values = rng.integers(1,10,size=5)\n",
    "compute_reciprocals(values)"
   ]
  },
  {
   "cell_type": "markdown",
   "id": "6492791b-5055-4e59-a520-ad4724c46e3f",
   "metadata": {},
   "source": [
    "**This implementation probably feels fairly natural to someone from, say, a C\n",
    "or Java background. But if we measure the execution time of this code for a\n",
    "large input, we see that this operation is very slow**"
   ]
  },
  {
   "cell_type": "code",
   "execution_count": 11,
   "id": "88974454-e0d8-450f-8c87-af0095975d4c",
   "metadata": {},
   "outputs": [
    {
     "name": "stdout",
     "output_type": "stream",
     "text": [
      "2.55 s ± 117 ms per loop (mean ± std. dev. of 7 runs, 1 loop each)\n"
     ]
    }
   ],
   "source": [
    "big_array = rng.integers(1,100,size=1000000)\n",
    "%timeit compute_reciprocals(big_array)"
   ]
  },
  {
   "cell_type": "code",
   "execution_count": 15,
   "id": "6d5d5f9b-d6e1-4540-9982-96cca9616a92",
   "metadata": {},
   "outputs": [
    {
     "name": "stdout",
     "output_type": "stream",
     "text": [
      "[0.11111111 0.25       1.         0.33333333 0.125     ]\n",
      "---------\n",
      "[0.11111111 0.25       1.         0.33333333 0.125     ]\n"
     ]
    }
   ],
   "source": [
    "print(compute_reciprocals(values))\n",
    "print(\"---------\")\n",
    "print(1.0/values)"
   ]
  },
  {
   "cell_type": "code",
   "execution_count": 16,
   "id": "9aa3380d-82fb-4498-a918-b042743e871c",
   "metadata": {},
   "outputs": [
    {
     "name": "stdout",
     "output_type": "stream",
     "text": [
      "4.35 ms ± 185 μs per loop (mean ± std. dev. of 7 runs, 100 loops each)\n"
     ]
    }
   ],
   "source": [
    "%timeit (1.0/ big_array)"
   ]
  },
  {
   "cell_type": "code",
   "execution_count": 17,
   "id": "eb1e2ea1-27a7-4fe4-9287-bcad9546ceea",
   "metadata": {},
   "outputs": [
    {
     "data": {
      "text/plain": [
       "array([0.        , 0.5       , 0.66666667, 0.75      , 0.8       ])"
      ]
     },
     "execution_count": 17,
     "metadata": {},
     "output_type": "execute_result"
    }
   ],
   "source": [
    "np.arange(5) /np.arange(1,6)"
   ]
  },
  {
   "cell_type": "markdown",
   "id": "853bcc0b-b83c-4d21-ba7e-8d718a08115c",
   "metadata": {},
   "source": [
    "### Ufuncs exist in two flavors: unary ufuncs, which operate on a single input, and binary ufuncs, which operate on two inputs."
   ]
  },
  {
   "cell_type": "code",
   "execution_count": 23,
   "id": "37b444c7-e394-4a7c-af1c-9b52778643ce",
   "metadata": {},
   "outputs": [
    {
     "name": "stdout",
     "output_type": "stream",
     "text": [
      "x    = [0 1 2 3]\n",
      "x + 5 = [5 6 7 8]\n"
     ]
    },
    {
     "data": {
      "text/plain": [
       "array([2, 3, 4, 5])"
      ]
     },
     "execution_count": 23,
     "metadata": {},
     "output_type": "execute_result"
    }
   ],
   "source": [
    "x = np.arange(4)\n",
    "print(\"x    =\",x)\n",
    "print(\"x + 5 =\",x+5)\n",
    "# numpy has ufuncs build in for add\n",
    "np.add(x,2)"
   ]
  },
  {
   "cell_type": "code",
   "execution_count": 28,
   "id": "9e151d87-0bca-49ae-b762-706e8aeb0e63",
   "metadata": {},
   "outputs": [
    {
     "name": "stdout",
     "output_type": "stream",
     "text": [
      "x -5 = [-5 -4 -3 -2]\n",
      "x * 2= [0 2 4 6]\n",
      "[-5 -4 -3 -2]\n"
     ]
    },
    {
     "data": {
      "text/plain": [
       "array([0, 2, 4, 6])"
      ]
     },
     "execution_count": 28,
     "metadata": {},
     "output_type": "execute_result"
    }
   ],
   "source": [
    "print(\"x -5 =\",x-5)\n",
    "print(\"x * 2=\",x*2)\n",
    "# numpy built in ufunc\n",
    "print(np.subtract(x,5))\n",
    "\n",
    "np.multiply(x,2)"
   ]
  },
  {
   "cell_type": "code",
   "execution_count": 33,
   "id": "54a4c649-9141-4d37-8a6c-61d0121ae3b9",
   "metadata": {},
   "outputs": [
    {
     "name": "stdout",
     "output_type": "stream",
     "text": [
      "x / 2 =  [0.  0.5 1.  1.5]\n",
      "x // 2 =  [0 0 1 1]\n",
      "[0.  0.5 1.  1.5]\n"
     ]
    },
    {
     "data": {
      "text/plain": [
       "array([0, 0, 1, 1])"
      ]
     },
     "execution_count": 33,
     "metadata": {},
     "output_type": "execute_result"
    }
   ],
   "source": [
    "print(\"x / 2 = \",x/2)\n",
    "print(\"x // 2 = \",x //2)\n",
    "print(np.divide(x,2))\n",
    "np.floor_divide(x,2)# This is not modulus but floor division(rounds off to floor)"
   ]
  },
  {
   "cell_type": "code",
   "execution_count": 32,
   "id": "5091881f-fe61-4cda-8d82-8161ace20c5f",
   "metadata": {},
   "outputs": [
    {
     "name": "stdout",
     "output_type": "stream",
     "text": [
      "-x  =  [ 0 -1 -2 -3]\n",
      "x **2 =  [0 1 4 9]\n"
     ]
    },
    {
     "data": {
      "text/plain": [
       "array([0, 1, 4, 9])"
      ]
     },
     "execution_count": 32,
     "metadata": {},
     "output_type": "execute_result"
    }
   ],
   "source": [
    "print(\"-x  = \",-x) #negation\n",
    "print(\"x **2 = \",x**2) #exponentiation\n",
    "np.power(x,2)"
   ]
  },
  {
   "cell_type": "code",
   "execution_count": 34,
   "id": "440161cc-1abc-44f3-be7b-316f762874c4",
   "metadata": {},
   "outputs": [
    {
     "name": "stdout",
     "output_type": "stream",
     "text": [
      "x % 2 =  [0 1 0 1]\n"
     ]
    },
    {
     "data": {
      "text/plain": [
       "array([0, 1, 0, 1])"
      ]
     },
     "execution_count": 34,
     "metadata": {},
     "output_type": "execute_result"
    }
   ],
   "source": [
    "print(\"x % 2 = \",x%2) #modulus\n",
    "np.mod(x,2)"
   ]
  },
  {
   "cell_type": "markdown",
   "id": "bd6b91b4-6c5e-41c4-be7a-59f67964ec95",
   "metadata": {},
   "source": [
    "## Trigonometric Functions"
   ]
  },
  {
   "cell_type": "code",
   "execution_count": 35,
   "id": "b9c9aa14-4286-49af-9757-c6f9c691ccec",
   "metadata": {},
   "outputs": [],
   "source": [
    "theta = np.linspace(0,np.pi,3)"
   ]
  },
  {
   "cell_type": "code",
   "execution_count": 37,
   "id": "f128fcdf-47bc-4616-8c64-8382653cb602",
   "metadata": {},
   "outputs": [
    {
     "name": "stdout",
     "output_type": "stream",
     "text": [
      "theta =  [0.         1.57079633 3.14159265]\n",
      "sin (theta)  [0.0000000e+00 1.0000000e+00 1.2246468e-16]\n",
      "cos (theta)  [ 1.000000e+00  6.123234e-17 -1.000000e+00]\n",
      "tan (theta)  [ 0.00000000e+00  1.63312394e+16 -1.22464680e-16]\n"
     ]
    }
   ],
   "source": [
    "print(\"theta = \",theta)\n",
    "print(\"sin (theta) \",np.sin(theta))\n",
    "print(\"cos (theta) \",np.cos(theta))\n",
    "print(\"tan (theta) \",np.tan(theta))"
   ]
  },
  {
   "cell_type": "markdown",
   "id": "a044dbcf-db8e-4e6c-8a36-3159b388dd83",
   "metadata": {},
   "source": [
    "## Exponents and Logarithms"
   ]
  },
  {
   "cell_type": "code",
   "execution_count": 45,
   "id": "d68a9103-dbb1-4889-80c5-5066f3c06940",
   "metadata": {},
   "outputs": [
    {
     "name": "stdout",
     "output_type": "stream",
     "text": [
      "x = [1, 2, 3]\n",
      "e^x =  [ 2.71828183  7.3890561  20.08553692]\n",
      "2^x =  [2. 4. 8.]\n",
      "3^x =  [ 3  9 27]\n"
     ]
    }
   ],
   "source": [
    "x  = [1,2,3]\n",
    "print(\"x =\",x)\n",
    "print(\"e^x = \",np.exp(x))\n",
    "print(\"2^x = \",np.exp2(x))\n",
    "print(\"3^x = \",np.power(3,x))"
   ]
  },
  {
   "cell_type": "code",
   "execution_count": 47,
   "id": "69f09367-2912-4c94-b0a3-33d679fbd32c",
   "metadata": {},
   "outputs": [
    {
     "name": "stdout",
     "output_type": "stream",
     "text": [
      "ln(x) = [0.         0.69314718 1.38629436 2.30258509]\n",
      "log2(x) = [0.         1.         2.         3.32192809]\n",
      "log10(x) =  [0.         0.30103    0.60205999 1.        ]\n"
     ]
    }
   ],
   "source": [
    "x = np.array([1,2,4,10])\n",
    "print(\"ln(x) =\",np.log(x))\n",
    "print(\"log2(x) =\",np.log2(x))\n",
    "print(\"log10(x) = \",np.log10(x))"
   ]
  },
  {
   "cell_type": "markdown",
   "id": "595b8f0f-0075-4320-a49c-d318e1aa32f0",
   "metadata": {},
   "source": [
    "**Specifying Output**"
   ]
  },
  {
   "cell_type": "code",
   "execution_count": 48,
   "id": "fed7bdb5-8ca0-410b-a608-6de35849ce23",
   "metadata": {},
   "outputs": [
    {
     "data": {
      "text/plain": [
       "array([0.0e+000, 4.9e-324, 9.9e-324, 1.5e-323, 2.0e-323])"
      ]
     },
     "execution_count": 48,
     "metadata": {},
     "output_type": "execute_result"
    }
   ],
   "source": [
    "x = np.arange(5)\n",
    "y = np.empty(5)\n"
   ]
  },
  {
   "cell_type": "code",
   "execution_count": 49,
   "id": "e55ab5d1-200e-4eb1-b32b-b33d274e8da6",
   "metadata": {},
   "outputs": [
    {
     "name": "stdout",
     "output_type": "stream",
     "text": [
      "[ 0. 10. 20. 30. 40.]\n"
     ]
    }
   ],
   "source": [
    "np.multiply(x,10,out=y)\n",
    "print(y)"
   ]
  },
  {
   "cell_type": "markdown",
   "id": "10368473-a3ff-4bfa-b077-892425ce8064",
   "metadata": {},
   "source": [
    "### Aggregations\n",
    "    Aggregation means combining multiple values into one using some rule.\n",
    "\n",
    "In programming and data science, it often means:\n",
    "\n",
    "    Applying a function (like sum, mean, max) to a group of values to get a single result."
   ]
  },
  {
   "cell_type": "code",
   "execution_count": 52,
   "id": "3e8adf92-792e-4109-8983-6528d125ec7d",
   "metadata": {},
   "outputs": [
    {
     "data": {
      "text/plain": [
       "np.int64(15)"
      ]
     },
     "execution_count": 52,
     "metadata": {},
     "output_type": "execute_result"
    }
   ],
   "source": [
    "x = np.arange(1,6)\n",
    "np.add.reduce(x)"
   ]
  },
  {
   "cell_type": "code",
   "execution_count": 53,
   "id": "cacab271-974d-420b-ac31-5e38f93cd3c4",
   "metadata": {},
   "outputs": [
    {
     "data": {
      "text/plain": [
       "np.int64(120)"
      ]
     },
     "execution_count": 53,
     "metadata": {},
     "output_type": "execute_result"
    }
   ],
   "source": [
    "np.multiply.reduce(x)"
   ]
  },
  {
   "cell_type": "code",
   "execution_count": 54,
   "id": "3a4425b0-3838-4217-a4f9-36c7939c06f0",
   "metadata": {},
   "outputs": [
    {
     "data": {
      "text/plain": [
       "array([ 1,  3,  6, 10, 15])"
      ]
     },
     "execution_count": 54,
     "metadata": {},
     "output_type": "execute_result"
    }
   ],
   "source": [
    "np.add.accumulate(x) # if we would like to store all the intermediate results of computation"
   ]
  },
  {
   "cell_type": "code",
   "execution_count": null,
   "id": "dd60c77d-aaee-48d4-b3a2-45a909558923",
   "metadata": {},
   "outputs": [],
   "source": []
  }
 ],
 "metadata": {
  "kernelspec": {
   "display_name": "Python 3 (ipykernel)",
   "language": "python",
   "name": "python3"
  },
  "language_info": {
   "codemirror_mode": {
    "name": "ipython",
    "version": 3
   },
   "file_extension": ".py",
   "mimetype": "text/x-python",
   "name": "python",
   "nbconvert_exporter": "python",
   "pygments_lexer": "ipython3",
   "version": "3.11.11"
  }
 },
 "nbformat": 4,
 "nbformat_minor": 5
}
