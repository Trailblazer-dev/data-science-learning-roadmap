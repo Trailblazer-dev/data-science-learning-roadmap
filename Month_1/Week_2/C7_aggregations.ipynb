{
 "cells": [
  {
   "cell_type": "markdown",
   "id": "2387780d-68c3-4a75-996e-9aa90ff1d56b",
   "metadata": {},
   "source": [
    "# Chapter 7. Aggregations: min,max, and Everything in Between"
   ]
  },
  {
   "cell_type": "code",
   "execution_count": 2,
   "id": "c83d5a80-32b0-44c4-9b1c-ace64aafe149",
   "metadata": {},
   "outputs": [],
   "source": [
    "import numpy as np"
   ]
  },
  {
   "cell_type": "code",
   "execution_count": 4,
   "id": "dc9aaad5-ed2c-4ea5-82c1-658cd48fc88b",
   "metadata": {},
   "outputs": [],
   "source": [
    "rng=np.random.default_rng()"
   ]
  },
  {
   "cell_type": "code",
   "execution_count": 5,
   "id": "0081b723-1585-4408-9561-f3cc74935360",
   "metadata": {},
   "outputs": [
    {
     "name": "stdout",
     "output_type": "stream",
     "text": [
      "[0.90304978 0.49570467 0.08664015 0.70368556 0.91038501 0.22978946\n",
      " 0.10627254 0.95788896 0.79566763 0.11262596 0.60500173 0.21793709\n",
      " 0.18204869 0.60828671 0.62968076 0.68668259 0.43626347 0.1663998\n",
      " 0.08970538 0.39459683 0.26786435 0.66581023 0.02258441 0.50373338\n",
      " 0.24144519 0.2035095  0.59473601 0.70260487 0.60110395 0.54401525\n",
      " 0.36295356 0.87995132 0.14951816 0.04390378 0.5022962  0.49850083\n",
      " 0.83428919 0.3741898  0.19618284 0.67904249 0.37744428 0.42261702\n",
      " 0.03224161 0.23146577 0.13860942 0.66702728 0.59158152 0.32894515\n",
      " 0.16673291 0.12050859 0.18066938 0.66931832 0.63457872 0.99573147\n",
      " 0.51643248 0.71573903 0.60595264 0.37289561 0.44156011 0.07177743\n",
      " 0.77178716 0.87473605 0.38454967 0.32514222 0.49094334 0.44569901\n",
      " 0.37837806 0.32608006 0.35766979 0.89234433 0.32830927 0.79964467\n",
      " 0.36718057 0.7594746  0.79001783 0.10771403 0.15752534 0.26996646\n",
      " 0.98025393 0.135618   0.86161158 0.03143126 0.12551616 0.7213407\n",
      " 0.20319049 0.43050467 0.083034   0.3314266  0.96641651 0.40388736\n",
      " 0.7259929  0.46446177 0.21524013 0.37530074 0.53855822 0.18472586\n",
      " 0.25156274 0.6530052  0.86899132 0.11745681]\n"
     ]
    }
   ],
   "source": [
    "L = rng.random(100)\n",
    "print(L)"
   ]
  },
  {
   "cell_type": "code",
   "execution_count": 6,
   "id": "c829f622-fb89-436a-b92d-48946f08c890",
   "metadata": {},
   "outputs": [
    {
     "data": {
      "text/plain": [
       "np.float64(44.96506625580669)"
      ]
     },
     "execution_count": 6,
     "metadata": {},
     "output_type": "execute_result"
    }
   ],
   "source": [
    "sum(L)"
   ]
  },
  {
   "cell_type": "code",
   "execution_count": 9,
   "id": "926090cd-5283-4747-a628-317af7bf8fae",
   "metadata": {},
   "outputs": [
    {
     "name": "stdout",
     "output_type": "stream",
     "text": [
      "112 ms ± 8.42 ms per loop (mean ± std. dev. of 7 runs, 10 loops each)\n",
      "wooh\n",
      "623 μs ± 41.7 μs per loop (mean ± std. dev. of 7 runs, 1,000 loops each)\n"
     ]
    }
   ],
   "source": [
    "big_array = rng.random(1000000)\n",
    "%timeit sum(big_array)\n",
    "print(\"wooh\")\n",
    "%timeit np.sum(big_array)"
   ]
  },
  {
   "cell_type": "code",
   "execution_count": 10,
   "id": "044c72c1-6cd7-48be-bdbe-033d212c89a8",
   "metadata": {},
   "outputs": [
    {
     "data": {
      "text/plain": [
       "(np.float64(1.4959703967809546e-06), np.float64(0.9999987800067386))"
      ]
     },
     "execution_count": 10,
     "metadata": {},
     "output_type": "execute_result"
    }
   ],
   "source": [
    "min(big_array),max(big_array)"
   ]
  },
  {
   "cell_type": "code",
   "execution_count": 11,
   "id": "fe90ec4d-9ad5-42dc-8512-1ef7891f7cf9",
   "metadata": {},
   "outputs": [
    {
     "data": {
      "text/plain": [
       "(np.float64(1.4959703967809546e-06), np.float64(0.9999987800067386))"
      ]
     },
     "execution_count": 11,
     "metadata": {},
     "output_type": "execute_result"
    }
   ],
   "source": [
    "np.min(big_array),np.max(big_array)"
   ]
  },
  {
   "cell_type": "code",
   "execution_count": 12,
   "id": "19ce9b0e-416d-4669-b30c-8e9accf7dc96",
   "metadata": {},
   "outputs": [
    {
     "name": "stdout",
     "output_type": "stream",
     "text": [
      "155 ms ± 31 ms per loop (mean ± std. dev. of 7 runs, 1 loop each)\n",
      "1.12 ms ± 78.7 μs per loop (mean ± std. dev. of 7 runs, 1,000 loops each)\n"
     ]
    }
   ],
   "source": [
    "%timeit min(big_array)\n",
    "%timeit np.min(big_array)"
   ]
  },
  {
   "cell_type": "code",
   "execution_count": null,
   "id": "feddf144-82b9-44f0-8cc2-74e791c150c6",
   "metadata": {},
   "outputs": [],
   "source": []
  }
 ],
 "metadata": {
  "kernelspec": {
   "display_name": "Python 3 (ipykernel)",
   "language": "python",
   "name": "python3"
  },
  "language_info": {
   "codemirror_mode": {
    "name": "ipython",
    "version": 3
   },
   "file_extension": ".py",
   "mimetype": "text/x-python",
   "name": "python",
   "nbconvert_exporter": "python",
   "pygments_lexer": "ipython3",
   "version": "3.11.11"
  }
 },
 "nbformat": 4,
 "nbformat_minor": 5
}
