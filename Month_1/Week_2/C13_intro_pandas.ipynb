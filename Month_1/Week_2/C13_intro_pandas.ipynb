{
 "cells": [
  {
   "cell_type": "markdown",
   "id": "4272f912-5210-4039-9556-240eb08d7c10",
   "metadata": {},
   "source": [
    "# Chapter 13. Introducing Pandas Objects"
   ]
  },
  {
   "cell_type": "code",
   "execution_count": null,
   "id": "866bcd51-3f9d-4586-b18f-a5ae3aebb925",
   "metadata": {},
   "outputs": [],
   "source": []
  }
 ],
 "metadata": {
  "kernelspec": {
   "display_name": "Python 3 (ipykernel)",
   "language": "python",
   "name": "python3"
  },
  "language_info": {
   "codemirror_mode": {
    "name": "ipython",
    "version": 3
   },
   "file_extension": ".py",
   "mimetype": "text/x-python",
   "name": "python",
   "nbconvert_exporter": "python",
   "pygments_lexer": "ipython3",
   "version": "3.11.11"
  }
 },
 "nbformat": 4,
 "nbformat_minor": 5
}
