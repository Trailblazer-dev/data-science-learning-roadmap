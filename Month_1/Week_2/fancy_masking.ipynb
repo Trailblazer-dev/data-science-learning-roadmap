{
 "cells": [
  {
   "cell_type": "markdown",
   "id": "ddc35692-6ad8-426a-b8c1-bc24c7c55d79",
   "metadata": {},
   "source": [
    "# 📌 1. Regular Indexing"
   ]
  },
  {
   "cell_type": "code",
   "execution_count": 1,
   "id": "9e682b6f-174b-47fc-94dc-c5e36f35a5b4",
   "metadata": {},
   "outputs": [],
   "source": [
    "import numpy as np"
   ]
  },
  {
   "cell_type": "code",
   "execution_count": 2,
   "id": "9d2ae2ee-6953-43e3-983d-67b5687f6844",
   "metadata": {},
   "outputs": [
    {
     "name": "stdout",
     "output_type": "stream",
     "text": [
      "30\n"
     ]
    }
   ],
   "source": [
    "arr = np.array([10, 20, 30, 40])\n",
    "print(arr[2])"
   ]
  },
  {
   "cell_type": "markdown",
   "id": "43dff62e-786b-4241-bf10-aa64ccd2a3e8",
   "metadata": {},
   "source": [
    "# 📌 2. Slicing"
   ]
  },
  {
   "cell_type": "code",
   "execution_count": 5,
   "id": "9381b7b1-8546-4038-b979-38ed41cedf02",
   "metadata": {},
   "outputs": [
    {
     "data": {
      "text/plain": [
       "array([10, 20, 30, 40, 50])"
      ]
     },
     "execution_count": 5,
     "metadata": {},
     "output_type": "execute_result"
    }
   ],
   "source": [
    "arr = np.array([10,20,30,40,50])\n",
    "arr"
   ]
  },
  {
   "cell_type": "code",
   "execution_count": 6,
   "id": "2cafa76c-b57b-40ab-b25e-0d6dc8b67102",
   "metadata": {},
   "outputs": [
    {
     "name": "stdout",
     "output_type": "stream",
     "text": [
      "[20 30 40]\n"
     ]
    }
   ],
   "source": [
    "print(arr[1:4]) #slicing"
   ]
  },
  {
   "cell_type": "markdown",
   "id": "bb1d53bf-b690-44d6-8333-e4a6465efa6c",
   "metadata": {},
   "source": [
    "# 📌 3. Fancy Indexing 🎩\n",
    "Selecting multiple arbitrary elements using a list (or array) of indices"
   ]
  },
  {
   "cell_type": "code",
   "execution_count": 7,
   "id": "0ee5fd04-290f-4567-9217-7baccd404699",
   "metadata": {},
   "outputs": [
    {
     "name": "stdout",
     "output_type": "stream",
     "text": [
      "The choosen are : [40 30 10 20]\n"
     ]
    }
   ],
   "source": [
    "choosed = [3,2,0,1]\n",
    "print(f\"The choosen are : {arr[choosed]}\")"
   ]
  },
  {
   "cell_type": "code",
   "execution_count": 10,
   "id": "3de69c06-6855-4fe6-aea4-9378f52473ce",
   "metadata": {},
   "outputs": [
    {
     "data": {
      "text/plain": [
       "array([[1, 2],\n",
       "       [3, 4],\n",
       "       [5, 6]])"
      ]
     },
     "execution_count": 10,
     "metadata": {},
     "output_type": "execute_result"
    }
   ],
   "source": [
    "mat = np.array([[1, 2], [3, 4], [5, 6]])\n",
    "mat"
   ]
  },
  {
   "cell_type": "code",
   "execution_count": 11,
   "id": "81db809e-4297-436b-a690-7abd7e2b74c5",
   "metadata": {},
   "outputs": [
    {
     "name": "stdout",
     "output_type": "stream",
     "text": [
      "[[1 2]\n",
      " [5 6]]\n"
     ]
    }
   ],
   "source": [
    "\n",
    "print(mat[[0, 2]])  # Rows 0 and 2"
   ]
  },
  {
   "cell_type": "code",
   "execution_count": 16,
   "id": "422c6d55-b872-4ef4-9026-5b3c1e2b697f",
   "metadata": {},
   "outputs": [
    {
     "data": {
      "text/plain": [
       "array([2, 4])"
      ]
     },
     "execution_count": 16,
     "metadata": {},
     "output_type": "execute_result"
    }
   ],
   "source": [
    "mat[[0,1],[1]]"
   ]
  },
  {
   "cell_type": "markdown",
   "id": "73949a1c-2b0b-4db4-afbb-5ef00590d467",
   "metadata": {},
   "source": [
    "# 📌 4. Boolean Masking (aka Boolean Indexing) 🎭"
   ]
  },
  {
   "cell_type": "code",
   "execution_count": 18,
   "id": "4e37556c-f47c-49e9-8c2b-82976750054d",
   "metadata": {},
   "outputs": [
    {
     "name": "stdout",
     "output_type": "stream",
     "text": [
      "[False False  True  True  True]\n",
      "[30 40 50]\n"
     ]
    }
   ],
   "source": [
    "mask = arr > 25\n",
    "print(mask)         # [False False  True  True  True]\n",
    "print(arr[mask])"
   ]
  },
  {
   "cell_type": "code",
   "execution_count": 20,
   "id": "218c4ddd-e5e9-4ddb-a8e7-960d93af59e2",
   "metadata": {},
   "outputs": [
    {
     "name": "stdout",
     "output_type": "stream",
     "text": [
      "[30 40 50]\n"
     ]
    }
   ],
   "source": [
    "# alternative\n",
    "print(arr[arr>25])"
   ]
  },
  {
   "cell_type": "code",
   "execution_count": 21,
   "id": "2201a6b5-168b-4da6-a29d-4f4544a94220",
   "metadata": {},
   "outputs": [
    {
     "name": "stdout",
     "output_type": "stream",
     "text": [
      "[10 20 30]\n"
     ]
    }
   ],
   "source": [
    "print(arr[arr<35])"
   ]
  },
  {
   "cell_type": "code",
   "execution_count": null,
   "id": "f43d3826-2698-4082-89bf-739a5983a93b",
   "metadata": {},
   "outputs": [],
   "source": []
  }
 ],
 "metadata": {
  "kernelspec": {
   "display_name": "Python 3 (ipykernel)",
   "language": "python",
   "name": "python3"
  },
  "language_info": {
   "codemirror_mode": {
    "name": "ipython",
    "version": 3
   },
   "file_extension": ".py",
   "mimetype": "text/x-python",
   "name": "python",
   "nbconvert_exporter": "python",
   "pygments_lexer": "ipython3",
   "version": "3.11.11"
  }
 },
 "nbformat": 4,
 "nbformat_minor": 5
}
