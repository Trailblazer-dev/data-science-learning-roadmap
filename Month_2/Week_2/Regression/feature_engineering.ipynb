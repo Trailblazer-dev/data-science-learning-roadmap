{
 "cells": [
  {
   "cell_type": "code",
   "execution_count": 1,
   "id": "1e7dfc1c-4977-4b74-8e55-3a96fb2f1bb4",
   "metadata": {},
   "outputs": [],
   "source": [
    "import  re\n",
    "import pandas as pd\n",
    "import numpy as np\n",
    "import matplotlib.pyplot as plt\n",
    "import seaborn as sns\n",
    "%matplotlib inline"
   ]
  },
  {
   "cell_type": "code",
   "execution_count": 6,
   "id": "c7fe3fec-39c6-48da-b27a-c1fc3f5a8e09",
   "metadata": {},
   "outputs": [],
   "source": [
    "file_path = 'smartwatches.csv'\n",
    "df = pd.read_csv(file_path,index_col='Unnamed: 0')\n",
    "df.drop_duplicates(inplace=True)\n",
    "train_df = df.sample(frac=0.8,random_state=42)\n",
    "test_df = df.drop(train_df.index)\n",
    "train_df = train_df.reset_index()\n",
    "test_df = test_df.reset_index()"
   ]
  },
  {
   "cell_type": "code",
   "execution_count": 7,
   "id": "f992f20a-81ef-40f3-9370-ef9bd374d7dc",
   "metadata": {},
   "outputs": [
    {
     "data": {
      "text/plain": [
       "((440, 15), (352, 16), (88, 16))"
      ]
     },
     "execution_count": 7,
     "metadata": {},
     "output_type": "execute_result"
    }
   ],
   "source": [
    "df.shape,train_df.shape,test_df.shape"
   ]
  },
  {
   "cell_type": "code",
   "execution_count": 8,
   "id": "18e4282c-267c-47e9-9044-6ce71605a1c5",
   "metadata": {},
   "outputs": [
    {
     "data": {
      "text/html": [
       "<div>\n",
       "<style scoped>\n",
       "    .dataframe tbody tr th:only-of-type {\n",
       "        vertical-align: middle;\n",
       "    }\n",
       "\n",
       "    .dataframe tbody tr th {\n",
       "        vertical-align: top;\n",
       "    }\n",
       "\n",
       "    .dataframe thead th {\n",
       "        text-align: right;\n",
       "    }\n",
       "</style>\n",
       "<table border=\"1\" class=\"dataframe\">\n",
       "  <thead>\n",
       "    <tr style=\"text-align: right;\">\n",
       "      <th></th>\n",
       "      <th>index</th>\n",
       "      <th>Brand</th>\n",
       "      <th>Current Price</th>\n",
       "      <th>Original Price</th>\n",
       "      <th>Discount Percentage</th>\n",
       "      <th>Rating</th>\n",
       "      <th>Number OF Ratings</th>\n",
       "      <th>Model Name</th>\n",
       "      <th>Dial Shape</th>\n",
       "      <th>Strap Color</th>\n",
       "      <th>Strap Material</th>\n",
       "      <th>Touchscreen</th>\n",
       "      <th>Battery Life (Days)</th>\n",
       "      <th>Bluetooth</th>\n",
       "      <th>Display Size</th>\n",
       "      <th>Weight</th>\n",
       "    </tr>\n",
       "  </thead>\n",
       "  <tbody>\n",
       "    <tr>\n",
       "      <th>0</th>\n",
       "      <td>275</td>\n",
       "      <td>garmin</td>\n",
       "      <td>64990.0</td>\n",
       "      <td>82990.0</td>\n",
       "      <td>21.689360</td>\n",
       "      <td>4.7</td>\n",
       "      <td>NaN</td>\n",
       "      <td>Fenix 6S Sapphire, Premium GPS Watch, Music, P...</td>\n",
       "      <td>Circle</td>\n",
       "      <td>Black</td>\n",
       "      <td>Silicon</td>\n",
       "      <td>Yes</td>\n",
       "      <td>22.0</td>\n",
       "      <td>Yes</td>\n",
       "      <td>1.2 inches</td>\n",
       "      <td>75g +</td>\n",
       "    </tr>\n",
       "    <tr>\n",
       "      <th>1</th>\n",
       "      <td>84</td>\n",
       "      <td>ambrane</td>\n",
       "      <td>2368.0</td>\n",
       "      <td>4499.0</td>\n",
       "      <td>47.366081</td>\n",
       "      <td>3.5</td>\n",
       "      <td>301.0</td>\n",
       "      <td>FitShot Curl</td>\n",
       "      <td>NaN</td>\n",
       "      <td>NaN</td>\n",
       "      <td>NaN</td>\n",
       "      <td>NaN</td>\n",
       "      <td>12.5</td>\n",
       "      <td>Yes</td>\n",
       "      <td>NaN</td>\n",
       "      <td>35 - 50 g</td>\n",
       "    </tr>\n",
       "    <tr>\n",
       "      <th>2</th>\n",
       "      <td>357</td>\n",
       "      <td>ambrane</td>\n",
       "      <td>1799.0</td>\n",
       "      <td>3799.0</td>\n",
       "      <td>52.645433</td>\n",
       "      <td>4.2</td>\n",
       "      <td>8003.0</td>\n",
       "      <td>Flex 1.69inch Lucid display and SPO2</td>\n",
       "      <td>Square</td>\n",
       "      <td>Pink</td>\n",
       "      <td>Silicon</td>\n",
       "      <td>Yes</td>\n",
       "      <td>22.0</td>\n",
       "      <td>Yes</td>\n",
       "      <td>1.7 inches</td>\n",
       "      <td>NaN</td>\n",
       "    </tr>\n",
       "    <tr>\n",
       "      <th>3</th>\n",
       "      <td>265</td>\n",
       "      <td>garmin</td>\n",
       "      <td>33490.0</td>\n",
       "      <td>36990.0</td>\n",
       "      <td>9.462017</td>\n",
       "      <td>4.6</td>\n",
       "      <td>5.0</td>\n",
       "      <td>Instinct 2, Battery Upto 28 days, Tracback Rou...</td>\n",
       "      <td>Circle</td>\n",
       "      <td>Black</td>\n",
       "      <td>Silicon</td>\n",
       "      <td>No</td>\n",
       "      <td>17.5</td>\n",
       "      <td>Yes</td>\n",
       "      <td>0.9 inches</td>\n",
       "      <td>NaN</td>\n",
       "    </tr>\n",
       "    <tr>\n",
       "      <th>4</th>\n",
       "      <td>337</td>\n",
       "      <td>gizmore</td>\n",
       "      <td>1199.0</td>\n",
       "      <td>4499.0</td>\n",
       "      <td>73.349633</td>\n",
       "      <td>4.7</td>\n",
       "      <td>NaN</td>\n",
       "      <td>GizFit CLOUD 1.85 IPS Large Display | AI Voice...</td>\n",
       "      <td>Square</td>\n",
       "      <td>Blue</td>\n",
       "      <td>Silicon</td>\n",
       "      <td>Yes</td>\n",
       "      <td>22.0</td>\n",
       "      <td>Yes</td>\n",
       "      <td>1.8 inches</td>\n",
       "      <td>20 - 35 g</td>\n",
       "    </tr>\n",
       "  </tbody>\n",
       "</table>\n",
       "</div>"
      ],
      "text/plain": [
       "   index    Brand  Current Price  Original Price  Discount Percentage  Rating  \\\n",
       "0    275   garmin        64990.0         82990.0            21.689360     4.7   \n",
       "1     84  ambrane         2368.0          4499.0            47.366081     3.5   \n",
       "2    357  ambrane         1799.0          3799.0            52.645433     4.2   \n",
       "3    265   garmin        33490.0         36990.0             9.462017     4.6   \n",
       "4    337  gizmore         1199.0          4499.0            73.349633     4.7   \n",
       "\n",
       "   Number OF Ratings                                         Model Name  \\\n",
       "0                NaN  Fenix 6S Sapphire, Premium GPS Watch, Music, P...   \n",
       "1              301.0                                       FitShot Curl   \n",
       "2             8003.0               Flex 1.69inch Lucid display and SPO2   \n",
       "3                5.0  Instinct 2, Battery Upto 28 days, Tracback Rou...   \n",
       "4                NaN  GizFit CLOUD 1.85 IPS Large Display | AI Voice...   \n",
       "\n",
       "  Dial Shape Strap Color Strap Material Touchscreen  Battery Life (Days)  \\\n",
       "0     Circle       Black        Silicon         Yes                 22.0   \n",
       "1        NaN         NaN            NaN         NaN                 12.5   \n",
       "2     Square        Pink        Silicon         Yes                 22.0   \n",
       "3     Circle       Black        Silicon          No                 17.5   \n",
       "4     Square        Blue        Silicon         Yes                 22.0   \n",
       "\n",
       "  Bluetooth Display Size     Weight  \n",
       "0       Yes   1.2 inches      75g +  \n",
       "1       Yes          NaN  35 - 50 g  \n",
       "2       Yes   1.7 inches        NaN  \n",
       "3       Yes   0.9 inches        NaN  \n",
       "4       Yes   1.8 inches  20 - 35 g  "
      ]
     },
     "execution_count": 8,
     "metadata": {},
     "output_type": "execute_result"
    }
   ],
   "source": [
    "train_df.head()"
   ]
  },
  {
   "cell_type": "code",
   "execution_count": 16,
   "id": "cca12a96-f642-4bfb-835f-b9ea7f3de9f3",
   "metadata": {},
   "outputs": [],
   "source": [
    "train_df.drop('index',axis=1,inplace=True)"
   ]
  },
  {
   "cell_type": "code",
   "execution_count": 21,
   "id": "77e8b94f-1208-43ee-9083-877f4643b614",
   "metadata": {},
   "outputs": [
    {
     "data": {
      "text/plain": [
       "np.int64(26)"
      ]
     },
     "execution_count": 21,
     "metadata": {},
     "output_type": "execute_result"
    }
   ],
   "source": [
    "train_df['Display Size'].isna().sum()"
   ]
  },
  {
   "cell_type": "code",
   "execution_count": 23,
   "id": "91615a79-ff3d-43e2-ae8d-418fa9c1345f",
   "metadata": {},
   "outputs": [
    {
     "data": {
      "text/plain": [
       "Display Size\n",
       "1.7 inches     57\n",
       "1.3 inches     47\n",
       "1.8 inches     44\n",
       "1.4 inches     35\n",
       "0.1 inches     26\n",
       "1.6 inches     25\n",
       "1.9 inches     20\n",
       "1.2 inches     17\n",
       "4.4 inches      5\n",
       "4.3 inches      5\n",
       "0.9 inches      4\n",
       "1.0 inches      4\n",
       "1.5 inches      4\n",
       "1.1 inches      4\n",
       "0.2 inches      4\n",
       "2.7 inches      2\n",
       "20.0 inches     2\n",
       "3.3 inches      2\n",
       "3.5 inches      2\n",
       "0.0 inches      1\n",
       "0.8 inches      1\n",
       "2.0 inches      1\n",
       "2.3 inches      1\n",
       "0.5 inches      1\n",
       "45.0 inches     1\n",
       "0.6 inches      1\n",
       "6.9 inches      1\n",
       "33.0 inches     1\n",
       "18.5 inches     1\n",
       "2.4 inches      1\n",
       "4.6 inches      1\n",
       "4.2 inches      1\n",
       "3.0 inches      1\n",
       "27.9 inches     1\n",
       "15.9 inches     1\n",
       "4.5 inches      1\n",
       "Name: count, dtype: int64"
      ]
     },
     "execution_count": 23,
     "metadata": {},
     "output_type": "execute_result"
    }
   ],
   "source": [
    "train_df['Display Size'].value_counts()"
   ]
  },
  {
   "cell_type": "code",
   "execution_count": 24,
   "id": "cd54b1e1-43b0-48d8-a8ff-5db3c30edc30",
   "metadata": {},
   "outputs": [],
   "source": [
    "train_df['Display Size'].fillna('0.0 inches', inplace = True)"
   ]
  },
  {
   "cell_type": "code",
   "execution_count": 26,
   "id": "cdcf380f-58bc-4b8e-8c9e-7d72e0872867",
   "metadata": {},
   "outputs": [
    {
     "data": {
      "text/plain": [
       "np.int64(0)"
      ]
     },
     "execution_count": 26,
     "metadata": {},
     "output_type": "execute_result"
    }
   ],
   "source": [
    "train_df['Display Size'].isna().sum()"
   ]
  },
  {
   "cell_type": "code",
   "execution_count": 32,
   "id": "5a08c32d-f525-45f5-8532-3055b1c669c8",
   "metadata": {},
   "outputs": [],
   "source": [
    "train_df['Display Size'] = train_df['Display Size'].apply(lambda x: float(x.split()[0]))"
   ]
  },
  {
   "cell_type": "code",
   "execution_count": 33,
   "id": "b75279e2-e029-4d52-ac7c-2e80fea48cb2",
   "metadata": {},
   "outputs": [
    {
     "data": {
      "text/plain": [
       "0    1.2\n",
       "1    0.0\n",
       "2    1.7\n",
       "3    0.9\n",
       "4    1.8\n",
       "Name: Display Size, dtype: float64"
      ]
     },
     "execution_count": 33,
     "metadata": {},
     "output_type": "execute_result"
    }
   ],
   "source": [
    "train_df['Display Size'].head()"
   ]
  },
  {
   "cell_type": "code",
   "execution_count": 34,
   "id": "ac62ef7b-11ef-4b09-981f-d853d284b9f1",
   "metadata": {},
   "outputs": [
    {
     "name": "stderr",
     "output_type": "stream",
     "text": [
      "C:\\Users\\Admin\\AppData\\Local\\Temp\\ipykernel_6624\\759104598.py:1: FutureWarning: A value is trying to be set on a copy of a DataFrame or Series through chained assignment using an inplace method.\n",
      "The behavior will change in pandas 3.0. This inplace method will never work because the intermediate object on which we are setting values always behaves as a copy.\n",
      "\n",
      "For example, when doing 'df[col].method(value, inplace=True)', try using 'df.method({col: value}, inplace=True)' or df[col] = df[col].method(value) instead, to perform the operation inplace on the original object.\n",
      "\n",
      "\n",
      "  train_df['Display Size'].replace(0.0,np.nan,inplace=True)\n"
     ]
    }
   ],
   "source": [
    "train_df['Display Size'].replace(0.0,np.nan,inplace=True)"
   ]
  },
  {
   "cell_type": "code",
   "execution_count": 35,
   "id": "db678ce9-bf86-47a6-91ed-9c70da12b5e9",
   "metadata": {},
   "outputs": [
    {
     "data": {
      "text/plain": [
       "np.int64(27)"
      ]
     },
     "execution_count": 35,
     "metadata": {},
     "output_type": "execute_result"
    }
   ],
   "source": [
    "train_df['Display Size'].isna().sum()"
   ]
  },
  {
   "cell_type": "code",
   "execution_count": 41,
   "id": "00eeb8fa-202d-4235-aa7a-b620e0972c34",
   "metadata": {},
   "outputs": [
    {
     "data": {
      "text/plain": [
       "Weight\n",
       "20 - 35 g    62\n",
       "75g +        54\n",
       "35 - 50 g    42\n",
       "<= 20 g      37\n",
       "50 - 75 g    10\n",
       "Name: count, dtype: int64"
      ]
     },
     "execution_count": 41,
     "metadata": {},
     "output_type": "execute_result"
    }
   ],
   "source": [
    "train_df['Weight'].value_counts()"
   ]
  },
  {
   "cell_type": "code",
   "execution_count": 38,
   "id": "ccad77c2-8338-4145-9585-80e59b6f0a36",
   "metadata": {},
   "outputs": [
    {
     "data": {
      "text/plain": [
       "['20', '35']"
      ]
     },
     "execution_count": 38,
     "metadata": {},
     "output_type": "execute_result"
    }
   ],
   "source": [
    "re.findall('\\d+','20 - 35 g')"
   ]
  },
  {
   "cell_type": "code",
   "execution_count": 40,
   "id": "63faeb97-017a-4645-9f7f-0b9cccf8a985",
   "metadata": {},
   "outputs": [
    {
     "data": {
      "text/plain": [
       "27.5"
      ]
     },
     "execution_count": 40,
     "metadata": {},
     "output_type": "execute_result"
    }
   ],
   "source": [
    "cal = sum([int(x) for x  in re.findall('\\d+','20 - 35 g')]) /2\n",
    "cal"
   ]
  },
  {
   "cell_type": "code",
   "execution_count": 42,
   "id": "e029ddf8-31fa-4b21-9b5e-93c08ca6d741",
   "metadata": {},
   "outputs": [
    {
     "name": "stderr",
     "output_type": "stream",
     "text": [
      "C:\\Users\\Admin\\AppData\\Local\\Temp\\ipykernel_6624\\2795161256.py:1: FutureWarning: A value is trying to be set on a copy of a DataFrame or Series through chained assignment using an inplace method.\n",
      "The behavior will change in pandas 3.0. This inplace method will never work because the intermediate object on which we are setting values always behaves as a copy.\n",
      "\n",
      "For example, when doing 'df[col].method(value, inplace=True)', try using 'df.method({col: value}, inplace=True)' or df[col] = df[col].method(value) instead, to perform the operation inplace on the original object.\n",
      "\n",
      "\n",
      "  train_df['Weight'].replace('20 - 35 g',cal,inplace=True)\n"
     ]
    }
   ],
   "source": [
    "train_df['Weight'].replace('20 - 35 g',cal,inplace=True)"
   ]
  },
  {
   "cell_type": "code",
   "execution_count": 43,
   "id": "40b4e294-99ea-4924-923e-669f613577d5",
   "metadata": {},
   "outputs": [
    {
     "data": {
      "text/plain": [
       "Weight\n",
       "27.5         62\n",
       "75g +        54\n",
       "35 - 50 g    42\n",
       "<= 20 g      37\n",
       "50 - 75 g    10\n",
       "Name: count, dtype: int64"
      ]
     },
     "execution_count": 43,
     "metadata": {},
     "output_type": "execute_result"
    }
   ],
   "source": [
    "train_df['Weight'].value_counts()"
   ]
  },
  {
   "cell_type": "code",
   "execution_count": 44,
   "id": "d8a4cf3f-49fb-462c-9b60-490d09df4a02",
   "metadata": {},
   "outputs": [
    {
     "name": "stderr",
     "output_type": "stream",
     "text": [
      "C:\\Users\\Admin\\AppData\\Local\\Temp\\ipykernel_6624\\1786500352.py:2: FutureWarning: A value is trying to be set on a copy of a DataFrame or Series through chained assignment using an inplace method.\n",
      "The behavior will change in pandas 3.0. This inplace method will never work because the intermediate object on which we are setting values always behaves as a copy.\n",
      "\n",
      "For example, when doing 'df[col].method(value, inplace=True)', try using 'df.method({col: value}, inplace=True)' or df[col] = df[col].method(value) instead, to perform the operation inplace on the original object.\n",
      "\n",
      "\n",
      "  train_df['Weight'].replace('35 - 50 g',cal,inplace=True)\n"
     ]
    }
   ],
   "source": [
    "cal = sum([int(x) for x  in re.findall('\\d+','35 - 50 g')]) /2\n",
    "train_df['Weight'].replace('35 - 50 g',cal,inplace=True)"
   ]
  },
  {
   "cell_type": "code",
   "execution_count": 46,
   "id": "2d94e997-dc85-44f9-8eb4-b8cb47245a0c",
   "metadata": {},
   "outputs": [
    {
     "data": {
      "text/plain": [
       "Weight\n",
       "27.5       62\n",
       "75g +      54\n",
       "42.5       42\n",
       "<= 20 g    37\n",
       "62.5       10\n",
       "Name: count, dtype: int64"
      ]
     },
     "execution_count": 46,
     "metadata": {},
     "output_type": "execute_result"
    }
   ],
   "source": [
    "train_df['Weight'].value_counts()"
   ]
  },
  {
   "cell_type": "code",
   "execution_count": 45,
   "id": "bd268839-90df-4562-a44d-1f64724fbc42",
   "metadata": {},
   "outputs": [
    {
     "name": "stderr",
     "output_type": "stream",
     "text": [
      "C:\\Users\\Admin\\AppData\\Local\\Temp\\ipykernel_6624\\1935911562.py:2: FutureWarning: A value is trying to be set on a copy of a DataFrame or Series through chained assignment using an inplace method.\n",
      "The behavior will change in pandas 3.0. This inplace method will never work because the intermediate object on which we are setting values always behaves as a copy.\n",
      "\n",
      "For example, when doing 'df[col].method(value, inplace=True)', try using 'df.method({col: value}, inplace=True)' or df[col] = df[col].method(value) instead, to perform the operation inplace on the original object.\n",
      "\n",
      "\n",
      "  train_df['Weight'].replace('50 - 75 g',cal,inplace=True)\n"
     ]
    }
   ],
   "source": [
    "cal = sum([int(x) for x  in re.findall('\\d+','50 - 75 g')]) /2\n",
    "train_df['Weight'].replace('50 - 75 g',cal,inplace=True)"
   ]
  },
  {
   "cell_type": "code",
   "execution_count": 47,
   "id": "69319de3-a4a2-49d5-ba8f-249a6b367840",
   "metadata": {},
   "outputs": [
    {
     "data": {
      "text/plain": [
       "Weight\n",
       "27.5       62\n",
       "75g +      54\n",
       "42.5       42\n",
       "<= 20 g    37\n",
       "62.5       10\n",
       "Name: count, dtype: int64"
      ]
     },
     "execution_count": 47,
     "metadata": {},
     "output_type": "execute_result"
    }
   ],
   "source": [
    "train_df['Weight'].value_counts()"
   ]
  },
  {
   "cell_type": "code",
   "execution_count": 48,
   "id": "22d4185d-7125-4e5f-a9ca-fbca988a639b",
   "metadata": {},
   "outputs": [
    {
     "name": "stderr",
     "output_type": "stream",
     "text": [
      "C:\\Users\\Admin\\AppData\\Local\\Temp\\ipykernel_6624\\3003243348.py:1: FutureWarning: A value is trying to be set on a copy of a DataFrame or Series through chained assignment using an inplace method.\n",
      "The behavior will change in pandas 3.0. This inplace method will never work because the intermediate object on which we are setting values always behaves as a copy.\n",
      "\n",
      "For example, when doing 'df[col].method(value, inplace=True)', try using 'df.method({col: value}, inplace=True)' or df[col] = df[col].method(value) instead, to perform the operation inplace on the original object.\n",
      "\n",
      "\n",
      "  train_df['Weight'].replace('75g +',float(re.findall('\\d+','75g +')[0]),inplace=True)\n"
     ]
    }
   ],
   "source": [
    "train_df['Weight'].replace('75g +',float(re.findall('\\d+','75g +')[0]),inplace=True)"
   ]
  },
  {
   "cell_type": "code",
   "execution_count": 49,
   "id": "2fc1680d-5207-455e-bf51-04c62b279fea",
   "metadata": {},
   "outputs": [
    {
     "data": {
      "text/plain": [
       "Weight\n",
       "27.5       62\n",
       "75.0       54\n",
       "42.5       42\n",
       "<= 20 g    37\n",
       "62.5       10\n",
       "Name: count, dtype: int64"
      ]
     },
     "execution_count": 49,
     "metadata": {},
     "output_type": "execute_result"
    }
   ],
   "source": [
    "train_df['Weight'].value_counts()"
   ]
  },
  {
   "cell_type": "code",
   "execution_count": 55,
   "id": "7a6916a3-f9a9-4973-a1da-90903723e412",
   "metadata": {},
   "outputs": [
    {
     "name": "stderr",
     "output_type": "stream",
     "text": [
      "C:\\Users\\Admin\\AppData\\Local\\Temp\\ipykernel_6624\\3242668750.py:1: FutureWarning: A value is trying to be set on a copy of a DataFrame or Series through chained assignment using an inplace method.\n",
      "The behavior will change in pandas 3.0. This inplace method will never work because the intermediate object on which we are setting values always behaves as a copy.\n",
      "\n",
      "For example, when doing 'df[col].method(value, inplace=True)', try using 'df.method({col: value}, inplace=True)' or df[col] = df[col].method(value) instead, to perform the operation inplace on the original object.\n",
      "\n",
      "\n",
      "  train_df['Weight'].replace('<= 20 g',float(re.findall('\\d+','<= 20 g')[0]),inplace=True)\n",
      "C:\\Users\\Admin\\AppData\\Local\\Temp\\ipykernel_6624\\3242668750.py:1: FutureWarning: Downcasting behavior in `replace` is deprecated and will be removed in a future version. To retain the old behavior, explicitly call `result.infer_objects(copy=False)`. To opt-in to the future behavior, set `pd.set_option('future.no_silent_downcasting', True)`\n",
      "  train_df['Weight'].replace('<= 20 g',float(re.findall('\\d+','<= 20 g')[0]),inplace=True)\n"
     ]
    }
   ],
   "source": [
    "train_df['Weight'].replace('<= 20 g',float(re.findall('\\d+','<= 20 g')[0]),inplace=True)"
   ]
  },
  {
   "cell_type": "code",
   "execution_count": 56,
   "id": "3b810114-2c94-4edf-969b-2b909ce329c8",
   "metadata": {},
   "outputs": [
    {
     "data": {
      "text/plain": [
       "Weight\n",
       "27.5    62\n",
       "75.0    54\n",
       "42.5    42\n",
       "20.0    37\n",
       "62.5    10\n",
       "Name: count, dtype: int64"
      ]
     },
     "execution_count": 56,
     "metadata": {},
     "output_type": "execute_result"
    }
   ],
   "source": [
    "train_df['Weight'].value_counts()"
   ]
  },
  {
   "cell_type": "code",
   "execution_count": 61,
   "id": "de789eeb-8f6c-4505-910b-538e41b5ce0d",
   "metadata": {},
   "outputs": [
    {
     "data": {
      "text/html": [
       "<div>\n",
       "<style scoped>\n",
       "    .dataframe tbody tr th:only-of-type {\n",
       "        vertical-align: middle;\n",
       "    }\n",
       "\n",
       "    .dataframe tbody tr th {\n",
       "        vertical-align: top;\n",
       "    }\n",
       "\n",
       "    .dataframe thead th {\n",
       "        text-align: right;\n",
       "    }\n",
       "</style>\n",
       "<table border=\"1\" class=\"dataframe\">\n",
       "  <thead>\n",
       "    <tr style=\"text-align: right;\">\n",
       "      <th></th>\n",
       "      <th>Brand</th>\n",
       "      <th>Current Price</th>\n",
       "      <th>Original Price</th>\n",
       "      <th>Discount Percentage</th>\n",
       "      <th>Rating</th>\n",
       "      <th>Number OF Ratings</th>\n",
       "      <th>Model Name</th>\n",
       "      <th>Dial Shape</th>\n",
       "      <th>Strap Color</th>\n",
       "      <th>Strap Material</th>\n",
       "      <th>Touchscreen</th>\n",
       "      <th>Battery Life (Days)</th>\n",
       "      <th>Bluetooth</th>\n",
       "      <th>Display Size</th>\n",
       "      <th>Weight</th>\n",
       "    </tr>\n",
       "  </thead>\n",
       "  <tbody>\n",
       "    <tr>\n",
       "      <th>0</th>\n",
       "      <td>garmin</td>\n",
       "      <td>64990.0</td>\n",
       "      <td>82990.0</td>\n",
       "      <td>21.689360</td>\n",
       "      <td>4.7</td>\n",
       "      <td>NaN</td>\n",
       "      <td>Fenix 6S Sapphire, Premium GPS Watch, Music, P...</td>\n",
       "      <td>Circle</td>\n",
       "      <td>Black</td>\n",
       "      <td>Silicon</td>\n",
       "      <td>Yes</td>\n",
       "      <td>22.0</td>\n",
       "      <td>Yes</td>\n",
       "      <td>1.2</td>\n",
       "      <td>75.0</td>\n",
       "    </tr>\n",
       "    <tr>\n",
       "      <th>1</th>\n",
       "      <td>ambrane</td>\n",
       "      <td>2368.0</td>\n",
       "      <td>4499.0</td>\n",
       "      <td>47.366081</td>\n",
       "      <td>3.5</td>\n",
       "      <td>301.0</td>\n",
       "      <td>FitShot Curl</td>\n",
       "      <td>NaN</td>\n",
       "      <td>NaN</td>\n",
       "      <td>NaN</td>\n",
       "      <td>NaN</td>\n",
       "      <td>12.5</td>\n",
       "      <td>Yes</td>\n",
       "      <td>NaN</td>\n",
       "      <td>42.5</td>\n",
       "    </tr>\n",
       "    <tr>\n",
       "      <th>2</th>\n",
       "      <td>ambrane</td>\n",
       "      <td>1799.0</td>\n",
       "      <td>3799.0</td>\n",
       "      <td>52.645433</td>\n",
       "      <td>4.2</td>\n",
       "      <td>8003.0</td>\n",
       "      <td>Flex 1.69inch Lucid display and SPO2</td>\n",
       "      <td>Square</td>\n",
       "      <td>Pink</td>\n",
       "      <td>Silicon</td>\n",
       "      <td>Yes</td>\n",
       "      <td>22.0</td>\n",
       "      <td>Yes</td>\n",
       "      <td>1.7</td>\n",
       "      <td>NaN</td>\n",
       "    </tr>\n",
       "    <tr>\n",
       "      <th>3</th>\n",
       "      <td>garmin</td>\n",
       "      <td>33490.0</td>\n",
       "      <td>36990.0</td>\n",
       "      <td>9.462017</td>\n",
       "      <td>4.6</td>\n",
       "      <td>5.0</td>\n",
       "      <td>Instinct 2, Battery Upto 28 days, Tracback Rou...</td>\n",
       "      <td>Circle</td>\n",
       "      <td>Black</td>\n",
       "      <td>Silicon</td>\n",
       "      <td>No</td>\n",
       "      <td>17.5</td>\n",
       "      <td>Yes</td>\n",
       "      <td>0.9</td>\n",
       "      <td>NaN</td>\n",
       "    </tr>\n",
       "    <tr>\n",
       "      <th>4</th>\n",
       "      <td>gizmore</td>\n",
       "      <td>1199.0</td>\n",
       "      <td>4499.0</td>\n",
       "      <td>73.349633</td>\n",
       "      <td>4.7</td>\n",
       "      <td>NaN</td>\n",
       "      <td>GizFit CLOUD 1.85 IPS Large Display | AI Voice...</td>\n",
       "      <td>Square</td>\n",
       "      <td>Blue</td>\n",
       "      <td>Silicon</td>\n",
       "      <td>Yes</td>\n",
       "      <td>22.0</td>\n",
       "      <td>Yes</td>\n",
       "      <td>1.8</td>\n",
       "      <td>27.5</td>\n",
       "    </tr>\n",
       "  </tbody>\n",
       "</table>\n",
       "</div>"
      ],
      "text/plain": [
       "     Brand  Current Price  Original Price  Discount Percentage  Rating  \\\n",
       "0   garmin        64990.0         82990.0            21.689360     4.7   \n",
       "1  ambrane         2368.0          4499.0            47.366081     3.5   \n",
       "2  ambrane         1799.0          3799.0            52.645433     4.2   \n",
       "3   garmin        33490.0         36990.0             9.462017     4.6   \n",
       "4  gizmore         1199.0          4499.0            73.349633     4.7   \n",
       "\n",
       "   Number OF Ratings                                         Model Name  \\\n",
       "0                NaN  Fenix 6S Sapphire, Premium GPS Watch, Music, P...   \n",
       "1              301.0                                       FitShot Curl   \n",
       "2             8003.0               Flex 1.69inch Lucid display and SPO2   \n",
       "3                5.0  Instinct 2, Battery Upto 28 days, Tracback Rou...   \n",
       "4                NaN  GizFit CLOUD 1.85 IPS Large Display | AI Voice...   \n",
       "\n",
       "  Dial Shape Strap Color Strap Material Touchscreen  Battery Life (Days)  \\\n",
       "0     Circle       Black        Silicon         Yes                 22.0   \n",
       "1        NaN         NaN            NaN         NaN                 12.5   \n",
       "2     Square        Pink        Silicon         Yes                 22.0   \n",
       "3     Circle       Black        Silicon          No                 17.5   \n",
       "4     Square        Blue        Silicon         Yes                 22.0   \n",
       "\n",
       "  Bluetooth  Display Size  Weight  \n",
       "0       Yes           1.2    75.0  \n",
       "1       Yes           NaN    42.5  \n",
       "2       Yes           1.7     NaN  \n",
       "3       Yes           0.9     NaN  \n",
       "4       Yes           1.8    27.5  "
      ]
     },
     "execution_count": 61,
     "metadata": {},
     "output_type": "execute_result"
    }
   ],
   "source": [
    "train_df.head()"
   ]
  },
  {
   "cell_type": "code",
   "execution_count": 66,
   "id": "62add3d5-9bfe-4954-b30d-43e817baf503",
   "metadata": {},
   "outputs": [],
   "source": [
    "train_df['Discount Price'] = (train_df['Original Price']*(-train_df['Discount Percentage']))/100"
   ]
  },
  {
   "cell_type": "code",
   "execution_count": 67,
   "id": "dc568856-bd32-4dc8-9c8d-3abbbcdbdf0a",
   "metadata": {},
   "outputs": [
    {
     "data": {
      "text/html": [
       "<div>\n",
       "<style scoped>\n",
       "    .dataframe tbody tr th:only-of-type {\n",
       "        vertical-align: middle;\n",
       "    }\n",
       "\n",
       "    .dataframe tbody tr th {\n",
       "        vertical-align: top;\n",
       "    }\n",
       "\n",
       "    .dataframe thead th {\n",
       "        text-align: right;\n",
       "    }\n",
       "</style>\n",
       "<table border=\"1\" class=\"dataframe\">\n",
       "  <thead>\n",
       "    <tr style=\"text-align: right;\">\n",
       "      <th></th>\n",
       "      <th>Brand</th>\n",
       "      <th>Current Price</th>\n",
       "      <th>Original Price</th>\n",
       "      <th>Discount Percentage</th>\n",
       "      <th>Rating</th>\n",
       "      <th>Number OF Ratings</th>\n",
       "      <th>Model Name</th>\n",
       "      <th>Dial Shape</th>\n",
       "      <th>Strap Color</th>\n",
       "      <th>Strap Material</th>\n",
       "      <th>Touchscreen</th>\n",
       "      <th>Battery Life (Days)</th>\n",
       "      <th>Bluetooth</th>\n",
       "      <th>Display Size</th>\n",
       "      <th>Weight</th>\n",
       "      <th>Discount Price</th>\n",
       "    </tr>\n",
       "  </thead>\n",
       "  <tbody>\n",
       "    <tr>\n",
       "      <th>0</th>\n",
       "      <td>garmin</td>\n",
       "      <td>64990.0</td>\n",
       "      <td>82990.0</td>\n",
       "      <td>21.689360</td>\n",
       "      <td>4.7</td>\n",
       "      <td>NaN</td>\n",
       "      <td>Fenix 6S Sapphire, Premium GPS Watch, Music, P...</td>\n",
       "      <td>Circle</td>\n",
       "      <td>Black</td>\n",
       "      <td>Silicon</td>\n",
       "      <td>Yes</td>\n",
       "      <td>22.0</td>\n",
       "      <td>Yes</td>\n",
       "      <td>1.2</td>\n",
       "      <td>75.0</td>\n",
       "      <td>-17999.999997</td>\n",
       "    </tr>\n",
       "    <tr>\n",
       "      <th>1</th>\n",
       "      <td>ambrane</td>\n",
       "      <td>2368.0</td>\n",
       "      <td>4499.0</td>\n",
       "      <td>47.366081</td>\n",
       "      <td>3.5</td>\n",
       "      <td>301.0</td>\n",
       "      <td>FitShot Curl</td>\n",
       "      <td>NaN</td>\n",
       "      <td>NaN</td>\n",
       "      <td>NaN</td>\n",
       "      <td>NaN</td>\n",
       "      <td>12.5</td>\n",
       "      <td>Yes</td>\n",
       "      <td>NaN</td>\n",
       "      <td>42.5</td>\n",
       "      <td>-2131.000000</td>\n",
       "    </tr>\n",
       "    <tr>\n",
       "      <th>2</th>\n",
       "      <td>ambrane</td>\n",
       "      <td>1799.0</td>\n",
       "      <td>3799.0</td>\n",
       "      <td>52.645433</td>\n",
       "      <td>4.2</td>\n",
       "      <td>8003.0</td>\n",
       "      <td>Flex 1.69inch Lucid display and SPO2</td>\n",
       "      <td>Square</td>\n",
       "      <td>Pink</td>\n",
       "      <td>Silicon</td>\n",
       "      <td>Yes</td>\n",
       "      <td>22.0</td>\n",
       "      <td>Yes</td>\n",
       "      <td>1.7</td>\n",
       "      <td>NaN</td>\n",
       "      <td>-2000.000000</td>\n",
       "    </tr>\n",
       "    <tr>\n",
       "      <th>3</th>\n",
       "      <td>garmin</td>\n",
       "      <td>33490.0</td>\n",
       "      <td>36990.0</td>\n",
       "      <td>9.462017</td>\n",
       "      <td>4.6</td>\n",
       "      <td>5.0</td>\n",
       "      <td>Instinct 2, Battery Upto 28 days, Tracback Rou...</td>\n",
       "      <td>Circle</td>\n",
       "      <td>Black</td>\n",
       "      <td>Silicon</td>\n",
       "      <td>No</td>\n",
       "      <td>17.5</td>\n",
       "      <td>Yes</td>\n",
       "      <td>0.9</td>\n",
       "      <td>NaN</td>\n",
       "      <td>-3500.000000</td>\n",
       "    </tr>\n",
       "    <tr>\n",
       "      <th>4</th>\n",
       "      <td>gizmore</td>\n",
       "      <td>1199.0</td>\n",
       "      <td>4499.0</td>\n",
       "      <td>73.349633</td>\n",
       "      <td>4.7</td>\n",
       "      <td>NaN</td>\n",
       "      <td>GizFit CLOUD 1.85 IPS Large Display | AI Voice...</td>\n",
       "      <td>Square</td>\n",
       "      <td>Blue</td>\n",
       "      <td>Silicon</td>\n",
       "      <td>Yes</td>\n",
       "      <td>22.0</td>\n",
       "      <td>Yes</td>\n",
       "      <td>1.8</td>\n",
       "      <td>27.5</td>\n",
       "      <td>-3300.000000</td>\n",
       "    </tr>\n",
       "  </tbody>\n",
       "</table>\n",
       "</div>"
      ],
      "text/plain": [
       "     Brand  Current Price  Original Price  Discount Percentage  Rating  \\\n",
       "0   garmin        64990.0         82990.0            21.689360     4.7   \n",
       "1  ambrane         2368.0          4499.0            47.366081     3.5   \n",
       "2  ambrane         1799.0          3799.0            52.645433     4.2   \n",
       "3   garmin        33490.0         36990.0             9.462017     4.6   \n",
       "4  gizmore         1199.0          4499.0            73.349633     4.7   \n",
       "\n",
       "   Number OF Ratings                                         Model Name  \\\n",
       "0                NaN  Fenix 6S Sapphire, Premium GPS Watch, Music, P...   \n",
       "1              301.0                                       FitShot Curl   \n",
       "2             8003.0               Flex 1.69inch Lucid display and SPO2   \n",
       "3                5.0  Instinct 2, Battery Upto 28 days, Tracback Rou...   \n",
       "4                NaN  GizFit CLOUD 1.85 IPS Large Display | AI Voice...   \n",
       "\n",
       "  Dial Shape Strap Color Strap Material Touchscreen  Battery Life (Days)  \\\n",
       "0     Circle       Black        Silicon         Yes                 22.0   \n",
       "1        NaN         NaN            NaN         NaN                 12.5   \n",
       "2     Square        Pink        Silicon         Yes                 22.0   \n",
       "3     Circle       Black        Silicon          No                 17.5   \n",
       "4     Square        Blue        Silicon         Yes                 22.0   \n",
       "\n",
       "  Bluetooth  Display Size  Weight  Discount Price  \n",
       "0       Yes           1.2    75.0   -17999.999997  \n",
       "1       Yes           NaN    42.5    -2131.000000  \n",
       "2       Yes           1.7     NaN    -2000.000000  \n",
       "3       Yes           0.9     NaN    -3500.000000  \n",
       "4       Yes           1.8    27.5    -3300.000000  "
      ]
     },
     "execution_count": 67,
     "metadata": {},
     "output_type": "execute_result"
    }
   ],
   "source": [
    "train_df.head()"
   ]
  },
  {
   "cell_type": "code",
   "execution_count": 68,
   "id": "5a4b984a-645c-442a-987e-2072a06c9d2e",
   "metadata": {},
   "outputs": [
    {
     "data": {
      "text/html": [
       "<div>\n",
       "<style scoped>\n",
       "    .dataframe tbody tr th:only-of-type {\n",
       "        vertical-align: middle;\n",
       "    }\n",
       "\n",
       "    .dataframe tbody tr th {\n",
       "        vertical-align: top;\n",
       "    }\n",
       "\n",
       "    .dataframe thead th {\n",
       "        text-align: right;\n",
       "    }\n",
       "</style>\n",
       "<table border=\"1\" class=\"dataframe\">\n",
       "  <thead>\n",
       "    <tr style=\"text-align: right;\">\n",
       "      <th></th>\n",
       "      <th>Brand</th>\n",
       "      <th>Current Price</th>\n",
       "      <th>Original Price</th>\n",
       "      <th>Rating</th>\n",
       "      <th>Number OF Ratings</th>\n",
       "      <th>Model Name</th>\n",
       "      <th>Dial Shape</th>\n",
       "      <th>Strap Color</th>\n",
       "      <th>Strap Material</th>\n",
       "      <th>Touchscreen</th>\n",
       "      <th>Battery Life (Days)</th>\n",
       "      <th>Bluetooth</th>\n",
       "      <th>Display Size</th>\n",
       "      <th>Weight</th>\n",
       "      <th>Discount Price</th>\n",
       "    </tr>\n",
       "  </thead>\n",
       "  <tbody>\n",
       "    <tr>\n",
       "      <th>0</th>\n",
       "      <td>garmin</td>\n",
       "      <td>64990.0</td>\n",
       "      <td>82990.0</td>\n",
       "      <td>4.7</td>\n",
       "      <td>NaN</td>\n",
       "      <td>Fenix 6S Sapphire, Premium GPS Watch, Music, P...</td>\n",
       "      <td>Circle</td>\n",
       "      <td>Black</td>\n",
       "      <td>Silicon</td>\n",
       "      <td>Yes</td>\n",
       "      <td>22.0</td>\n",
       "      <td>Yes</td>\n",
       "      <td>1.2</td>\n",
       "      <td>75.0</td>\n",
       "      <td>-17999.999997</td>\n",
       "    </tr>\n",
       "    <tr>\n",
       "      <th>1</th>\n",
       "      <td>ambrane</td>\n",
       "      <td>2368.0</td>\n",
       "      <td>4499.0</td>\n",
       "      <td>3.5</td>\n",
       "      <td>301.0</td>\n",
       "      <td>FitShot Curl</td>\n",
       "      <td>NaN</td>\n",
       "      <td>NaN</td>\n",
       "      <td>NaN</td>\n",
       "      <td>NaN</td>\n",
       "      <td>12.5</td>\n",
       "      <td>Yes</td>\n",
       "      <td>NaN</td>\n",
       "      <td>42.5</td>\n",
       "      <td>-2131.000000</td>\n",
       "    </tr>\n",
       "    <tr>\n",
       "      <th>2</th>\n",
       "      <td>ambrane</td>\n",
       "      <td>1799.0</td>\n",
       "      <td>3799.0</td>\n",
       "      <td>4.2</td>\n",
       "      <td>8003.0</td>\n",
       "      <td>Flex 1.69inch Lucid display and SPO2</td>\n",
       "      <td>Square</td>\n",
       "      <td>Pink</td>\n",
       "      <td>Silicon</td>\n",
       "      <td>Yes</td>\n",
       "      <td>22.0</td>\n",
       "      <td>Yes</td>\n",
       "      <td>1.7</td>\n",
       "      <td>NaN</td>\n",
       "      <td>-2000.000000</td>\n",
       "    </tr>\n",
       "    <tr>\n",
       "      <th>3</th>\n",
       "      <td>garmin</td>\n",
       "      <td>33490.0</td>\n",
       "      <td>36990.0</td>\n",
       "      <td>4.6</td>\n",
       "      <td>5.0</td>\n",
       "      <td>Instinct 2, Battery Upto 28 days, Tracback Rou...</td>\n",
       "      <td>Circle</td>\n",
       "      <td>Black</td>\n",
       "      <td>Silicon</td>\n",
       "      <td>No</td>\n",
       "      <td>17.5</td>\n",
       "      <td>Yes</td>\n",
       "      <td>0.9</td>\n",
       "      <td>NaN</td>\n",
       "      <td>-3500.000000</td>\n",
       "    </tr>\n",
       "    <tr>\n",
       "      <th>4</th>\n",
       "      <td>gizmore</td>\n",
       "      <td>1199.0</td>\n",
       "      <td>4499.0</td>\n",
       "      <td>4.7</td>\n",
       "      <td>NaN</td>\n",
       "      <td>GizFit CLOUD 1.85 IPS Large Display | AI Voice...</td>\n",
       "      <td>Square</td>\n",
       "      <td>Blue</td>\n",
       "      <td>Silicon</td>\n",
       "      <td>Yes</td>\n",
       "      <td>22.0</td>\n",
       "      <td>Yes</td>\n",
       "      <td>1.8</td>\n",
       "      <td>27.5</td>\n",
       "      <td>-3300.000000</td>\n",
       "    </tr>\n",
       "    <tr>\n",
       "      <th>...</th>\n",
       "      <td>...</td>\n",
       "      <td>...</td>\n",
       "      <td>...</td>\n",
       "      <td>...</td>\n",
       "      <td>...</td>\n",
       "      <td>...</td>\n",
       "      <td>...</td>\n",
       "      <td>...</td>\n",
       "      <td>...</td>\n",
       "      <td>...</td>\n",
       "      <td>...</td>\n",
       "      <td>...</td>\n",
       "      <td>...</td>\n",
       "      <td>...</td>\n",
       "      <td>...</td>\n",
       "    </tr>\n",
       "    <tr>\n",
       "      <th>347</th>\n",
       "      <td>huawei</td>\n",
       "      <td>10990.0</td>\n",
       "      <td>20990.0</td>\n",
       "      <td>4.5</td>\n",
       "      <td>203.0</td>\n",
       "      <td>Watch GT Sport</td>\n",
       "      <td>Circle</td>\n",
       "      <td>Black</td>\n",
       "      <td>Silicon</td>\n",
       "      <td>Yes</td>\n",
       "      <td>8.0</td>\n",
       "      <td>Yes</td>\n",
       "      <td>1.8</td>\n",
       "      <td>75.0</td>\n",
       "      <td>-10000.000000</td>\n",
       "    </tr>\n",
       "    <tr>\n",
       "      <th>348</th>\n",
       "      <td>zebronics</td>\n",
       "      <td>2199.0</td>\n",
       "      <td>4999.0</td>\n",
       "      <td>3.9</td>\n",
       "      <td>272.0</td>\n",
       "      <td>Zeb-Fit Me</td>\n",
       "      <td>Square</td>\n",
       "      <td>Green</td>\n",
       "      <td>Thermo Plastic Polyurethene</td>\n",
       "      <td>Yes</td>\n",
       "      <td>22.0</td>\n",
       "      <td>Yes</td>\n",
       "      <td>3.3</td>\n",
       "      <td>27.5</td>\n",
       "      <td>-2800.000000</td>\n",
       "    </tr>\n",
       "    <tr>\n",
       "      <th>349</th>\n",
       "      <td>gizmore</td>\n",
       "      <td>1999.0</td>\n",
       "      <td>5999.0</td>\n",
       "      <td>3.5</td>\n",
       "      <td>30.0</td>\n",
       "      <td>Gizfit Slate BT Calling | 1.57 Inch display | ...</td>\n",
       "      <td>Rectangle</td>\n",
       "      <td>Black</td>\n",
       "      <td>Silicon</td>\n",
       "      <td>Yes</td>\n",
       "      <td>3.5</td>\n",
       "      <td>Yes</td>\n",
       "      <td>1.6</td>\n",
       "      <td>20.0</td>\n",
       "      <td>-4000.000000</td>\n",
       "    </tr>\n",
       "    <tr>\n",
       "      <th>350</th>\n",
       "      <td>amazfit</td>\n",
       "      <td>6999.0</td>\n",
       "      <td>9999.0</td>\n",
       "      <td>3.7</td>\n",
       "      <td>81.0</td>\n",
       "      <td>GTS2 Mini with 1.55\" AMOLED Display Built-in A...</td>\n",
       "      <td>Rectangle</td>\n",
       "      <td>Black</td>\n",
       "      <td>Silicon</td>\n",
       "      <td>Yes</td>\n",
       "      <td>8.0</td>\n",
       "      <td>Yes</td>\n",
       "      <td>1.6</td>\n",
       "      <td>NaN</td>\n",
       "      <td>-3000.000000</td>\n",
       "    </tr>\n",
       "    <tr>\n",
       "      <th>351</th>\n",
       "      <td>fitbit</td>\n",
       "      <td>14999.0</td>\n",
       "      <td>NaN</td>\n",
       "      <td>4.7</td>\n",
       "      <td>NaN</td>\n",
       "      <td>Charge 5</td>\n",
       "      <td>Rectangle</td>\n",
       "      <td>Black</td>\n",
       "      <td>Silicon</td>\n",
       "      <td>Yes</td>\n",
       "      <td>22.0</td>\n",
       "      <td>Yes</td>\n",
       "      <td>1.0</td>\n",
       "      <td>20.0</td>\n",
       "      <td>NaN</td>\n",
       "    </tr>\n",
       "  </tbody>\n",
       "</table>\n",
       "<p>352 rows × 15 columns</p>\n",
       "</div>"
      ],
      "text/plain": [
       "         Brand  Current Price  Original Price  Rating  Number OF Ratings  \\\n",
       "0       garmin        64990.0         82990.0     4.7                NaN   \n",
       "1      ambrane         2368.0          4499.0     3.5              301.0   \n",
       "2      ambrane         1799.0          3799.0     4.2             8003.0   \n",
       "3       garmin        33490.0         36990.0     4.6                5.0   \n",
       "4      gizmore         1199.0          4499.0     4.7                NaN   \n",
       "..         ...            ...             ...     ...                ...   \n",
       "347     huawei        10990.0         20990.0     4.5              203.0   \n",
       "348  zebronics         2199.0          4999.0     3.9              272.0   \n",
       "349    gizmore         1999.0          5999.0     3.5               30.0   \n",
       "350    amazfit         6999.0          9999.0     3.7               81.0   \n",
       "351     fitbit        14999.0             NaN     4.7                NaN   \n",
       "\n",
       "                                            Model Name Dial Shape Strap Color  \\\n",
       "0    Fenix 6S Sapphire, Premium GPS Watch, Music, P...     Circle       Black   \n",
       "1                                         FitShot Curl        NaN         NaN   \n",
       "2                 Flex 1.69inch Lucid display and SPO2     Square        Pink   \n",
       "3    Instinct 2, Battery Upto 28 days, Tracback Rou...     Circle       Black   \n",
       "4    GizFit CLOUD 1.85 IPS Large Display | AI Voice...     Square        Blue   \n",
       "..                                                 ...        ...         ...   \n",
       "347                                     Watch GT Sport     Circle       Black   \n",
       "348                                         Zeb-Fit Me     Square       Green   \n",
       "349  Gizfit Slate BT Calling | 1.57 Inch display | ...  Rectangle       Black   \n",
       "350  GTS2 Mini with 1.55\" AMOLED Display Built-in A...  Rectangle       Black   \n",
       "351                                           Charge 5  Rectangle       Black   \n",
       "\n",
       "                  Strap Material Touchscreen  Battery Life (Days) Bluetooth  \\\n",
       "0                        Silicon         Yes                 22.0       Yes   \n",
       "1                            NaN         NaN                 12.5       Yes   \n",
       "2                        Silicon         Yes                 22.0       Yes   \n",
       "3                        Silicon          No                 17.5       Yes   \n",
       "4                        Silicon         Yes                 22.0       Yes   \n",
       "..                           ...         ...                  ...       ...   \n",
       "347                      Silicon         Yes                  8.0       Yes   \n",
       "348  Thermo Plastic Polyurethene         Yes                 22.0       Yes   \n",
       "349                      Silicon         Yes                  3.5       Yes   \n",
       "350                      Silicon         Yes                  8.0       Yes   \n",
       "351                      Silicon         Yes                 22.0       Yes   \n",
       "\n",
       "     Display Size  Weight  Discount Price  \n",
       "0             1.2    75.0   -17999.999997  \n",
       "1             NaN    42.5    -2131.000000  \n",
       "2             1.7     NaN    -2000.000000  \n",
       "3             0.9     NaN    -3500.000000  \n",
       "4             1.8    27.5    -3300.000000  \n",
       "..            ...     ...             ...  \n",
       "347           1.8    75.0   -10000.000000  \n",
       "348           3.3    27.5    -2800.000000  \n",
       "349           1.6    20.0    -4000.000000  \n",
       "350           1.6     NaN    -3000.000000  \n",
       "351           1.0    20.0             NaN  \n",
       "\n",
       "[352 rows x 15 columns]"
      ]
     },
     "execution_count": 68,
     "metadata": {},
     "output_type": "execute_result"
    }
   ],
   "source": [
    "train_df.drop('Discount Percentage',axis=1)"
   ]
  },
  {
   "cell_type": "code",
   "execution_count": null,
   "id": "12ee03a4-1ec0-4c21-b3bf-a4ec33f0ee4b",
   "metadata": {},
   "outputs": [],
   "source": []
  },
  {
   "cell_type": "code",
   "execution_count": null,
   "id": "7b555dc6-f0da-45e2-8367-1792c7541453",
   "metadata": {},
   "outputs": [],
   "source": []
  },
  {
   "cell_type": "markdown",
   "id": "f87ed575-b04a-4f94-8476-03448407688b",
   "metadata": {},
   "source": [
    "## Numerical data"
   ]
  },
  {
   "cell_type": "code",
   "execution_count": 69,
   "id": "d8d81dc6-e626-4cc3-a83d-437c7b552762",
   "metadata": {},
   "outputs": [],
   "source": [
    "numerical_data = [feature for feature in train_df.columns if train_df[feature].dtype != object]"
   ]
  },
  {
   "cell_type": "code",
   "execution_count": 70,
   "id": "333e34f9-0741-49c5-b70e-ecca4e143e6e",
   "metadata": {},
   "outputs": [
    {
     "data": {
      "text/plain": [
       "['Current Price',\n",
       " 'Original Price',\n",
       " 'Discount Percentage',\n",
       " 'Rating',\n",
       " 'Number OF Ratings',\n",
       " 'Battery Life (Days)',\n",
       " 'Display Size',\n",
       " 'Weight',\n",
       " 'Discount Price']"
      ]
     },
     "execution_count": 70,
     "metadata": {},
     "output_type": "execute_result"
    }
   ],
   "source": [
    "numerical_data"
   ]
  },
  {
   "cell_type": "code",
   "execution_count": 72,
   "id": "a49d5cfc-e2eb-4681-b9f6-e64018f25ee8",
   "metadata": {},
   "outputs": [
    {
     "data": {
      "text/html": [
       "<div>\n",
       "<style scoped>\n",
       "    .dataframe tbody tr th:only-of-type {\n",
       "        vertical-align: middle;\n",
       "    }\n",
       "\n",
       "    .dataframe tbody tr th {\n",
       "        vertical-align: top;\n",
       "    }\n",
       "\n",
       "    .dataframe thead th {\n",
       "        text-align: right;\n",
       "    }\n",
       "</style>\n",
       "<table border=\"1\" class=\"dataframe\">\n",
       "  <thead>\n",
       "    <tr style=\"text-align: right;\">\n",
       "      <th></th>\n",
       "      <th>Current Price</th>\n",
       "      <th>Original Price</th>\n",
       "      <th>Discount Percentage</th>\n",
       "      <th>Rating</th>\n",
       "      <th>Number OF Ratings</th>\n",
       "      <th>Battery Life (Days)</th>\n",
       "      <th>Display Size</th>\n",
       "      <th>Weight</th>\n",
       "      <th>Discount Price</th>\n",
       "    </tr>\n",
       "  </thead>\n",
       "  <tbody>\n",
       "    <tr>\n",
       "      <th>0</th>\n",
       "      <td>64990.0</td>\n",
       "      <td>82990.0</td>\n",
       "      <td>21.689360</td>\n",
       "      <td>4.7</td>\n",
       "      <td>NaN</td>\n",
       "      <td>22.0</td>\n",
       "      <td>1.2</td>\n",
       "      <td>75.0</td>\n",
       "      <td>-17999.999997</td>\n",
       "    </tr>\n",
       "    <tr>\n",
       "      <th>1</th>\n",
       "      <td>2368.0</td>\n",
       "      <td>4499.0</td>\n",
       "      <td>47.366081</td>\n",
       "      <td>3.5</td>\n",
       "      <td>301.0</td>\n",
       "      <td>12.5</td>\n",
       "      <td>NaN</td>\n",
       "      <td>42.5</td>\n",
       "      <td>-2131.000000</td>\n",
       "    </tr>\n",
       "    <tr>\n",
       "      <th>2</th>\n",
       "      <td>1799.0</td>\n",
       "      <td>3799.0</td>\n",
       "      <td>52.645433</td>\n",
       "      <td>4.2</td>\n",
       "      <td>8003.0</td>\n",
       "      <td>22.0</td>\n",
       "      <td>1.7</td>\n",
       "      <td>NaN</td>\n",
       "      <td>-2000.000000</td>\n",
       "    </tr>\n",
       "    <tr>\n",
       "      <th>3</th>\n",
       "      <td>33490.0</td>\n",
       "      <td>36990.0</td>\n",
       "      <td>9.462017</td>\n",
       "      <td>4.6</td>\n",
       "      <td>5.0</td>\n",
       "      <td>17.5</td>\n",
       "      <td>0.9</td>\n",
       "      <td>NaN</td>\n",
       "      <td>-3500.000000</td>\n",
       "    </tr>\n",
       "    <tr>\n",
       "      <th>4</th>\n",
       "      <td>1199.0</td>\n",
       "      <td>4499.0</td>\n",
       "      <td>73.349633</td>\n",
       "      <td>4.7</td>\n",
       "      <td>NaN</td>\n",
       "      <td>22.0</td>\n",
       "      <td>1.8</td>\n",
       "      <td>27.5</td>\n",
       "      <td>-3300.000000</td>\n",
       "    </tr>\n",
       "  </tbody>\n",
       "</table>\n",
       "</div>"
      ],
      "text/plain": [
       "   Current Price  Original Price  Discount Percentage  Rating  \\\n",
       "0        64990.0         82990.0            21.689360     4.7   \n",
       "1         2368.0          4499.0            47.366081     3.5   \n",
       "2         1799.0          3799.0            52.645433     4.2   \n",
       "3        33490.0         36990.0             9.462017     4.6   \n",
       "4         1199.0          4499.0            73.349633     4.7   \n",
       "\n",
       "   Number OF Ratings  Battery Life (Days)  Display Size  Weight  \\\n",
       "0                NaN                 22.0           1.2    75.0   \n",
       "1              301.0                 12.5           NaN    42.5   \n",
       "2             8003.0                 22.0           1.7     NaN   \n",
       "3                5.0                 17.5           0.9     NaN   \n",
       "4                NaN                 22.0           1.8    27.5   \n",
       "\n",
       "   Discount Price  \n",
       "0   -17999.999997  \n",
       "1    -2131.000000  \n",
       "2    -2000.000000  \n",
       "3    -3500.000000  \n",
       "4    -3300.000000  "
      ]
     },
     "execution_count": 72,
     "metadata": {},
     "output_type": "execute_result"
    }
   ],
   "source": [
    "train_df[numerical_data].head()"
   ]
  },
  {
   "cell_type": "markdown",
   "id": "863fbe26-b2a7-4605-8c3c-1d8f95b3cc42",
   "metadata": {},
   "source": [
    "## Categorical Data"
   ]
  },
  {
   "cell_type": "code",
   "execution_count": 59,
   "id": "836215c6-0b9b-4a91-82c7-1c204ee0165e",
   "metadata": {},
   "outputs": [],
   "source": [
    "categorical_data =[feature for feature in train_df.columns if train_df[feature].dtype == object]"
   ]
  },
  {
   "cell_type": "code",
   "execution_count": 60,
   "id": "6c926257-68ba-4bca-9248-ea9b3a6aa9c4",
   "metadata": {},
   "outputs": [
    {
     "data": {
      "text/plain": [
       "['Brand',\n",
       " 'Model Name',\n",
       " 'Dial Shape',\n",
       " 'Strap Color',\n",
       " 'Strap Material',\n",
       " 'Touchscreen',\n",
       " 'Bluetooth']"
      ]
     },
     "execution_count": 60,
     "metadata": {},
     "output_type": "execute_result"
    }
   ],
   "source": [
    "categorical_data"
   ]
  },
  {
   "cell_type": "code",
   "execution_count": null,
   "id": "cdfe94ea-94bd-4682-afb8-d984e46ba081",
   "metadata": {},
   "outputs": [],
   "source": []
  },
  {
   "cell_type": "code",
   "execution_count": 73,
   "id": "3a5c775a-f5b0-419e-b8fc-496bad7c7df2",
   "metadata": {},
   "outputs": [
    {
     "data": {
      "image/png": "[encoded data removed]",
      "text/plain": [
       "<Figure size 1400x1000 with 9 Axes>"
      ]
     },
     "metadata": {},
     "output_type": "display_data"
    }
   ],
   "source": [
    "# Histogram\n",
    "fig, axes = plt.subplots(nrows=3,ncols=3,figsize=(14,10))\n",
    "for i,colum in enumerate(numerical_data):\n",
    "    row = i//3\n",
    "    col= i % 3\n",
    "    ax = axes[row,col]\n",
    "    sns.histplot(data = train_df[colum],ax= ax)\n",
    "plt.tight_layout()\n",
    "plt.show()"
   ]
  },
  {
   "cell_type": "code",
   "execution_count": 74,
   "id": "43fa5f81-3f27-4838-8850-7ba07ef1174f",
   "metadata": {},
   "outputs": [
    {
     "data": {
      "image/png": "[encoded data removed]",
      "text/plain": [
       "<Figure size 1400x1000 with 9 Axes>"
      ]
     },
     "metadata": {},
     "output_type": "display_data"
    }
   ],
   "source": [
    "# Density Plots\n",
    "fig, axes = plt.subplots(nrows=3,ncols=3,figsize=(14,10))\n",
    "for i,colum in enumerate(numerical_data):\n",
    "    row = i//3\n",
    "    col= i % 3\n",
    "    ax = axes[row,col]\n",
    "    sns.kdeplot(data = train_df[colum],ax= ax,fill=True)\n",
    "plt.tight_layout()\n",
    "plt.show()"
   ]
  },
  {
   "cell_type": "code",
   "execution_count": null,
   "id": "10c6d4dd-9d0d-49c7-91b8-fc2e2c890318",
   "metadata": {},
   "outputs": [],
   "source": []
  },
  {
   "cell_type": "code",
   "execution_count": null,
   "id": "57dbacd6-b6ba-49e4-9132-a3912d1237f8",
   "metadata": {},
   "outputs": [],
   "source": []
  },
  {
   "cell_type": "code",
   "execution_count": 75,
   "id": "b4c7fbfb-52f7-4c6c-b7ad-16c3d64bb9b1",
   "metadata": {},
   "outputs": [],
   "source": [
    "def remove_outliers_IQR(data,col):\n",
    "    \"\"\"removes the outliers\"\"\"\n",
    "    Q1 = data[col].quantile(0.25)\n",
    "    Q2 = data[col].quantile(0.75)\n",
    "    IQR = Q3-Q1\n",
    "    lower_bound = Q1- 1.5 *IQR\n",
    "    upper_bound = Q3 - 1.5 * IQR\n",
    "    return data[(data[col]>lower_bound)&(data[col]<upper_bound)]"
   ]
  },
  {
   "cell_type": "code",
   "execution_count": null,
   "id": "e76198c0-b0d3-4fdb-b24f-9fe42ddeab4b",
   "metadata": {},
   "outputs": [],
   "source": []
  }
 ],
 "metadata": {
  "kernelspec": {
   "display_name": "Python 3 (ipykernel)",
   "language": "python",
   "name": "python3"
  },
  "language_info": {
   "codemirror_mode": {
    "name": "ipython",
    "version": 3
   },
   "file_extension": ".py",
   "mimetype": "text/x-python",
   "name": "python",
   "nbconvert_exporter": "python",
   "pygments_lexer": "ipython3",
   "version": "3.10.18"
  }
 },
 "nbformat": 4,
 "nbformat_minor": 5
}
