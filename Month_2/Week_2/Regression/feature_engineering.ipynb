{
 "cells": [
  {
   "cell_type": "code",
   "execution_count": 234,
   "id": "1e7dfc1c-4977-4b74-8e55-3a96fb2f1bb4",
   "metadata": {},
   "outputs": [],
   "source": [
    "import  re\n",
    "import pandas as pd\n",
    "import numpy as np\n",
    "import matplotlib.pyplot as plt\n",
    "import seaborn as sns\n",
    "%matplotlib inline"
   ]
  },
  {
   "cell_type": "code",
   "execution_count": 235,
   "id": "c7fe3fec-39c6-48da-b27a-c1fc3f5a8e09",
   "metadata": {},
   "outputs": [],
   "source": [
    "file_path = 'smartwatches.csv'\n",
    "df = pd.read_csv(file_path,index_col='Unnamed: 0')\n",
    "df.drop_duplicates(inplace=True)\n",
    "train_df = df.sample(frac=0.8,random_state=42)\n",
    "test_df = df.drop(train_df.index)\n",
    "train_df = train_df.reset_index()\n",
    "test_df = test_df.reset_index()"
   ]
  },
  {
   "cell_type": "code",
   "execution_count": 236,
   "id": "f992f20a-81ef-40f3-9370-ef9bd374d7dc",
   "metadata": {},
   "outputs": [
    {
     "data": {
      "text/plain": [
       "((440, 15), (352, 16), (88, 16))"
      ]
     },
     "execution_count": 236,
     "metadata": {},
     "output_type": "execute_result"
    }
   ],
   "source": [
    "df.shape,train_df.shape,test_df.shape"
   ]
  },
  {
   "cell_type": "code",
   "execution_count": 237,
   "id": "18e4282c-267c-47e9-9044-6ce71605a1c5",
   "metadata": {},
   "outputs": [
    {
     "data": {
      "text/html": [
       "<div>\n",
       "<style scoped>\n",
       "    .dataframe tbody tr th:only-of-type {\n",
       "        vertical-align: middle;\n",
       "    }\n",
       "\n",
       "    .dataframe tbody tr th {\n",
       "        vertical-align: top;\n",
       "    }\n",
       "\n",
       "    .dataframe thead th {\n",
       "        text-align: right;\n",
       "    }\n",
       "</style>\n",
       "<table border=\"1\" class=\"dataframe\">\n",
       "  <thead>\n",
       "    <tr style=\"text-align: right;\">\n",
       "      <th></th>\n",
       "      <th>index</th>\n",
       "      <th>Brand</th>\n",
       "      <th>Current Price</th>\n",
       "      <th>Original Price</th>\n",
       "      <th>Discount Percentage</th>\n",
       "      <th>Rating</th>\n",
       "      <th>Number OF Ratings</th>\n",
       "      <th>Model Name</th>\n",
       "      <th>Dial Shape</th>\n",
       "      <th>Strap Color</th>\n",
       "      <th>Strap Material</th>\n",
       "      <th>Touchscreen</th>\n",
       "      <th>Battery Life (Days)</th>\n",
       "      <th>Bluetooth</th>\n",
       "      <th>Display Size</th>\n",
       "      <th>Weight</th>\n",
       "    </tr>\n",
       "  </thead>\n",
       "  <tbody>\n",
       "    <tr>\n",
       "      <th>0</th>\n",
       "      <td>275</td>\n",
       "      <td>garmin</td>\n",
       "      <td>64990.0</td>\n",
       "      <td>82990.0</td>\n",
       "      <td>21.689360</td>\n",
       "      <td>4.7</td>\n",
       "      <td>NaN</td>\n",
       "      <td>Fenix 6S Sapphire, Premium GPS Watch, Music, P...</td>\n",
       "      <td>Circle</td>\n",
       "      <td>Black</td>\n",
       "      <td>Silicon</td>\n",
       "      <td>Yes</td>\n",
       "      <td>22.0</td>\n",
       "      <td>Yes</td>\n",
       "      <td>1.2 inches</td>\n",
       "      <td>75g +</td>\n",
       "    </tr>\n",
       "    <tr>\n",
       "      <th>1</th>\n",
       "      <td>84</td>\n",
       "      <td>ambrane</td>\n",
       "      <td>2368.0</td>\n",
       "      <td>4499.0</td>\n",
       "      <td>47.366081</td>\n",
       "      <td>3.5</td>\n",
       "      <td>301.0</td>\n",
       "      <td>FitShot Curl</td>\n",
       "      <td>NaN</td>\n",
       "      <td>NaN</td>\n",
       "      <td>NaN</td>\n",
       "      <td>NaN</td>\n",
       "      <td>12.5</td>\n",
       "      <td>Yes</td>\n",
       "      <td>NaN</td>\n",
       "      <td>35 - 50 g</td>\n",
       "    </tr>\n",
       "    <tr>\n",
       "      <th>2</th>\n",
       "      <td>357</td>\n",
       "      <td>ambrane</td>\n",
       "      <td>1799.0</td>\n",
       "      <td>3799.0</td>\n",
       "      <td>52.645433</td>\n",
       "      <td>4.2</td>\n",
       "      <td>8003.0</td>\n",
       "      <td>Flex 1.69inch Lucid display and SPO2</td>\n",
       "      <td>Square</td>\n",
       "      <td>Pink</td>\n",
       "      <td>Silicon</td>\n",
       "      <td>Yes</td>\n",
       "      <td>22.0</td>\n",
       "      <td>Yes</td>\n",
       "      <td>1.7 inches</td>\n",
       "      <td>NaN</td>\n",
       "    </tr>\n",
       "    <tr>\n",
       "      <th>3</th>\n",
       "      <td>265</td>\n",
       "      <td>garmin</td>\n",
       "      <td>33490.0</td>\n",
       "      <td>36990.0</td>\n",
       "      <td>9.462017</td>\n",
       "      <td>4.6</td>\n",
       "      <td>5.0</td>\n",
       "      <td>Instinct 2, Battery Upto 28 days, Tracback Rou...</td>\n",
       "      <td>Circle</td>\n",
       "      <td>Black</td>\n",
       "      <td>Silicon</td>\n",
       "      <td>No</td>\n",
       "      <td>17.5</td>\n",
       "      <td>Yes</td>\n",
       "      <td>0.9 inches</td>\n",
       "      <td>NaN</td>\n",
       "    </tr>\n",
       "    <tr>\n",
       "      <th>4</th>\n",
       "      <td>337</td>\n",
       "      <td>gizmore</td>\n",
       "      <td>1199.0</td>\n",
       "      <td>4499.0</td>\n",
       "      <td>73.349633</td>\n",
       "      <td>4.7</td>\n",
       "      <td>NaN</td>\n",
       "      <td>GizFit CLOUD 1.85 IPS Large Display | AI Voice...</td>\n",
       "      <td>Square</td>\n",
       "      <td>Blue</td>\n",
       "      <td>Silicon</td>\n",
       "      <td>Yes</td>\n",
       "      <td>22.0</td>\n",
       "      <td>Yes</td>\n",
       "      <td>1.8 inches</td>\n",
       "      <td>20 - 35 g</td>\n",
       "    </tr>\n",
       "  </tbody>\n",
       "</table>\n",
       "</div>"
      ],
      "text/plain": [
       "   index    Brand  Current Price  Original Price  Discount Percentage  Rating  \\\n",
       "0    275   garmin        64990.0         82990.0            21.689360     4.7   \n",
       "1     84  ambrane         2368.0          4499.0            47.366081     3.5   \n",
       "2    357  ambrane         1799.0          3799.0            52.645433     4.2   \n",
       "3    265   garmin        33490.0         36990.0             9.462017     4.6   \n",
       "4    337  gizmore         1199.0          4499.0            73.349633     4.7   \n",
       "\n",
       "   Number OF Ratings                                         Model Name  \\\n",
       "0                NaN  Fenix 6S Sapphire, Premium GPS Watch, Music, P...   \n",
       "1              301.0                                       FitShot Curl   \n",
       "2             8003.0               Flex 1.69inch Lucid display and SPO2   \n",
       "3                5.0  Instinct 2, Battery Upto 28 days, Tracback Rou...   \n",
       "4                NaN  GizFit CLOUD 1.85 IPS Large Display | AI Voice...   \n",
       "\n",
       "  Dial Shape Strap Color Strap Material Touchscreen  Battery Life (Days)  \\\n",
       "0     Circle       Black        Silicon         Yes                 22.0   \n",
       "1        NaN         NaN            NaN         NaN                 12.5   \n",
       "2     Square        Pink        Silicon         Yes                 22.0   \n",
       "3     Circle       Black        Silicon          No                 17.5   \n",
       "4     Square        Blue        Silicon         Yes                 22.0   \n",
       "\n",
       "  Bluetooth Display Size     Weight  \n",
       "0       Yes   1.2 inches      75g +  \n",
       "1       Yes          NaN  35 - 50 g  \n",
       "2       Yes   1.7 inches        NaN  \n",
       "3       Yes   0.9 inches        NaN  \n",
       "4       Yes   1.8 inches  20 - 35 g  "
      ]
     },
     "execution_count": 237,
     "metadata": {},
     "output_type": "execute_result"
    }
   ],
   "source": [
    "train_df.head()"
   ]
  },
  {
   "cell_type": "code",
   "execution_count": 238,
   "id": "cca12a96-f642-4bfb-835f-b9ea7f3de9f3",
   "metadata": {},
   "outputs": [],
   "source": [
    "train_df.drop('index',axis=1,inplace=True)"
   ]
  },
  {
   "cell_type": "code",
   "execution_count": 239,
   "id": "77e8b94f-1208-43ee-9083-877f4643b614",
   "metadata": {},
   "outputs": [
    {
     "data": {
      "text/plain": [
       "np.int64(26)"
      ]
     },
     "execution_count": 239,
     "metadata": {},
     "output_type": "execute_result"
    }
   ],
   "source": [
    "train_df['Display Size'].isna().sum()"
   ]
  },
  {
   "cell_type": "code",
   "execution_count": 240,
   "id": "91615a79-ff3d-43e2-ae8d-418fa9c1345f",
   "metadata": {},
   "outputs": [
    {
     "data": {
      "text/plain": [
       "Display Size\n",
       "1.7 inches     57\n",
       "1.3 inches     47\n",
       "1.8 inches     44\n",
       "1.4 inches     35\n",
       "0.1 inches     26\n",
       "1.6 inches     25\n",
       "1.9 inches     20\n",
       "1.2 inches     17\n",
       "4.4 inches      5\n",
       "4.3 inches      5\n",
       "0.9 inches      4\n",
       "1.0 inches      4\n",
       "1.5 inches      4\n",
       "1.1 inches      4\n",
       "0.2 inches      4\n",
       "2.7 inches      2\n",
       "20.0 inches     2\n",
       "3.3 inches      2\n",
       "3.5 inches      2\n",
       "0.0 inches      1\n",
       "0.8 inches      1\n",
       "2.0 inches      1\n",
       "2.3 inches      1\n",
       "0.5 inches      1\n",
       "45.0 inches     1\n",
       "0.6 inches      1\n",
       "6.9 inches      1\n",
       "33.0 inches     1\n",
       "18.5 inches     1\n",
       "2.4 inches      1\n",
       "4.6 inches      1\n",
       "4.2 inches      1\n",
       "3.0 inches      1\n",
       "27.9 inches     1\n",
       "15.9 inches     1\n",
       "4.5 inches      1\n",
       "Name: count, dtype: int64"
      ]
     },
     "execution_count": 240,
     "metadata": {},
     "output_type": "execute_result"
    }
   ],
   "source": [
    "train_df['Display Size'].value_counts()"
   ]
  },
  {
   "cell_type": "code",
   "execution_count": 241,
   "id": "cd54b1e1-43b0-48d8-a8ff-5db3c30edc30",
   "metadata": {},
   "outputs": [
    {
     "name": "stderr",
     "output_type": "stream",
     "text": [
      "C:\\Users\\Admin\\AppData\\Local\\Temp\\ipykernel_11552\\1975416813.py:1: FutureWarning: A value is trying to be set on a copy of a DataFrame or Series through chained assignment using an inplace method.\n",
      "The behavior will change in pandas 3.0. This inplace method will never work because the intermediate object on which we are setting values always behaves as a copy.\n",
      "\n",
      "For example, when doing 'df[col].method(value, inplace=True)', try using 'df.method({col: value}, inplace=True)' or df[col] = df[col].method(value) instead, to perform the operation inplace on the original object.\n",
      "\n",
      "\n",
      "  train_df['Display Size'].fillna('0.0 inches', inplace = True)\n"
     ]
    }
   ],
   "source": [
    "train_df['Display Size'].fillna('0.0 inches', inplace = True)"
   ]
  },
  {
   "cell_type": "code",
   "execution_count": 242,
   "id": "cdcf380f-58bc-4b8e-8c9e-7d72e0872867",
   "metadata": {},
   "outputs": [
    {
     "data": {
      "text/plain": [
       "np.int64(0)"
      ]
     },
     "execution_count": 242,
     "metadata": {},
     "output_type": "execute_result"
    }
   ],
   "source": [
    "train_df['Display Size'].isna().sum()"
   ]
  },
  {
   "cell_type": "code",
   "execution_count": 243,
   "id": "5a08c32d-f525-45f5-8532-3055b1c669c8",
   "metadata": {},
   "outputs": [],
   "source": [
    "train_df['Display Size'] = train_df['Display Size'].apply(lambda x: float(x.split()[0]))"
   ]
  },
  {
   "cell_type": "code",
   "execution_count": 244,
   "id": "b75279e2-e029-4d52-ac7c-2e80fea48cb2",
   "metadata": {},
   "outputs": [
    {
     "data": {
      "text/plain": [
       "0    1.2\n",
       "1    0.0\n",
       "2    1.7\n",
       "3    0.9\n",
       "4    1.8\n",
       "Name: Display Size, dtype: float64"
      ]
     },
     "execution_count": 244,
     "metadata": {},
     "output_type": "execute_result"
    }
   ],
   "source": [
    "train_df['Display Size'].head()"
   ]
  },
  {
   "cell_type": "code",
   "execution_count": 245,
   "id": "ac62ef7b-11ef-4b09-981f-d853d284b9f1",
   "metadata": {},
   "outputs": [
    {
     "name": "stderr",
     "output_type": "stream",
     "text": [
      "C:\\Users\\Admin\\AppData\\Local\\Temp\\ipykernel_11552\\759104598.py:1: FutureWarning: A value is trying to be set on a copy of a DataFrame or Series through chained assignment using an inplace method.\n",
      "The behavior will change in pandas 3.0. This inplace method will never work because the intermediate object on which we are setting values always behaves as a copy.\n",
      "\n",
      "For example, when doing 'df[col].method(value, inplace=True)', try using 'df.method({col: value}, inplace=True)' or df[col] = df[col].method(value) instead, to perform the operation inplace on the original object.\n",
      "\n",
      "\n",
      "  train_df['Display Size'].replace(0.0,np.nan,inplace=True)\n"
     ]
    }
   ],
   "source": [
    "train_df['Display Size'].replace(0.0,np.nan,inplace=True)"
   ]
  },
  {
   "cell_type": "code",
   "execution_count": 246,
   "id": "db678ce9-bf86-47a6-91ed-9c70da12b5e9",
   "metadata": {},
   "outputs": [
    {
     "data": {
      "text/plain": [
       "np.int64(27)"
      ]
     },
     "execution_count": 246,
     "metadata": {},
     "output_type": "execute_result"
    }
   ],
   "source": [
    "train_df['Display Size'].isna().sum()"
   ]
  },
  {
   "cell_type": "code",
   "execution_count": 247,
   "id": "00eeb8fa-202d-4235-aa7a-b620e0972c34",
   "metadata": {},
   "outputs": [
    {
     "data": {
      "text/plain": [
       "Weight\n",
       "20 - 35 g    62\n",
       "75g +        54\n",
       "35 - 50 g    42\n",
       "<= 20 g      37\n",
       "50 - 75 g    10\n",
       "Name: count, dtype: int64"
      ]
     },
     "execution_count": 247,
     "metadata": {},
     "output_type": "execute_result"
    }
   ],
   "source": [
    "train_df['Weight'].value_counts()"
   ]
  },
  {
   "cell_type": "code",
   "execution_count": 248,
   "id": "ccad77c2-8338-4145-9585-80e59b6f0a36",
   "metadata": {},
   "outputs": [
    {
     "data": {
      "text/plain": [
       "['20', '35']"
      ]
     },
     "execution_count": 248,
     "metadata": {},
     "output_type": "execute_result"
    }
   ],
   "source": [
    "re.findall('\\d+','20 - 35 g')"
   ]
  },
  {
   "cell_type": "code",
   "execution_count": 249,
   "id": "63faeb97-017a-4645-9f7f-0b9cccf8a985",
   "metadata": {},
   "outputs": [
    {
     "data": {
      "text/plain": [
       "27.5"
      ]
     },
     "execution_count": 249,
     "metadata": {},
     "output_type": "execute_result"
    }
   ],
   "source": [
    "cal = sum([int(x) for x  in re.findall('\\d+','20 - 35 g')]) /2\n",
    "cal"
   ]
  },
  {
   "cell_type": "code",
   "execution_count": 250,
   "id": "e029ddf8-31fa-4b21-9b5e-93c08ca6d741",
   "metadata": {},
   "outputs": [
    {
     "name": "stderr",
     "output_type": "stream",
     "text": [
      "C:\\Users\\Admin\\AppData\\Local\\Temp\\ipykernel_11552\\2795161256.py:1: FutureWarning: A value is trying to be set on a copy of a DataFrame or Series through chained assignment using an inplace method.\n",
      "The behavior will change in pandas 3.0. This inplace method will never work because the intermediate object on which we are setting values always behaves as a copy.\n",
      "\n",
      "For example, when doing 'df[col].method(value, inplace=True)', try using 'df.method({col: value}, inplace=True)' or df[col] = df[col].method(value) instead, to perform the operation inplace on the original object.\n",
      "\n",
      "\n",
      "  train_df['Weight'].replace('20 - 35 g',cal,inplace=True)\n"
     ]
    }
   ],
   "source": [
    "train_df['Weight'].replace('20 - 35 g',cal,inplace=True)"
   ]
  },
  {
   "cell_type": "code",
   "execution_count": 251,
   "id": "40b4e294-99ea-4924-923e-669f613577d5",
   "metadata": {},
   "outputs": [
    {
     "data": {
      "text/plain": [
       "Weight\n",
       "27.5         62\n",
       "75g +        54\n",
       "35 - 50 g    42\n",
       "<= 20 g      37\n",
       "50 - 75 g    10\n",
       "Name: count, dtype: int64"
      ]
     },
     "execution_count": 251,
     "metadata": {},
     "output_type": "execute_result"
    }
   ],
   "source": [
    "train_df['Weight'].value_counts()"
   ]
  },
  {
   "cell_type": "code",
   "execution_count": 252,
   "id": "d8a4cf3f-49fb-462c-9b60-490d09df4a02",
   "metadata": {},
   "outputs": [
    {
     "name": "stderr",
     "output_type": "stream",
     "text": [
      "C:\\Users\\Admin\\AppData\\Local\\Temp\\ipykernel_11552\\1786500352.py:2: FutureWarning: A value is trying to be set on a copy of a DataFrame or Series through chained assignment using an inplace method.\n",
      "The behavior will change in pandas 3.0. This inplace method will never work because the intermediate object on which we are setting values always behaves as a copy.\n",
      "\n",
      "For example, when doing 'df[col].method(value, inplace=True)', try using 'df.method({col: value}, inplace=True)' or df[col] = df[col].method(value) instead, to perform the operation inplace on the original object.\n",
      "\n",
      "\n",
      "  train_df['Weight'].replace('35 - 50 g',cal,inplace=True)\n"
     ]
    }
   ],
   "source": [
    "cal = sum([int(x) for x  in re.findall('\\d+','35 - 50 g')]) /2\n",
    "train_df['Weight'].replace('35 - 50 g',cal,inplace=True)"
   ]
  },
  {
   "cell_type": "code",
   "execution_count": 253,
   "id": "2d94e997-dc85-44f9-8eb4-b8cb47245a0c",
   "metadata": {},
   "outputs": [
    {
     "data": {
      "text/plain": [
       "Weight\n",
       "27.5         62\n",
       "75g +        54\n",
       "42.5         42\n",
       "<= 20 g      37\n",
       "50 - 75 g    10\n",
       "Name: count, dtype: int64"
      ]
     },
     "execution_count": 253,
     "metadata": {},
     "output_type": "execute_result"
    }
   ],
   "source": [
    "train_df['Weight'].value_counts()"
   ]
  },
  {
   "cell_type": "code",
   "execution_count": 254,
   "id": "bd268839-90df-4562-a44d-1f64724fbc42",
   "metadata": {},
   "outputs": [
    {
     "name": "stderr",
     "output_type": "stream",
     "text": [
      "C:\\Users\\Admin\\AppData\\Local\\Temp\\ipykernel_11552\\1935911562.py:2: FutureWarning: A value is trying to be set on a copy of a DataFrame or Series through chained assignment using an inplace method.\n",
      "The behavior will change in pandas 3.0. This inplace method will never work because the intermediate object on which we are setting values always behaves as a copy.\n",
      "\n",
      "For example, when doing 'df[col].method(value, inplace=True)', try using 'df.method({col: value}, inplace=True)' or df[col] = df[col].method(value) instead, to perform the operation inplace on the original object.\n",
      "\n",
      "\n",
      "  train_df['Weight'].replace('50 - 75 g',cal,inplace=True)\n"
     ]
    }
   ],
   "source": [
    "cal = sum([int(x) for x  in re.findall('\\d+','50 - 75 g')]) /2\n",
    "train_df['Weight'].replace('50 - 75 g',cal,inplace=True)"
   ]
  },
  {
   "cell_type": "code",
   "execution_count": 255,
   "id": "69319de3-a4a2-49d5-ba8f-249a6b367840",
   "metadata": {},
   "outputs": [
    {
     "data": {
      "text/plain": [
       "Weight\n",
       "27.5       62\n",
       "75g +      54\n",
       "42.5       42\n",
       "<= 20 g    37\n",
       "62.5       10\n",
       "Name: count, dtype: int64"
      ]
     },
     "execution_count": 255,
     "metadata": {},
     "output_type": "execute_result"
    }
   ],
   "source": [
    "train_df['Weight'].value_counts()"
   ]
  },
  {
   "cell_type": "code",
   "execution_count": 256,
   "id": "22d4185d-7125-4e5f-a9ca-fbca988a639b",
   "metadata": {},
   "outputs": [
    {
     "name": "stderr",
     "output_type": "stream",
     "text": [
      "C:\\Users\\Admin\\AppData\\Local\\Temp\\ipykernel_11552\\3003243348.py:1: FutureWarning: A value is trying to be set on a copy of a DataFrame or Series through chained assignment using an inplace method.\n",
      "The behavior will change in pandas 3.0. This inplace method will never work because the intermediate object on which we are setting values always behaves as a copy.\n",
      "\n",
      "For example, when doing 'df[col].method(value, inplace=True)', try using 'df.method({col: value}, inplace=True)' or df[col] = df[col].method(value) instead, to perform the operation inplace on the original object.\n",
      "\n",
      "\n",
      "  train_df['Weight'].replace('75g +',float(re.findall('\\d+','75g +')[0]),inplace=True)\n"
     ]
    }
   ],
   "source": [
    "train_df['Weight'].replace('75g +',float(re.findall('\\d+','75g +')[0]),inplace=True)"
   ]
  },
  {
   "cell_type": "code",
   "execution_count": 257,
   "id": "2fc1680d-5207-455e-bf51-04c62b279fea",
   "metadata": {},
   "outputs": [
    {
     "data": {
      "text/plain": [
       "Weight\n",
       "27.5       62\n",
       "75.0       54\n",
       "42.5       42\n",
       "<= 20 g    37\n",
       "62.5       10\n",
       "Name: count, dtype: int64"
      ]
     },
     "execution_count": 257,
     "metadata": {},
     "output_type": "execute_result"
    }
   ],
   "source": [
    "train_df['Weight'].value_counts()"
   ]
  },
  {
   "cell_type": "code",
   "execution_count": 258,
   "id": "7a6916a3-f9a9-4973-a1da-90903723e412",
   "metadata": {},
   "outputs": [
    {
     "name": "stderr",
     "output_type": "stream",
     "text": [
      "C:\\Users\\Admin\\AppData\\Local\\Temp\\ipykernel_11552\\3242668750.py:1: FutureWarning: A value is trying to be set on a copy of a DataFrame or Series through chained assignment using an inplace method.\n",
      "The behavior will change in pandas 3.0. This inplace method will never work because the intermediate object on which we are setting values always behaves as a copy.\n",
      "\n",
      "For example, when doing 'df[col].method(value, inplace=True)', try using 'df.method({col: value}, inplace=True)' or df[col] = df[col].method(value) instead, to perform the operation inplace on the original object.\n",
      "\n",
      "\n",
      "  train_df['Weight'].replace('<= 20 g',float(re.findall('\\d+','<= 20 g')[0]),inplace=True)\n",
      "C:\\Users\\Admin\\AppData\\Local\\Temp\\ipykernel_11552\\3242668750.py:1: FutureWarning: Downcasting behavior in `replace` is deprecated and will be removed in a future version. To retain the old behavior, explicitly call `result.infer_objects(copy=False)`. To opt-in to the future behavior, set `pd.set_option('future.no_silent_downcasting', True)`\n",
      "  train_df['Weight'].replace('<= 20 g',float(re.findall('\\d+','<= 20 g')[0]),inplace=True)\n"
     ]
    }
   ],
   "source": [
    "train_df['Weight'].replace('<= 20 g',float(re.findall('\\d+','<= 20 g')[0]),inplace=True)"
   ]
  },
  {
   "cell_type": "code",
   "execution_count": 259,
   "id": "3b810114-2c94-4edf-969b-2b909ce329c8",
   "metadata": {},
   "outputs": [
    {
     "data": {
      "text/plain": [
       "Weight\n",
       "27.5    62\n",
       "75.0    54\n",
       "42.5    42\n",
       "20.0    37\n",
       "62.5    10\n",
       "Name: count, dtype: int64"
      ]
     },
     "execution_count": 259,
     "metadata": {},
     "output_type": "execute_result"
    }
   ],
   "source": [
    "train_df['Weight'].value_counts()"
   ]
  },
  {
   "cell_type": "code",
   "execution_count": 260,
   "id": "de789eeb-8f6c-4505-910b-538e41b5ce0d",
   "metadata": {},
   "outputs": [
    {
     "data": {
      "text/html": [
       "<div>\n",
       "<style scoped>\n",
       "    .dataframe tbody tr th:only-of-type {\n",
       "        vertical-align: middle;\n",
       "    }\n",
       "\n",
       "    .dataframe tbody tr th {\n",
       "        vertical-align: top;\n",
       "    }\n",
       "\n",
       "    .dataframe thead th {\n",
       "        text-align: right;\n",
       "    }\n",
       "</style>\n",
       "<table border=\"1\" class=\"dataframe\">\n",
       "  <thead>\n",
       "    <tr style=\"text-align: right;\">\n",
       "      <th></th>\n",
       "      <th>Brand</th>\n",
       "      <th>Current Price</th>\n",
       "      <th>Original Price</th>\n",
       "      <th>Discount Percentage</th>\n",
       "      <th>Rating</th>\n",
       "      <th>Number OF Ratings</th>\n",
       "      <th>Model Name</th>\n",
       "      <th>Dial Shape</th>\n",
       "      <th>Strap Color</th>\n",
       "      <th>Strap Material</th>\n",
       "      <th>Touchscreen</th>\n",
       "      <th>Battery Life (Days)</th>\n",
       "      <th>Bluetooth</th>\n",
       "      <th>Display Size</th>\n",
       "      <th>Weight</th>\n",
       "    </tr>\n",
       "  </thead>\n",
       "  <tbody>\n",
       "    <tr>\n",
       "      <th>0</th>\n",
       "      <td>garmin</td>\n",
       "      <td>64990.0</td>\n",
       "      <td>82990.0</td>\n",
       "      <td>21.689360</td>\n",
       "      <td>4.7</td>\n",
       "      <td>NaN</td>\n",
       "      <td>Fenix 6S Sapphire, Premium GPS Watch, Music, P...</td>\n",
       "      <td>Circle</td>\n",
       "      <td>Black</td>\n",
       "      <td>Silicon</td>\n",
       "      <td>Yes</td>\n",
       "      <td>22.0</td>\n",
       "      <td>Yes</td>\n",
       "      <td>1.2</td>\n",
       "      <td>75.0</td>\n",
       "    </tr>\n",
       "    <tr>\n",
       "      <th>1</th>\n",
       "      <td>ambrane</td>\n",
       "      <td>2368.0</td>\n",
       "      <td>4499.0</td>\n",
       "      <td>47.366081</td>\n",
       "      <td>3.5</td>\n",
       "      <td>301.0</td>\n",
       "      <td>FitShot Curl</td>\n",
       "      <td>NaN</td>\n",
       "      <td>NaN</td>\n",
       "      <td>NaN</td>\n",
       "      <td>NaN</td>\n",
       "      <td>12.5</td>\n",
       "      <td>Yes</td>\n",
       "      <td>NaN</td>\n",
       "      <td>42.5</td>\n",
       "    </tr>\n",
       "    <tr>\n",
       "      <th>2</th>\n",
       "      <td>ambrane</td>\n",
       "      <td>1799.0</td>\n",
       "      <td>3799.0</td>\n",
       "      <td>52.645433</td>\n",
       "      <td>4.2</td>\n",
       "      <td>8003.0</td>\n",
       "      <td>Flex 1.69inch Lucid display and SPO2</td>\n",
       "      <td>Square</td>\n",
       "      <td>Pink</td>\n",
       "      <td>Silicon</td>\n",
       "      <td>Yes</td>\n",
       "      <td>22.0</td>\n",
       "      <td>Yes</td>\n",
       "      <td>1.7</td>\n",
       "      <td>NaN</td>\n",
       "    </tr>\n",
       "    <tr>\n",
       "      <th>3</th>\n",
       "      <td>garmin</td>\n",
       "      <td>33490.0</td>\n",
       "      <td>36990.0</td>\n",
       "      <td>9.462017</td>\n",
       "      <td>4.6</td>\n",
       "      <td>5.0</td>\n",
       "      <td>Instinct 2, Battery Upto 28 days, Tracback Rou...</td>\n",
       "      <td>Circle</td>\n",
       "      <td>Black</td>\n",
       "      <td>Silicon</td>\n",
       "      <td>No</td>\n",
       "      <td>17.5</td>\n",
       "      <td>Yes</td>\n",
       "      <td>0.9</td>\n",
       "      <td>NaN</td>\n",
       "    </tr>\n",
       "    <tr>\n",
       "      <th>4</th>\n",
       "      <td>gizmore</td>\n",
       "      <td>1199.0</td>\n",
       "      <td>4499.0</td>\n",
       "      <td>73.349633</td>\n",
       "      <td>4.7</td>\n",
       "      <td>NaN</td>\n",
       "      <td>GizFit CLOUD 1.85 IPS Large Display | AI Voice...</td>\n",
       "      <td>Square</td>\n",
       "      <td>Blue</td>\n",
       "      <td>Silicon</td>\n",
       "      <td>Yes</td>\n",
       "      <td>22.0</td>\n",
       "      <td>Yes</td>\n",
       "      <td>1.8</td>\n",
       "      <td>27.5</td>\n",
       "    </tr>\n",
       "  </tbody>\n",
       "</table>\n",
       "</div>"
      ],
      "text/plain": [
       "     Brand  Current Price  Original Price  Discount Percentage  Rating  \\\n",
       "0   garmin        64990.0         82990.0            21.689360     4.7   \n",
       "1  ambrane         2368.0          4499.0            47.366081     3.5   \n",
       "2  ambrane         1799.0          3799.0            52.645433     4.2   \n",
       "3   garmin        33490.0         36990.0             9.462017     4.6   \n",
       "4  gizmore         1199.0          4499.0            73.349633     4.7   \n",
       "\n",
       "   Number OF Ratings                                         Model Name  \\\n",
       "0                NaN  Fenix 6S Sapphire, Premium GPS Watch, Music, P...   \n",
       "1              301.0                                       FitShot Curl   \n",
       "2             8003.0               Flex 1.69inch Lucid display and SPO2   \n",
       "3                5.0  Instinct 2, Battery Upto 28 days, Tracback Rou...   \n",
       "4                NaN  GizFit CLOUD 1.85 IPS Large Display | AI Voice...   \n",
       "\n",
       "  Dial Shape Strap Color Strap Material Touchscreen  Battery Life (Days)  \\\n",
       "0     Circle       Black        Silicon         Yes                 22.0   \n",
       "1        NaN         NaN            NaN         NaN                 12.5   \n",
       "2     Square        Pink        Silicon         Yes                 22.0   \n",
       "3     Circle       Black        Silicon          No                 17.5   \n",
       "4     Square        Blue        Silicon         Yes                 22.0   \n",
       "\n",
       "  Bluetooth  Display Size  Weight  \n",
       "0       Yes           1.2    75.0  \n",
       "1       Yes           NaN    42.5  \n",
       "2       Yes           1.7     NaN  \n",
       "3       Yes           0.9     NaN  \n",
       "4       Yes           1.8    27.5  "
      ]
     },
     "execution_count": 260,
     "metadata": {},
     "output_type": "execute_result"
    }
   ],
   "source": [
    "train_df.head()"
   ]
  },
  {
   "cell_type": "code",
   "execution_count": 261,
   "id": "62add3d5-9bfe-4954-b30d-43e817baf503",
   "metadata": {},
   "outputs": [],
   "source": [
    "train_df['Discount Price'] = (train_df['Original Price']*(-train_df['Discount Percentage']))/100"
   ]
  },
  {
   "cell_type": "code",
   "execution_count": 262,
   "id": "dc568856-bd32-4dc8-9c8d-3abbbcdbdf0a",
   "metadata": {},
   "outputs": [
    {
     "data": {
      "text/html": [
       "<div>\n",
       "<style scoped>\n",
       "    .dataframe tbody tr th:only-of-type {\n",
       "        vertical-align: middle;\n",
       "    }\n",
       "\n",
       "    .dataframe tbody tr th {\n",
       "        vertical-align: top;\n",
       "    }\n",
       "\n",
       "    .dataframe thead th {\n",
       "        text-align: right;\n",
       "    }\n",
       "</style>\n",
       "<table border=\"1\" class=\"dataframe\">\n",
       "  <thead>\n",
       "    <tr style=\"text-align: right;\">\n",
       "      <th></th>\n",
       "      <th>Brand</th>\n",
       "      <th>Current Price</th>\n",
       "      <th>Original Price</th>\n",
       "      <th>Discount Percentage</th>\n",
       "      <th>Rating</th>\n",
       "      <th>Number OF Ratings</th>\n",
       "      <th>Model Name</th>\n",
       "      <th>Dial Shape</th>\n",
       "      <th>Strap Color</th>\n",
       "      <th>Strap Material</th>\n",
       "      <th>Touchscreen</th>\n",
       "      <th>Battery Life (Days)</th>\n",
       "      <th>Bluetooth</th>\n",
       "      <th>Display Size</th>\n",
       "      <th>Weight</th>\n",
       "      <th>Discount Price</th>\n",
       "    </tr>\n",
       "  </thead>\n",
       "  <tbody>\n",
       "    <tr>\n",
       "      <th>0</th>\n",
       "      <td>garmin</td>\n",
       "      <td>64990.0</td>\n",
       "      <td>82990.0</td>\n",
       "      <td>21.689360</td>\n",
       "      <td>4.7</td>\n",
       "      <td>NaN</td>\n",
       "      <td>Fenix 6S Sapphire, Premium GPS Watch, Music, P...</td>\n",
       "      <td>Circle</td>\n",
       "      <td>Black</td>\n",
       "      <td>Silicon</td>\n",
       "      <td>Yes</td>\n",
       "      <td>22.0</td>\n",
       "      <td>Yes</td>\n",
       "      <td>1.2</td>\n",
       "      <td>75.0</td>\n",
       "      <td>-17999.999997</td>\n",
       "    </tr>\n",
       "    <tr>\n",
       "      <th>1</th>\n",
       "      <td>ambrane</td>\n",
       "      <td>2368.0</td>\n",
       "      <td>4499.0</td>\n",
       "      <td>47.366081</td>\n",
       "      <td>3.5</td>\n",
       "      <td>301.0</td>\n",
       "      <td>FitShot Curl</td>\n",
       "      <td>NaN</td>\n",
       "      <td>NaN</td>\n",
       "      <td>NaN</td>\n",
       "      <td>NaN</td>\n",
       "      <td>12.5</td>\n",
       "      <td>Yes</td>\n",
       "      <td>NaN</td>\n",
       "      <td>42.5</td>\n",
       "      <td>-2131.000000</td>\n",
       "    </tr>\n",
       "    <tr>\n",
       "      <th>2</th>\n",
       "      <td>ambrane</td>\n",
       "      <td>1799.0</td>\n",
       "      <td>3799.0</td>\n",
       "      <td>52.645433</td>\n",
       "      <td>4.2</td>\n",
       "      <td>8003.0</td>\n",
       "      <td>Flex 1.69inch Lucid display and SPO2</td>\n",
       "      <td>Square</td>\n",
       "      <td>Pink</td>\n",
       "      <td>Silicon</td>\n",
       "      <td>Yes</td>\n",
       "      <td>22.0</td>\n",
       "      <td>Yes</td>\n",
       "      <td>1.7</td>\n",
       "      <td>NaN</td>\n",
       "      <td>-2000.000000</td>\n",
       "    </tr>\n",
       "    <tr>\n",
       "      <th>3</th>\n",
       "      <td>garmin</td>\n",
       "      <td>33490.0</td>\n",
       "      <td>36990.0</td>\n",
       "      <td>9.462017</td>\n",
       "      <td>4.6</td>\n",
       "      <td>5.0</td>\n",
       "      <td>Instinct 2, Battery Upto 28 days, Tracback Rou...</td>\n",
       "      <td>Circle</td>\n",
       "      <td>Black</td>\n",
       "      <td>Silicon</td>\n",
       "      <td>No</td>\n",
       "      <td>17.5</td>\n",
       "      <td>Yes</td>\n",
       "      <td>0.9</td>\n",
       "      <td>NaN</td>\n",
       "      <td>-3500.000000</td>\n",
       "    </tr>\n",
       "    <tr>\n",
       "      <th>4</th>\n",
       "      <td>gizmore</td>\n",
       "      <td>1199.0</td>\n",
       "      <td>4499.0</td>\n",
       "      <td>73.349633</td>\n",
       "      <td>4.7</td>\n",
       "      <td>NaN</td>\n",
       "      <td>GizFit CLOUD 1.85 IPS Large Display | AI Voice...</td>\n",
       "      <td>Square</td>\n",
       "      <td>Blue</td>\n",
       "      <td>Silicon</td>\n",
       "      <td>Yes</td>\n",
       "      <td>22.0</td>\n",
       "      <td>Yes</td>\n",
       "      <td>1.8</td>\n",
       "      <td>27.5</td>\n",
       "      <td>-3300.000000</td>\n",
       "    </tr>\n",
       "  </tbody>\n",
       "</table>\n",
       "</div>"
      ],
      "text/plain": [
       "     Brand  Current Price  Original Price  Discount Percentage  Rating  \\\n",
       "0   garmin        64990.0         82990.0            21.689360     4.7   \n",
       "1  ambrane         2368.0          4499.0            47.366081     3.5   \n",
       "2  ambrane         1799.0          3799.0            52.645433     4.2   \n",
       "3   garmin        33490.0         36990.0             9.462017     4.6   \n",
       "4  gizmore         1199.0          4499.0            73.349633     4.7   \n",
       "\n",
       "   Number OF Ratings                                         Model Name  \\\n",
       "0                NaN  Fenix 6S Sapphire, Premium GPS Watch, Music, P...   \n",
       "1              301.0                                       FitShot Curl   \n",
       "2             8003.0               Flex 1.69inch Lucid display and SPO2   \n",
       "3                5.0  Instinct 2, Battery Upto 28 days, Tracback Rou...   \n",
       "4                NaN  GizFit CLOUD 1.85 IPS Large Display | AI Voice...   \n",
       "\n",
       "  Dial Shape Strap Color Strap Material Touchscreen  Battery Life (Days)  \\\n",
       "0     Circle       Black        Silicon         Yes                 22.0   \n",
       "1        NaN         NaN            NaN         NaN                 12.5   \n",
       "2     Square        Pink        Silicon         Yes                 22.0   \n",
       "3     Circle       Black        Silicon          No                 17.5   \n",
       "4     Square        Blue        Silicon         Yes                 22.0   \n",
       "\n",
       "  Bluetooth  Display Size  Weight  Discount Price  \n",
       "0       Yes           1.2    75.0   -17999.999997  \n",
       "1       Yes           NaN    42.5    -2131.000000  \n",
       "2       Yes           1.7     NaN    -2000.000000  \n",
       "3       Yes           0.9     NaN    -3500.000000  \n",
       "4       Yes           1.8    27.5    -3300.000000  "
      ]
     },
     "execution_count": 262,
     "metadata": {},
     "output_type": "execute_result"
    }
   ],
   "source": [
    "train_df.head()"
   ]
  },
  {
   "cell_type": "code",
   "execution_count": 263,
   "id": "5a4b984a-645c-442a-987e-2072a06c9d2e",
   "metadata": {},
   "outputs": [],
   "source": [
    "train_df.drop('Discount Percentage',axis=1,inplace=True)"
   ]
  },
  {
   "cell_type": "code",
   "execution_count": 264,
   "id": "12ee03a4-1ec0-4c21-b3bf-a4ec33f0ee4b",
   "metadata": {},
   "outputs": [
    {
     "data": {
      "text/plain": [
       "(352, 15)"
      ]
     },
     "execution_count": 264,
     "metadata": {},
     "output_type": "execute_result"
    }
   ],
   "source": [
    "train_df.shape"
   ]
  },
  {
   "cell_type": "code",
   "execution_count": null,
   "id": "7b555dc6-f0da-45e2-8367-1792c7541453",
   "metadata": {},
   "outputs": [],
   "source": []
  },
  {
   "cell_type": "markdown",
   "id": "f87ed575-b04a-4f94-8476-03448407688b",
   "metadata": {},
   "source": [
    "## Numerical data"
   ]
  },
  {
   "cell_type": "code",
   "execution_count": 265,
   "id": "d8d81dc6-e626-4cc3-a83d-437c7b552762",
   "metadata": {},
   "outputs": [],
   "source": [
    "numerical_data = [feature for feature in train_df.columns if train_df[feature].dtype != object]"
   ]
  },
  {
   "cell_type": "code",
   "execution_count": 266,
   "id": "333e34f9-0741-49c5-b70e-ecca4e143e6e",
   "metadata": {},
   "outputs": [
    {
     "data": {
      "text/plain": [
       "['Current Price',\n",
       " 'Original Price',\n",
       " 'Rating',\n",
       " 'Number OF Ratings',\n",
       " 'Battery Life (Days)',\n",
       " 'Display Size',\n",
       " 'Weight',\n",
       " 'Discount Price']"
      ]
     },
     "execution_count": 266,
     "metadata": {},
     "output_type": "execute_result"
    }
   ],
   "source": [
    "numerical_data"
   ]
  },
  {
   "cell_type": "code",
   "execution_count": 267,
   "id": "a49d5cfc-e2eb-4681-b9f6-e64018f25ee8",
   "metadata": {},
   "outputs": [
    {
     "data": {
      "text/html": [
       "<div>\n",
       "<style scoped>\n",
       "    .dataframe tbody tr th:only-of-type {\n",
       "        vertical-align: middle;\n",
       "    }\n",
       "\n",
       "    .dataframe tbody tr th {\n",
       "        vertical-align: top;\n",
       "    }\n",
       "\n",
       "    .dataframe thead th {\n",
       "        text-align: right;\n",
       "    }\n",
       "</style>\n",
       "<table border=\"1\" class=\"dataframe\">\n",
       "  <thead>\n",
       "    <tr style=\"text-align: right;\">\n",
       "      <th></th>\n",
       "      <th>Current Price</th>\n",
       "      <th>Original Price</th>\n",
       "      <th>Rating</th>\n",
       "      <th>Number OF Ratings</th>\n",
       "      <th>Battery Life (Days)</th>\n",
       "      <th>Display Size</th>\n",
       "      <th>Weight</th>\n",
       "      <th>Discount Price</th>\n",
       "    </tr>\n",
       "  </thead>\n",
       "  <tbody>\n",
       "    <tr>\n",
       "      <th>0</th>\n",
       "      <td>64990.0</td>\n",
       "      <td>82990.0</td>\n",
       "      <td>4.7</td>\n",
       "      <td>NaN</td>\n",
       "      <td>22.0</td>\n",
       "      <td>1.2</td>\n",
       "      <td>75.0</td>\n",
       "      <td>-17999.999997</td>\n",
       "    </tr>\n",
       "    <tr>\n",
       "      <th>1</th>\n",
       "      <td>2368.0</td>\n",
       "      <td>4499.0</td>\n",
       "      <td>3.5</td>\n",
       "      <td>301.0</td>\n",
       "      <td>12.5</td>\n",
       "      <td>NaN</td>\n",
       "      <td>42.5</td>\n",
       "      <td>-2131.000000</td>\n",
       "    </tr>\n",
       "    <tr>\n",
       "      <th>2</th>\n",
       "      <td>1799.0</td>\n",
       "      <td>3799.0</td>\n",
       "      <td>4.2</td>\n",
       "      <td>8003.0</td>\n",
       "      <td>22.0</td>\n",
       "      <td>1.7</td>\n",
       "      <td>NaN</td>\n",
       "      <td>-2000.000000</td>\n",
       "    </tr>\n",
       "    <tr>\n",
       "      <th>3</th>\n",
       "      <td>33490.0</td>\n",
       "      <td>36990.0</td>\n",
       "      <td>4.6</td>\n",
       "      <td>5.0</td>\n",
       "      <td>17.5</td>\n",
       "      <td>0.9</td>\n",
       "      <td>NaN</td>\n",
       "      <td>-3500.000000</td>\n",
       "    </tr>\n",
       "    <tr>\n",
       "      <th>4</th>\n",
       "      <td>1199.0</td>\n",
       "      <td>4499.0</td>\n",
       "      <td>4.7</td>\n",
       "      <td>NaN</td>\n",
       "      <td>22.0</td>\n",
       "      <td>1.8</td>\n",
       "      <td>27.5</td>\n",
       "      <td>-3300.000000</td>\n",
       "    </tr>\n",
       "  </tbody>\n",
       "</table>\n",
       "</div>"
      ],
      "text/plain": [
       "   Current Price  Original Price  Rating  Number OF Ratings  \\\n",
       "0        64990.0         82990.0     4.7                NaN   \n",
       "1         2368.0          4499.0     3.5              301.0   \n",
       "2         1799.0          3799.0     4.2             8003.0   \n",
       "3        33490.0         36990.0     4.6                5.0   \n",
       "4         1199.0          4499.0     4.7                NaN   \n",
       "\n",
       "   Battery Life (Days)  Display Size  Weight  Discount Price  \n",
       "0                 22.0           1.2    75.0   -17999.999997  \n",
       "1                 12.5           NaN    42.5    -2131.000000  \n",
       "2                 22.0           1.7     NaN    -2000.000000  \n",
       "3                 17.5           0.9     NaN    -3500.000000  \n",
       "4                 22.0           1.8    27.5    -3300.000000  "
      ]
     },
     "execution_count": 267,
     "metadata": {},
     "output_type": "execute_result"
    }
   ],
   "source": [
    "train_df[numerical_data].head()"
   ]
  },
  {
   "cell_type": "markdown",
   "id": "863fbe26-b2a7-4605-8c3c-1d8f95b3cc42",
   "metadata": {},
   "source": [
    "## Categorical Data"
   ]
  },
  {
   "cell_type": "code",
   "execution_count": 268,
   "id": "836215c6-0b9b-4a91-82c7-1c204ee0165e",
   "metadata": {},
   "outputs": [],
   "source": [
    "categorical_data =[feature for feature in train_df.columns if train_df[feature].dtype == object]"
   ]
  },
  {
   "cell_type": "code",
   "execution_count": 269,
   "id": "6c926257-68ba-4bca-9248-ea9b3a6aa9c4",
   "metadata": {},
   "outputs": [
    {
     "data": {
      "text/plain": [
       "['Brand',\n",
       " 'Model Name',\n",
       " 'Dial Shape',\n",
       " 'Strap Color',\n",
       " 'Strap Material',\n",
       " 'Touchscreen',\n",
       " 'Bluetooth']"
      ]
     },
     "execution_count": 269,
     "metadata": {},
     "output_type": "execute_result"
    }
   ],
   "source": [
    "categorical_data"
   ]
  },
  {
   "cell_type": "markdown",
   "id": "30e256eb-20d4-4398-bade-f1f9e4ccbfea",
   "metadata": {},
   "source": [
    "# Numerical Data"
   ]
  },
  {
   "cell_type": "code",
   "execution_count": 270,
   "id": "3a5c775a-f5b0-419e-b8fc-496bad7c7df2",
   "metadata": {},
   "outputs": [
    {
     "data": {
      "image/png": "[encoded data removed]",
      "text/plain": [
       "<Figure size 1400x1000 with 9 Axes>"
      ]
     },
     "metadata": {},
     "output_type": "display_data"
    }
   ],
   "source": [
    "# Histogram\n",
    "fig, axes = plt.subplots(nrows=3,ncols=3,figsize=(14,10))\n",
    "for i,colum in enumerate(numerical_data):\n",
    "    row = i//3\n",
    "    col= i % 3\n",
    "    ax = axes[row,col]\n",
    "    sns.histplot(data = train_df[colum],ax= ax)\n",
    "plt.tight_layout()\n",
    "plt.show()"
   ]
  },
  {
   "cell_type": "code",
   "execution_count": 271,
   "id": "43fa5f81-3f27-4838-8850-7ba07ef1174f",
   "metadata": {},
   "outputs": [
    {
     "data": {
      "image/png": "[encoded data removed]",
      "text/plain": [
       "<Figure size 1400x1000 with 9 Axes>"
      ]
     },
     "metadata": {},
     "output_type": "display_data"
    }
   ],
   "source": [
    "# Density Plots\n",
    "fig, axes = plt.subplots(nrows=3,ncols=3,figsize=(14,10))\n",
    "for i,colum in enumerate(numerical_data):\n",
    "    row = i//3\n",
    "    col= i % 3\n",
    "    ax = axes[row,col]\n",
    "    sns.kdeplot(data = train_df[colum],ax= ax,fill=True)\n",
    "plt.tight_layout()\n",
    "plt.show()"
   ]
  },
  {
   "cell_type": "code",
   "execution_count": 272,
   "id": "10c6d4dd-9d0d-49c7-91b8-fc2e2c890318",
   "metadata": {},
   "outputs": [
    {
     "data": {
      "image/png": "[encoded data removed]",
      "text/plain": [
       "<Figure size 1400x1000 with 9 Axes>"
      ]
     },
     "metadata": {},
     "output_type": "display_data"
    }
   ],
   "source": [
    "# Box Plot\n",
    "fig, axes = plt.subplots(nrows=3,ncols=3,figsize=(14,10))\n",
    "for i,colum in enumerate(numerical_data):\n",
    "    row = i//3\n",
    "    col= i % 3\n",
    "    ax = axes[row,col]\n",
    "    sns.boxplot(data = train_df[colum],ax= ax)\n",
    "plt.tight_layout()\n",
    "plt.show()"
   ]
  },
  {
   "cell_type": "markdown",
   "id": "42de6232-71fc-496a-a331-050c17f816ab",
   "metadata": {},
   "source": [
    "# 📊 Box Plot Summary\n",
    "\n",
    "## ✅ Key Parts of a Box Plot\n",
    "\n",
    "| Part                     | What It Means                                      |\n",
    "|--------------------------|----------------------------------------------------|\n",
    "| **Box (Q1 to Q3)**       | The middle 50% of the data                         |\n",
    "| **Line in the Box**      | The median (middle value of the data)              |\n",
    "| **Whiskers**             | Extend to the minimum and maximum non-outlier values |\n",
    "| **Dots/Stars**           | Represent outliers (very high or low values)       |\n",
    "\n",
    "---\n",
    "\n",
    "## 🧠 Definitions\n",
    "\n",
    "- **Q1 (25th percentile):** 25% of values are below this  \n",
    "- **Q3 (75th percentile):** 75% of values are below this  \n",
    "- **IQR (Interquartile Range):** `Q3 - Q1` → range of the middle 50%  \n",
    "- **Outliers:**  \n",
    "  Values that fall:\n",
    "  - Below `Q1 - 1.5 × IQR`, or  \n",
    "  - Above `Q3 + 1.5 × IQR`\n",
    "\n",
    "---\n",
    "\n",
    "📌 Use box plots to quickly understand **data spread**, **central tendency**, and **outliers**!\n"
   ]
  },
  {
   "cell_type": "code",
   "execution_count": 273,
   "id": "4a5553de-60e4-402f-ba57-3fc2857f6357",
   "metadata": {},
   "outputs": [
    {
     "data": {
      "text/plain": [
       "(352, 15)"
      ]
     },
     "execution_count": 273,
     "metadata": {},
     "output_type": "execute_result"
    }
   ],
   "source": [
    "train_df.shape"
   ]
  },
  {
   "cell_type": "code",
   "execution_count": 274,
   "id": "b4c7fbfb-52f7-4c6c-b7ad-16c3d64bb9b1",
   "metadata": {},
   "outputs": [],
   "source": [
    "def remove_outliers_IQR(data,col):\n",
    "    \"\"\"removes the outliers\"\"\"\n",
    "    Q1 = data[col].quantile(0.25)\n",
    "    Q3 = data[col].quantile(0.75)\n",
    "    IQR = Q3-Q1\n",
    "    lower_bound = Q1- 1.5 *IQR\n",
    "    upper_bound = Q3 + 1.5 * IQR\n",
    "    return data[(data[col]>lower_bound)&(data[col]<upper_bound)]"
   ]
  },
  {
   "cell_type": "code",
   "execution_count": 275,
   "id": "e76198c0-b0d3-4fdb-b24f-9fe42ddeab4b",
   "metadata": {},
   "outputs": [
    {
     "data": {
      "text/plain": [
       "Index(['Brand', 'Current Price', 'Original Price', 'Rating',\n",
       "       'Number OF Ratings', 'Model Name', 'Dial Shape', 'Strap Color',\n",
       "       'Strap Material', 'Touchscreen', 'Battery Life (Days)', 'Bluetooth',\n",
       "       'Display Size', 'Weight', 'Discount Price'],\n",
       "      dtype='object')"
      ]
     },
     "execution_count": 275,
     "metadata": {},
     "output_type": "execute_result"
    }
   ],
   "source": [
    "train_df.columns"
   ]
  },
  {
   "cell_type": "code",
   "execution_count": 276,
   "id": "77c3bbeb-cf9e-472d-aa90-1b71cfbebe8a",
   "metadata": {},
   "outputs": [],
   "source": [
    "import_col = ['Current Price', 'Original Price', 'Rating','Number OF Ratings','Display Size','Discount Price']\n",
    "for col in import_col:\n",
    "    train_df = remove_outliers_IQR(train_df,col)"
   ]
  },
  {
   "cell_type": "code",
   "execution_count": 277,
   "id": "702e6382-5f90-44a5-b2e2-c0d4e6cfe0b5",
   "metadata": {},
   "outputs": [
    {
     "name": "stdout",
     "output_type": "stream",
     "text": [
      "Current Price\n",
      "Original Price\n",
      "Rating\n",
      "Number OF Ratings\n",
      "Battery Life (Days)\n",
      "Display Size\n",
      "Weight\n",
      "Discount Price\n"
     ]
    }
   ],
   "source": [
    "for col in numerical_data:\n",
    "    print(col)\n",
    "    train_df[col] = train_df[col].fillna(train_df[col].median())"
   ]
  },
  {
   "cell_type": "code",
   "execution_count": 278,
   "id": "3c7ef935-1cf8-4379-9f51-51d915cfa1db",
   "metadata": {},
   "outputs": [
    {
     "data": {
      "text/plain": [
       "Brand                   0\n",
       "Current Price           0\n",
       "Original Price          0\n",
       "Rating                  0\n",
       "Number OF Ratings       0\n",
       "Model Name              6\n",
       "Dial Shape             36\n",
       "Strap Color            36\n",
       "Strap Material         18\n",
       "Touchscreen             4\n",
       "Battery Life (Days)     0\n",
       "Bluetooth               0\n",
       "Display Size            0\n",
       "Weight                  0\n",
       "Discount Price          0\n",
       "dtype: int64"
      ]
     },
     "execution_count": 278,
     "metadata": {},
     "output_type": "execute_result"
    }
   ],
   "source": [
    "train_df.isna().sum()"
   ]
  },
  {
   "cell_type": "code",
   "execution_count": 279,
   "id": "6b2b02ba-74f8-4506-8fbc-c9e288a2491d",
   "metadata": {},
   "outputs": [
    {
     "data": {
      "text/plain": [
       "(124, 15)"
      ]
     },
     "execution_count": 279,
     "metadata": {},
     "output_type": "execute_result"
    }
   ],
   "source": [
    "train_df.shape"
   ]
  },
  {
   "cell_type": "code",
   "execution_count": 280,
   "id": "100741be-3e7c-4210-8057-9b61d47890fa",
   "metadata": {},
   "outputs": [
    {
     "data": {
      "text/html": [
       "<div>\n",
       "<style scoped>\n",
       "    .dataframe tbody tr th:only-of-type {\n",
       "        vertical-align: middle;\n",
       "    }\n",
       "\n",
       "    .dataframe tbody tr th {\n",
       "        vertical-align: top;\n",
       "    }\n",
       "\n",
       "    .dataframe thead th {\n",
       "        text-align: right;\n",
       "    }\n",
       "</style>\n",
       "<table border=\"1\" class=\"dataframe\">\n",
       "  <thead>\n",
       "    <tr style=\"text-align: right;\">\n",
       "      <th></th>\n",
       "      <th>Current Price</th>\n",
       "      <th>Original Price</th>\n",
       "      <th>Rating</th>\n",
       "      <th>Number OF Ratings</th>\n",
       "      <th>Battery Life (Days)</th>\n",
       "      <th>Display Size</th>\n",
       "      <th>Weight</th>\n",
       "      <th>Discount Price</th>\n",
       "    </tr>\n",
       "  </thead>\n",
       "  <tbody>\n",
       "    <tr>\n",
       "      <th>2</th>\n",
       "      <td>1799.0</td>\n",
       "      <td>3799.0</td>\n",
       "      <td>4.2</td>\n",
       "      <td>8003.0</td>\n",
       "      <td>22.0</td>\n",
       "      <td>1.7</td>\n",
       "      <td>42.5</td>\n",
       "      <td>-2000.000000</td>\n",
       "    </tr>\n",
       "    <tr>\n",
       "      <th>5</th>\n",
       "      <td>13195.0</td>\n",
       "      <td>21995.0</td>\n",
       "      <td>3.9</td>\n",
       "      <td>510.0</td>\n",
       "      <td>22.0</td>\n",
       "      <td>1.6</td>\n",
       "      <td>42.5</td>\n",
       "      <td>-8800.000001</td>\n",
       "    </tr>\n",
       "    <tr>\n",
       "      <th>10</th>\n",
       "      <td>3999.0</td>\n",
       "      <td>5999.0</td>\n",
       "      <td>4.2</td>\n",
       "      <td>3130.0</td>\n",
       "      <td>22.0</td>\n",
       "      <td>1.8</td>\n",
       "      <td>75.0</td>\n",
       "      <td>-2000.000000</td>\n",
       "    </tr>\n",
       "    <tr>\n",
       "      <th>15</th>\n",
       "      <td>3299.0</td>\n",
       "      <td>5999.0</td>\n",
       "      <td>4.0</td>\n",
       "      <td>102.0</td>\n",
       "      <td>12.5</td>\n",
       "      <td>1.3</td>\n",
       "      <td>75.0</td>\n",
       "      <td>-2700.000000</td>\n",
       "    </tr>\n",
       "    <tr>\n",
       "      <th>19</th>\n",
       "      <td>1499.0</td>\n",
       "      <td>3999.0</td>\n",
       "      <td>4.0</td>\n",
       "      <td>6638.0</td>\n",
       "      <td>22.0</td>\n",
       "      <td>1.3</td>\n",
       "      <td>42.5</td>\n",
       "      <td>-2500.000000</td>\n",
       "    </tr>\n",
       "    <tr>\n",
       "      <th>...</th>\n",
       "      <td>...</td>\n",
       "      <td>...</td>\n",
       "      <td>...</td>\n",
       "      <td>...</td>\n",
       "      <td>...</td>\n",
       "      <td>...</td>\n",
       "      <td>...</td>\n",
       "      <td>...</td>\n",
       "    </tr>\n",
       "    <tr>\n",
       "      <th>342</th>\n",
       "      <td>1799.0</td>\n",
       "      <td>3999.0</td>\n",
       "      <td>4.2</td>\n",
       "      <td>5970.0</td>\n",
       "      <td>22.0</td>\n",
       "      <td>1.7</td>\n",
       "      <td>42.5</td>\n",
       "      <td>-2200.000000</td>\n",
       "    </tr>\n",
       "    <tr>\n",
       "      <th>343</th>\n",
       "      <td>8999.0</td>\n",
       "      <td>14999.0</td>\n",
       "      <td>4.4</td>\n",
       "      <td>7792.0</td>\n",
       "      <td>17.5</td>\n",
       "      <td>1.4</td>\n",
       "      <td>42.5</td>\n",
       "      <td>-5999.999999</td>\n",
       "    </tr>\n",
       "    <tr>\n",
       "      <th>347</th>\n",
       "      <td>10990.0</td>\n",
       "      <td>20990.0</td>\n",
       "      <td>4.5</td>\n",
       "      <td>203.0</td>\n",
       "      <td>8.0</td>\n",
       "      <td>1.8</td>\n",
       "      <td>75.0</td>\n",
       "      <td>-10000.000000</td>\n",
       "    </tr>\n",
       "    <tr>\n",
       "      <th>349</th>\n",
       "      <td>1999.0</td>\n",
       "      <td>5999.0</td>\n",
       "      <td>3.5</td>\n",
       "      <td>30.0</td>\n",
       "      <td>3.5</td>\n",
       "      <td>1.6</td>\n",
       "      <td>20.0</td>\n",
       "      <td>-4000.000000</td>\n",
       "    </tr>\n",
       "    <tr>\n",
       "      <th>350</th>\n",
       "      <td>6999.0</td>\n",
       "      <td>9999.0</td>\n",
       "      <td>3.7</td>\n",
       "      <td>81.0</td>\n",
       "      <td>8.0</td>\n",
       "      <td>1.6</td>\n",
       "      <td>42.5</td>\n",
       "      <td>-3000.000000</td>\n",
       "    </tr>\n",
       "  </tbody>\n",
       "</table>\n",
       "<p>124 rows × 8 columns</p>\n",
       "</div>"
      ],
      "text/plain": [
       "     Current Price  Original Price  Rating  Number OF Ratings  \\\n",
       "2           1799.0          3799.0     4.2             8003.0   \n",
       "5          13195.0         21995.0     3.9              510.0   \n",
       "10          3999.0          5999.0     4.2             3130.0   \n",
       "15          3299.0          5999.0     4.0              102.0   \n",
       "19          1499.0          3999.0     4.0             6638.0   \n",
       "..             ...             ...     ...                ...   \n",
       "342         1799.0          3999.0     4.2             5970.0   \n",
       "343         8999.0         14999.0     4.4             7792.0   \n",
       "347        10990.0         20990.0     4.5              203.0   \n",
       "349         1999.0          5999.0     3.5               30.0   \n",
       "350         6999.0          9999.0     3.7               81.0   \n",
       "\n",
       "     Battery Life (Days)  Display Size  Weight  Discount Price  \n",
       "2                   22.0           1.7    42.5    -2000.000000  \n",
       "5                   22.0           1.6    42.5    -8800.000001  \n",
       "10                  22.0           1.8    75.0    -2000.000000  \n",
       "15                  12.5           1.3    75.0    -2700.000000  \n",
       "19                  22.0           1.3    42.5    -2500.000000  \n",
       "..                   ...           ...     ...             ...  \n",
       "342                 22.0           1.7    42.5    -2200.000000  \n",
       "343                 17.5           1.4    42.5    -5999.999999  \n",
       "347                  8.0           1.8    75.0   -10000.000000  \n",
       "349                  3.5           1.6    20.0    -4000.000000  \n",
       "350                  8.0           1.6    42.5    -3000.000000  \n",
       "\n",
       "[124 rows x 8 columns]"
      ]
     },
     "execution_count": 280,
     "metadata": {},
     "output_type": "execute_result"
    }
   ],
   "source": [
    "train_df[numerical_data]"
   ]
  },
  {
   "cell_type": "code",
   "execution_count": 281,
   "id": "78bcceee-b84b-449a-a9d3-3abe2652504c",
   "metadata": {},
   "outputs": [],
   "source": [
    " from sklearn.preprocessing import MinMaxScaler"
   ]
  },
  {
   "cell_type": "code",
   "execution_count": 282,
   "id": "1fe77296-1d1a-4461-94e7-fa810cd568c6",
   "metadata": {},
   "outputs": [],
   "source": [
    "scaler = MinMaxScaler()"
   ]
  },
  {
   "cell_type": "code",
   "execution_count": 283,
   "id": "1222cf43-2b31-4bef-a7f8-71e6ff4219f6",
   "metadata": {},
   "outputs": [],
   "source": [
    "data = scaler.fit_transform(train_df[numerical_data[:-1]])"
   ]
  },
  {
   "cell_type": "code",
   "execution_count": 284,
   "id": "49beaeb7-9a3c-4e35-bb44-9fe672eabe71",
   "metadata": {},
   "outputs": [],
   "source": [
    "data = pd.DataFrame(data,columns=numerical_data[:-1])"
   ]
  },
  {
   "cell_type": "code",
   "execution_count": 285,
   "id": "47c2e463-64a9-4513-8824-65d22a36e0e8",
   "metadata": {},
   "outputs": [
    {
     "data": {
      "text/html": [
       "<div>\n",
       "<style scoped>\n",
       "    .dataframe tbody tr th:only-of-type {\n",
       "        vertical-align: middle;\n",
       "    }\n",
       "\n",
       "    .dataframe tbody tr th {\n",
       "        vertical-align: top;\n",
       "    }\n",
       "\n",
       "    .dataframe thead th {\n",
       "        text-align: right;\n",
       "    }\n",
       "</style>\n",
       "<table border=\"1\" class=\"dataframe\">\n",
       "  <thead>\n",
       "    <tr style=\"text-align: right;\">\n",
       "      <th></th>\n",
       "      <th>Current Price</th>\n",
       "      <th>Original Price</th>\n",
       "      <th>Rating</th>\n",
       "      <th>Number OF Ratings</th>\n",
       "      <th>Battery Life (Days)</th>\n",
       "      <th>Display Size</th>\n",
       "      <th>Weight</th>\n",
       "    </tr>\n",
       "  </thead>\n",
       "  <tbody>\n",
       "    <tr>\n",
       "      <th>0</th>\n",
       "      <td>0.025761</td>\n",
       "      <td>0.072534</td>\n",
       "      <td>0.750000</td>\n",
       "      <td>0.276596</td>\n",
       "      <td>1.000000</td>\n",
       "      <td>0.538462</td>\n",
       "      <td>0.409091</td>\n",
       "    </tr>\n",
       "    <tr>\n",
       "      <th>1</th>\n",
       "      <td>0.515049</td>\n",
       "      <td>0.756029</td>\n",
       "      <td>0.500000</td>\n",
       "      <td>0.017529</td>\n",
       "      <td>1.000000</td>\n",
       "      <td>0.461538</td>\n",
       "      <td>0.409091</td>\n",
       "    </tr>\n",
       "    <tr>\n",
       "      <th>2</th>\n",
       "      <td>0.120218</td>\n",
       "      <td>0.155172</td>\n",
       "      <td>0.750000</td>\n",
       "      <td>0.108115</td>\n",
       "      <td>1.000000</td>\n",
       "      <td>0.615385</td>\n",
       "      <td>1.000000</td>\n",
       "    </tr>\n",
       "    <tr>\n",
       "      <th>3</th>\n",
       "      <td>0.090164</td>\n",
       "      <td>0.155172</td>\n",
       "      <td>0.583333</td>\n",
       "      <td>0.003423</td>\n",
       "      <td>0.552941</td>\n",
       "      <td>0.230769</td>\n",
       "      <td>1.000000</td>\n",
       "    </tr>\n",
       "    <tr>\n",
       "      <th>4</th>\n",
       "      <td>0.012881</td>\n",
       "      <td>0.080047</td>\n",
       "      <td>0.583333</td>\n",
       "      <td>0.229402</td>\n",
       "      <td>1.000000</td>\n",
       "      <td>0.230769</td>\n",
       "      <td>0.409091</td>\n",
       "    </tr>\n",
       "  </tbody>\n",
       "</table>\n",
       "</div>"
      ],
      "text/plain": [
       "   Current Price  Original Price    Rating  Number OF Ratings  \\\n",
       "0       0.025761        0.072534  0.750000           0.276596   \n",
       "1       0.515049        0.756029  0.500000           0.017529   \n",
       "2       0.120218        0.155172  0.750000           0.108115   \n",
       "3       0.090164        0.155172  0.583333           0.003423   \n",
       "4       0.012881        0.080047  0.583333           0.229402   \n",
       "\n",
       "   Battery Life (Days)  Display Size    Weight  \n",
       "0             1.000000      0.538462  0.409091  \n",
       "1             1.000000      0.461538  0.409091  \n",
       "2             1.000000      0.615385  1.000000  \n",
       "3             0.552941      0.230769  1.000000  \n",
       "4             1.000000      0.230769  0.409091  "
      ]
     },
     "execution_count": 285,
     "metadata": {},
     "output_type": "execute_result"
    }
   ],
   "source": [
    "data.head()"
   ]
  },
  {
   "cell_type": "code",
   "execution_count": 286,
   "id": "f1ce21f3-0955-4b99-b508-2e3f2a88c5ee",
   "metadata": {},
   "outputs": [
    {
     "data": {
      "text/plain": [
       "((124, 7), (124, 15))"
      ]
     },
     "execution_count": 286,
     "metadata": {},
     "output_type": "execute_result"
    }
   ],
   "source": [
    "data.shape,train_df.shape"
   ]
  },
  {
   "cell_type": "code",
   "execution_count": 287,
   "id": "a5fa1f0b-0558-4f87-9639-17348fed35c1",
   "metadata": {},
   "outputs": [],
   "source": [
    "train_df.drop(numerical_data[:-1],axis=1,inplace=True)"
   ]
  },
  {
   "cell_type": "code",
   "execution_count": 288,
   "id": "aefa7416-8c8b-4ede-88d1-3c314f780964",
   "metadata": {},
   "outputs": [
    {
     "data": {
      "text/html": [
       "<div>\n",
       "<style scoped>\n",
       "    .dataframe tbody tr th:only-of-type {\n",
       "        vertical-align: middle;\n",
       "    }\n",
       "\n",
       "    .dataframe tbody tr th {\n",
       "        vertical-align: top;\n",
       "    }\n",
       "\n",
       "    .dataframe thead th {\n",
       "        text-align: right;\n",
       "    }\n",
       "</style>\n",
       "<table border=\"1\" class=\"dataframe\">\n",
       "  <thead>\n",
       "    <tr style=\"text-align: right;\">\n",
       "      <th></th>\n",
       "      <th>Brand</th>\n",
       "      <th>Model Name</th>\n",
       "      <th>Dial Shape</th>\n",
       "      <th>Strap Color</th>\n",
       "      <th>Strap Material</th>\n",
       "      <th>Touchscreen</th>\n",
       "      <th>Bluetooth</th>\n",
       "      <th>Discount Price</th>\n",
       "    </tr>\n",
       "  </thead>\n",
       "  <tbody>\n",
       "    <tr>\n",
       "      <th>2</th>\n",
       "      <td>ambrane</td>\n",
       "      <td>Flex 1.69inch Lucid display and SPO2</td>\n",
       "      <td>Square</td>\n",
       "      <td>Pink</td>\n",
       "      <td>Silicon</td>\n",
       "      <td>Yes</td>\n",
       "      <td>Yes</td>\n",
       "      <td>-2000.000000</td>\n",
       "    </tr>\n",
       "    <tr>\n",
       "      <th>5</th>\n",
       "      <td>fossil</td>\n",
       "      <td>4th Gen Venture HR</td>\n",
       "      <td>Circle</td>\n",
       "      <td>Gold</td>\n",
       "      <td>Stainless Steel</td>\n",
       "      <td>Yes</td>\n",
       "      <td>Yes</td>\n",
       "      <td>-8800.000001</td>\n",
       "    </tr>\n",
       "    <tr>\n",
       "      <th>10</th>\n",
       "      <td>amazfit</td>\n",
       "      <td>Pop 2 with Ultra-large 1.78 inch HD AMOLED Dis...</td>\n",
       "      <td>Square</td>\n",
       "      <td>Pink</td>\n",
       "      <td>Silicon</td>\n",
       "      <td>Yes</td>\n",
       "      <td>Yes</td>\n",
       "      <td>-2000.000000</td>\n",
       "    </tr>\n",
       "    <tr>\n",
       "      <th>15</th>\n",
       "      <td>gizmore</td>\n",
       "      <td>910</td>\n",
       "      <td>NaN</td>\n",
       "      <td>NaN</td>\n",
       "      <td>Plastic</td>\n",
       "      <td>Yes</td>\n",
       "      <td>Yes</td>\n",
       "      <td>-2700.000000</td>\n",
       "    </tr>\n",
       "    <tr>\n",
       "      <th>19</th>\n",
       "      <td>noise</td>\n",
       "      <td>Core 2 1.28\" Display , Noisefit sync app, 100+...</td>\n",
       "      <td>Circle</td>\n",
       "      <td>Black</td>\n",
       "      <td>Silicon</td>\n",
       "      <td>Yes</td>\n",
       "      <td>Yes</td>\n",
       "      <td>-2500.000000</td>\n",
       "    </tr>\n",
       "  </tbody>\n",
       "</table>\n",
       "</div>"
      ],
      "text/plain": [
       "      Brand                                         Model Name Dial Shape  \\\n",
       "2   ambrane               Flex 1.69inch Lucid display and SPO2     Square   \n",
       "5    fossil                                 4th Gen Venture HR     Circle   \n",
       "10  amazfit  Pop 2 with Ultra-large 1.78 inch HD AMOLED Dis...     Square   \n",
       "15  gizmore                                                910        NaN   \n",
       "19    noise  Core 2 1.28\" Display , Noisefit sync app, 100+...     Circle   \n",
       "\n",
       "   Strap Color   Strap Material Touchscreen Bluetooth  Discount Price  \n",
       "2         Pink          Silicon         Yes       Yes    -2000.000000  \n",
       "5         Gold  Stainless Steel         Yes       Yes    -8800.000001  \n",
       "10        Pink          Silicon         Yes       Yes    -2000.000000  \n",
       "15         NaN          Plastic         Yes       Yes    -2700.000000  \n",
       "19       Black          Silicon         Yes       Yes    -2500.000000  "
      ]
     },
     "execution_count": 288,
     "metadata": {},
     "output_type": "execute_result"
    }
   ],
   "source": [
    "train_df.head()"
   ]
  },
  {
   "cell_type": "code",
   "execution_count": 289,
   "id": "ff2a529c-ea23-4501-a328-bfa879a19cd6",
   "metadata": {},
   "outputs": [],
   "source": [
    "train_df = pd.concat([train_df.reset_index(),data],axis=1)"
   ]
  },
  {
   "cell_type": "code",
   "execution_count": 290,
   "id": "44f0a067-88e0-409d-9639-7b4d1163837d",
   "metadata": {},
   "outputs": [
    {
     "data": {
      "text/plain": [
       "index                   0\n",
       "Brand                   0\n",
       "Model Name              6\n",
       "Dial Shape             36\n",
       "Strap Color            36\n",
       "Strap Material         18\n",
       "Touchscreen             4\n",
       "Bluetooth               0\n",
       "Discount Price          0\n",
       "Current Price           0\n",
       "Original Price          0\n",
       "Rating                  0\n",
       "Number OF Ratings       0\n",
       "Battery Life (Days)     0\n",
       "Display Size            0\n",
       "Weight                  0\n",
       "dtype: int64"
      ]
     },
     "execution_count": 290,
     "metadata": {},
     "output_type": "execute_result"
    }
   ],
   "source": [
    "train_df.isna().sum()"
   ]
  },
  {
   "cell_type": "code",
   "execution_count": 291,
   "id": "a68e0a2e-a992-461f-9074-6dc55e45bf87",
   "metadata": {},
   "outputs": [
    {
     "data": {
      "text/html": [
       "<div>\n",
       "<style scoped>\n",
       "    .dataframe tbody tr th:only-of-type {\n",
       "        vertical-align: middle;\n",
       "    }\n",
       "\n",
       "    .dataframe tbody tr th {\n",
       "        vertical-align: top;\n",
       "    }\n",
       "\n",
       "    .dataframe thead th {\n",
       "        text-align: right;\n",
       "    }\n",
       "</style>\n",
       "<table border=\"1\" class=\"dataframe\">\n",
       "  <thead>\n",
       "    <tr style=\"text-align: right;\">\n",
       "      <th></th>\n",
       "      <th>index</th>\n",
       "      <th>Brand</th>\n",
       "      <th>Model Name</th>\n",
       "      <th>Dial Shape</th>\n",
       "      <th>Strap Color</th>\n",
       "      <th>Strap Material</th>\n",
       "      <th>Touchscreen</th>\n",
       "      <th>Bluetooth</th>\n",
       "      <th>Discount Price</th>\n",
       "      <th>Current Price</th>\n",
       "      <th>Original Price</th>\n",
       "      <th>Rating</th>\n",
       "      <th>Number OF Ratings</th>\n",
       "      <th>Battery Life (Days)</th>\n",
       "      <th>Display Size</th>\n",
       "      <th>Weight</th>\n",
       "    </tr>\n",
       "  </thead>\n",
       "  <tbody>\n",
       "    <tr>\n",
       "      <th>0</th>\n",
       "      <td>2</td>\n",
       "      <td>ambrane</td>\n",
       "      <td>Flex 1.69inch Lucid display and SPO2</td>\n",
       "      <td>Square</td>\n",
       "      <td>Pink</td>\n",
       "      <td>Silicon</td>\n",
       "      <td>Yes</td>\n",
       "      <td>Yes</td>\n",
       "      <td>-2000.000000</td>\n",
       "      <td>0.025761</td>\n",
       "      <td>0.072534</td>\n",
       "      <td>0.750000</td>\n",
       "      <td>0.276596</td>\n",
       "      <td>1.000000</td>\n",
       "      <td>0.538462</td>\n",
       "      <td>0.409091</td>\n",
       "    </tr>\n",
       "    <tr>\n",
       "      <th>1</th>\n",
       "      <td>5</td>\n",
       "      <td>fossil</td>\n",
       "      <td>4th Gen Venture HR</td>\n",
       "      <td>Circle</td>\n",
       "      <td>Gold</td>\n",
       "      <td>Stainless Steel</td>\n",
       "      <td>Yes</td>\n",
       "      <td>Yes</td>\n",
       "      <td>-8800.000001</td>\n",
       "      <td>0.515049</td>\n",
       "      <td>0.756029</td>\n",
       "      <td>0.500000</td>\n",
       "      <td>0.017529</td>\n",
       "      <td>1.000000</td>\n",
       "      <td>0.461538</td>\n",
       "      <td>0.409091</td>\n",
       "    </tr>\n",
       "    <tr>\n",
       "      <th>2</th>\n",
       "      <td>10</td>\n",
       "      <td>amazfit</td>\n",
       "      <td>Pop 2 with Ultra-large 1.78 inch HD AMOLED Dis...</td>\n",
       "      <td>Square</td>\n",
       "      <td>Pink</td>\n",
       "      <td>Silicon</td>\n",
       "      <td>Yes</td>\n",
       "      <td>Yes</td>\n",
       "      <td>-2000.000000</td>\n",
       "      <td>0.120218</td>\n",
       "      <td>0.155172</td>\n",
       "      <td>0.750000</td>\n",
       "      <td>0.108115</td>\n",
       "      <td>1.000000</td>\n",
       "      <td>0.615385</td>\n",
       "      <td>1.000000</td>\n",
       "    </tr>\n",
       "    <tr>\n",
       "      <th>3</th>\n",
       "      <td>15</td>\n",
       "      <td>gizmore</td>\n",
       "      <td>910</td>\n",
       "      <td>NaN</td>\n",
       "      <td>NaN</td>\n",
       "      <td>Plastic</td>\n",
       "      <td>Yes</td>\n",
       "      <td>Yes</td>\n",
       "      <td>-2700.000000</td>\n",
       "      <td>0.090164</td>\n",
       "      <td>0.155172</td>\n",
       "      <td>0.583333</td>\n",
       "      <td>0.003423</td>\n",
       "      <td>0.552941</td>\n",
       "      <td>0.230769</td>\n",
       "      <td>1.000000</td>\n",
       "    </tr>\n",
       "    <tr>\n",
       "      <th>4</th>\n",
       "      <td>19</td>\n",
       "      <td>noise</td>\n",
       "      <td>Core 2 1.28\" Display , Noisefit sync app, 100+...</td>\n",
       "      <td>Circle</td>\n",
       "      <td>Black</td>\n",
       "      <td>Silicon</td>\n",
       "      <td>Yes</td>\n",
       "      <td>Yes</td>\n",
       "      <td>-2500.000000</td>\n",
       "      <td>0.012881</td>\n",
       "      <td>0.080047</td>\n",
       "      <td>0.583333</td>\n",
       "      <td>0.229402</td>\n",
       "      <td>1.000000</td>\n",
       "      <td>0.230769</td>\n",
       "      <td>0.409091</td>\n",
       "    </tr>\n",
       "  </tbody>\n",
       "</table>\n",
       "</div>"
      ],
      "text/plain": [
       "   index    Brand                                         Model Name  \\\n",
       "0      2  ambrane               Flex 1.69inch Lucid display and SPO2   \n",
       "1      5   fossil                                 4th Gen Venture HR   \n",
       "2     10  amazfit  Pop 2 with Ultra-large 1.78 inch HD AMOLED Dis...   \n",
       "3     15  gizmore                                                910   \n",
       "4     19    noise  Core 2 1.28\" Display , Noisefit sync app, 100+...   \n",
       "\n",
       "  Dial Shape Strap Color   Strap Material Touchscreen Bluetooth  \\\n",
       "0     Square        Pink          Silicon         Yes       Yes   \n",
       "1     Circle        Gold  Stainless Steel         Yes       Yes   \n",
       "2     Square        Pink          Silicon         Yes       Yes   \n",
       "3        NaN         NaN          Plastic         Yes       Yes   \n",
       "4     Circle       Black          Silicon         Yes       Yes   \n",
       "\n",
       "   Discount Price  Current Price  Original Price    Rating  Number OF Ratings  \\\n",
       "0    -2000.000000       0.025761        0.072534  0.750000           0.276596   \n",
       "1    -8800.000001       0.515049        0.756029  0.500000           0.017529   \n",
       "2    -2000.000000       0.120218        0.155172  0.750000           0.108115   \n",
       "3    -2700.000000       0.090164        0.155172  0.583333           0.003423   \n",
       "4    -2500.000000       0.012881        0.080047  0.583333           0.229402   \n",
       "\n",
       "   Battery Life (Days)  Display Size    Weight  \n",
       "0             1.000000      0.538462  0.409091  \n",
       "1             1.000000      0.461538  0.409091  \n",
       "2             1.000000      0.615385  1.000000  \n",
       "3             0.552941      0.230769  1.000000  \n",
       "4             1.000000      0.230769  0.409091  "
      ]
     },
     "execution_count": 291,
     "metadata": {},
     "output_type": "execute_result"
    }
   ],
   "source": [
    "train_df.head()"
   ]
  },
  {
   "cell_type": "code",
   "execution_count": null,
   "id": "529d3611-8670-473e-8949-c52b3a5e9bff",
   "metadata": {},
   "outputs": [],
   "source": []
  },
  {
   "cell_type": "markdown",
   "id": "a80ebdeb-6405-4b5f-94b4-8cad2e25a718",
   "metadata": {},
   "source": [
    "# Categorical Data"
   ]
  },
  {
   "cell_type": "code",
   "execution_count": 292,
   "id": "ee3b1f59-9d39-477e-ae9b-27c8511933be",
   "metadata": {},
   "outputs": [
    {
     "data": {
      "text/html": [
       "<div>\n",
       "<style scoped>\n",
       "    .dataframe tbody tr th:only-of-type {\n",
       "        vertical-align: middle;\n",
       "    }\n",
       "\n",
       "    .dataframe tbody tr th {\n",
       "        vertical-align: top;\n",
       "    }\n",
       "\n",
       "    .dataframe thead th {\n",
       "        text-align: right;\n",
       "    }\n",
       "</style>\n",
       "<table border=\"1\" class=\"dataframe\">\n",
       "  <thead>\n",
       "    <tr style=\"text-align: right;\">\n",
       "      <th></th>\n",
       "      <th>Brand</th>\n",
       "      <th>Model Name</th>\n",
       "      <th>Dial Shape</th>\n",
       "      <th>Strap Color</th>\n",
       "      <th>Strap Material</th>\n",
       "      <th>Touchscreen</th>\n",
       "      <th>Bluetooth</th>\n",
       "    </tr>\n",
       "  </thead>\n",
       "  <tbody>\n",
       "    <tr>\n",
       "      <th>0</th>\n",
       "      <td>ambrane</td>\n",
       "      <td>Flex 1.69inch Lucid display and SPO2</td>\n",
       "      <td>Square</td>\n",
       "      <td>Pink</td>\n",
       "      <td>Silicon</td>\n",
       "      <td>Yes</td>\n",
       "      <td>Yes</td>\n",
       "    </tr>\n",
       "    <tr>\n",
       "      <th>1</th>\n",
       "      <td>fossil</td>\n",
       "      <td>4th Gen Venture HR</td>\n",
       "      <td>Circle</td>\n",
       "      <td>Gold</td>\n",
       "      <td>Stainless Steel</td>\n",
       "      <td>Yes</td>\n",
       "      <td>Yes</td>\n",
       "    </tr>\n",
       "    <tr>\n",
       "      <th>2</th>\n",
       "      <td>amazfit</td>\n",
       "      <td>Pop 2 with Ultra-large 1.78 inch HD AMOLED Dis...</td>\n",
       "      <td>Square</td>\n",
       "      <td>Pink</td>\n",
       "      <td>Silicon</td>\n",
       "      <td>Yes</td>\n",
       "      <td>Yes</td>\n",
       "    </tr>\n",
       "    <tr>\n",
       "      <th>3</th>\n",
       "      <td>gizmore</td>\n",
       "      <td>910</td>\n",
       "      <td>NaN</td>\n",
       "      <td>NaN</td>\n",
       "      <td>Plastic</td>\n",
       "      <td>Yes</td>\n",
       "      <td>Yes</td>\n",
       "    </tr>\n",
       "    <tr>\n",
       "      <th>4</th>\n",
       "      <td>noise</td>\n",
       "      <td>Core 2 1.28\" Display , Noisefit sync app, 100+...</td>\n",
       "      <td>Circle</td>\n",
       "      <td>Black</td>\n",
       "      <td>Silicon</td>\n",
       "      <td>Yes</td>\n",
       "      <td>Yes</td>\n",
       "    </tr>\n",
       "  </tbody>\n",
       "</table>\n",
       "</div>"
      ],
      "text/plain": [
       "     Brand                                         Model Name Dial Shape  \\\n",
       "0  ambrane               Flex 1.69inch Lucid display and SPO2     Square   \n",
       "1   fossil                                 4th Gen Venture HR     Circle   \n",
       "2  amazfit  Pop 2 with Ultra-large 1.78 inch HD AMOLED Dis...     Square   \n",
       "3  gizmore                                                910        NaN   \n",
       "4    noise  Core 2 1.28\" Display , Noisefit sync app, 100+...     Circle   \n",
       "\n",
       "  Strap Color   Strap Material Touchscreen Bluetooth  \n",
       "0        Pink          Silicon         Yes       Yes  \n",
       "1        Gold  Stainless Steel         Yes       Yes  \n",
       "2        Pink          Silicon         Yes       Yes  \n",
       "3         NaN          Plastic         Yes       Yes  \n",
       "4       Black          Silicon         Yes       Yes  "
      ]
     },
     "execution_count": 292,
     "metadata": {},
     "output_type": "execute_result"
    }
   ],
   "source": [
    "train_df[categorical_data].head()"
   ]
  },
  {
   "cell_type": "code",
   "execution_count": 293,
   "id": "c8972113-861a-4b4f-a2bb-44df3e0e2d91",
   "metadata": {},
   "outputs": [],
   "source": [
    "categorical_data.remove('Bluetooth')"
   ]
  },
  {
   "cell_type": "code",
   "execution_count": 294,
   "id": "aab4f871-ea5f-4baa-8ff7-91d687f9914e",
   "metadata": {},
   "outputs": [],
   "source": [
    "from scipy.stats import f_oneway"
   ]
  },
  {
   "cell_type": "code",
   "execution_count": 295,
   "id": "5df19863-de29-4b4b-a769-9c6b874636ad",
   "metadata": {},
   "outputs": [
    {
     "name": "stdout",
     "output_type": "stream",
     "text": [
      "Brand  :  P-Value for anova is :  8.48904502053651e-07\n",
      "Model Name  :  P-Value for anova is :  0.4257504061029152\n",
      "Dial Shape  :  P-Value for anova is :  0.0006572733631442465\n",
      "Strap Color  :  P-Value for anova is :  0.9153961679829369\n",
      "Strap Material  :  P-Value for anova is :  0.2446993142325369\n",
      "Touchscreen  :  P-Value for anova is :  0.7617551266931157\n"
     ]
    }
   ],
   "source": [
    "for col in categorical_data:\n",
    "    CategoryGroupLists = train_df.groupby(col)['Discount Price'].apply(list)\n",
    "    AnovaResults = f_oneway(*CategoryGroupLists)\n",
    "    print(col,' : ','P-Value for anova is : ',AnovaResults[1])"
   ]
  },
  {
   "cell_type": "code",
   "execution_count": 296,
   "id": "8a37bed1-3079-4a9a-b6d0-7b16a39545a2",
   "metadata": {},
   "outputs": [],
   "source": [
    "imp_col = ['Brand','Model Name','Dial Shape','Strap Material']"
   ]
  },
  {
   "cell_type": "code",
   "execution_count": 297,
   "id": "187ba12f-326b-409f-82d5-8439031f9eff",
   "metadata": {},
   "outputs": [
    {
     "data": {
      "text/html": [
       "<div>\n",
       "<style scoped>\n",
       "    .dataframe tbody tr th:only-of-type {\n",
       "        vertical-align: middle;\n",
       "    }\n",
       "\n",
       "    .dataframe tbody tr th {\n",
       "        vertical-align: top;\n",
       "    }\n",
       "\n",
       "    .dataframe thead th {\n",
       "        text-align: right;\n",
       "    }\n",
       "</style>\n",
       "<table border=\"1\" class=\"dataframe\">\n",
       "  <thead>\n",
       "    <tr style=\"text-align: right;\">\n",
       "      <th></th>\n",
       "      <th>Brand</th>\n",
       "      <th>Model Name</th>\n",
       "      <th>Dial Shape</th>\n",
       "      <th>Strap Material</th>\n",
       "    </tr>\n",
       "  </thead>\n",
       "  <tbody>\n",
       "    <tr>\n",
       "      <th>0</th>\n",
       "      <td>ambrane</td>\n",
       "      <td>Flex 1.69inch Lucid display and SPO2</td>\n",
       "      <td>Square</td>\n",
       "      <td>Silicon</td>\n",
       "    </tr>\n",
       "    <tr>\n",
       "      <th>1</th>\n",
       "      <td>fossil</td>\n",
       "      <td>4th Gen Venture HR</td>\n",
       "      <td>Circle</td>\n",
       "      <td>Stainless Steel</td>\n",
       "    </tr>\n",
       "    <tr>\n",
       "      <th>2</th>\n",
       "      <td>amazfit</td>\n",
       "      <td>Pop 2 with Ultra-large 1.78 inch HD AMOLED Dis...</td>\n",
       "      <td>Square</td>\n",
       "      <td>Silicon</td>\n",
       "    </tr>\n",
       "    <tr>\n",
       "      <th>3</th>\n",
       "      <td>gizmore</td>\n",
       "      <td>910</td>\n",
       "      <td>NaN</td>\n",
       "      <td>Plastic</td>\n",
       "    </tr>\n",
       "    <tr>\n",
       "      <th>4</th>\n",
       "      <td>noise</td>\n",
       "      <td>Core 2 1.28\" Display , Noisefit sync app, 100+...</td>\n",
       "      <td>Circle</td>\n",
       "      <td>Silicon</td>\n",
       "    </tr>\n",
       "  </tbody>\n",
       "</table>\n",
       "</div>"
      ],
      "text/plain": [
       "     Brand                                         Model Name Dial Shape  \\\n",
       "0  ambrane               Flex 1.69inch Lucid display and SPO2     Square   \n",
       "1   fossil                                 4th Gen Venture HR     Circle   \n",
       "2  amazfit  Pop 2 with Ultra-large 1.78 inch HD AMOLED Dis...     Square   \n",
       "3  gizmore                                                910        NaN   \n",
       "4    noise  Core 2 1.28\" Display , Noisefit sync app, 100+...     Circle   \n",
       "\n",
       "    Strap Material  \n",
       "0          Silicon  \n",
       "1  Stainless Steel  \n",
       "2          Silicon  \n",
       "3          Plastic  \n",
       "4          Silicon  "
      ]
     },
     "execution_count": 297,
     "metadata": {},
     "output_type": "execute_result"
    }
   ],
   "source": [
    "train_df[imp_col].head()"
   ]
  },
  {
   "cell_type": "code",
   "execution_count": 298,
   "id": "440039ca-8d7a-4e23-b85a-f5226f0c04c5",
   "metadata": {},
   "outputs": [],
   "source": [
    "for col in imp_col:\n",
    "    train_df[col] = train_df[col].fillna('other')"
   ]
  },
  {
   "cell_type": "code",
   "execution_count": 299,
   "id": "0ae2ee96-89e3-4742-b327-d19e1ea3af9d",
   "metadata": {},
   "outputs": [
    {
     "data": {
      "text/plain": [
       "Brand             0\n",
       "Model Name        0\n",
       "Dial Shape        0\n",
       "Strap Material    0\n",
       "dtype: int64"
      ]
     },
     "execution_count": 299,
     "metadata": {},
     "output_type": "execute_result"
    }
   ],
   "source": [
    "train_df[imp_col].isna().sum()"
   ]
  },
  {
   "cell_type": "code",
   "execution_count": 300,
   "id": "34311e52-3147-4471-a065-4e339b49362b",
   "metadata": {},
   "outputs": [],
   "source": [
    "brand = pd.get_dummies(train_df['Brand'])"
   ]
  },
  {
   "cell_type": "code",
   "execution_count": 301,
   "id": "27475526-1f7a-40f4-8f75-8799955ae634",
   "metadata": {},
   "outputs": [],
   "source": [
    "model_name = pd.get_dummies(train_df['Model Name']).drop(['other'],axis=1)\n",
    "dial_shape = pd.get_dummies(train_df['Dial Shape']).drop(['other'],axis=1)\n",
    "strap_material = pd.get_dummies(train_df['Strap Material']).drop(['other'],axis=1)"
   ]
  },
  {
   "cell_type": "code",
   "execution_count": 302,
   "id": "af3c5f66-daf8-4feb-8c40-a1b01ec4d58c",
   "metadata": {},
   "outputs": [],
   "source": [
    "imp_df = pd.concat([brand,model_name,dial_shape,strap_material],axis=1)"
   ]
  },
  {
   "cell_type": "code",
   "execution_count": 303,
   "id": "e0d51e7b-8c74-432a-b73a-bc7dc78f10f0",
   "metadata": {},
   "outputs": [
    {
     "data": {
      "text/html": [
       "<div>\n",
       "<style scoped>\n",
       "    .dataframe tbody tr th:only-of-type {\n",
       "        vertical-align: middle;\n",
       "    }\n",
       "\n",
       "    .dataframe tbody tr th {\n",
       "        vertical-align: top;\n",
       "    }\n",
       "\n",
       "    .dataframe thead th {\n",
       "        text-align: right;\n",
       "    }\n",
       "</style>\n",
       "<table border=\"1\" class=\"dataframe\">\n",
       "  <thead>\n",
       "    <tr style=\"text-align: right;\">\n",
       "      <th></th>\n",
       "      <th>amazfit</th>\n",
       "      <th>ambrane</th>\n",
       "      <th>boat</th>\n",
       "      <th>crossbeats</th>\n",
       "      <th>dizo</th>\n",
       "      <th>fire-boltt</th>\n",
       "      <th>fitbit</th>\n",
       "      <th>fossil</th>\n",
       "      <th>garmin</th>\n",
       "      <th>gizmore</th>\n",
       "      <th>...</th>\n",
       "      <th>Leather</th>\n",
       "      <th>Metal</th>\n",
       "      <th>Nylon</th>\n",
       "      <th>Other</th>\n",
       "      <th>Plastic</th>\n",
       "      <th>Rubber</th>\n",
       "      <th>Silicon</th>\n",
       "      <th>Stainless Steel</th>\n",
       "      <th>Synthetic</th>\n",
       "      <th>Thermo Plastic Polyurethene</th>\n",
       "    </tr>\n",
       "  </thead>\n",
       "  <tbody>\n",
       "    <tr>\n",
       "      <th>0</th>\n",
       "      <td>False</td>\n",
       "      <td>True</td>\n",
       "      <td>False</td>\n",
       "      <td>False</td>\n",
       "      <td>False</td>\n",
       "      <td>False</td>\n",
       "      <td>False</td>\n",
       "      <td>False</td>\n",
       "      <td>False</td>\n",
       "      <td>False</td>\n",
       "      <td>...</td>\n",
       "      <td>False</td>\n",
       "      <td>False</td>\n",
       "      <td>False</td>\n",
       "      <td>False</td>\n",
       "      <td>False</td>\n",
       "      <td>False</td>\n",
       "      <td>True</td>\n",
       "      <td>False</td>\n",
       "      <td>False</td>\n",
       "      <td>False</td>\n",
       "    </tr>\n",
       "    <tr>\n",
       "      <th>1</th>\n",
       "      <td>False</td>\n",
       "      <td>False</td>\n",
       "      <td>False</td>\n",
       "      <td>False</td>\n",
       "      <td>False</td>\n",
       "      <td>False</td>\n",
       "      <td>False</td>\n",
       "      <td>True</td>\n",
       "      <td>False</td>\n",
       "      <td>False</td>\n",
       "      <td>...</td>\n",
       "      <td>False</td>\n",
       "      <td>False</td>\n",
       "      <td>False</td>\n",
       "      <td>False</td>\n",
       "      <td>False</td>\n",
       "      <td>False</td>\n",
       "      <td>False</td>\n",
       "      <td>True</td>\n",
       "      <td>False</td>\n",
       "      <td>False</td>\n",
       "    </tr>\n",
       "    <tr>\n",
       "      <th>2</th>\n",
       "      <td>True</td>\n",
       "      <td>False</td>\n",
       "      <td>False</td>\n",
       "      <td>False</td>\n",
       "      <td>False</td>\n",
       "      <td>False</td>\n",
       "      <td>False</td>\n",
       "      <td>False</td>\n",
       "      <td>False</td>\n",
       "      <td>False</td>\n",
       "      <td>...</td>\n",
       "      <td>False</td>\n",
       "      <td>False</td>\n",
       "      <td>False</td>\n",
       "      <td>False</td>\n",
       "      <td>False</td>\n",
       "      <td>False</td>\n",
       "      <td>True</td>\n",
       "      <td>False</td>\n",
       "      <td>False</td>\n",
       "      <td>False</td>\n",
       "    </tr>\n",
       "    <tr>\n",
       "      <th>3</th>\n",
       "      <td>False</td>\n",
       "      <td>False</td>\n",
       "      <td>False</td>\n",
       "      <td>False</td>\n",
       "      <td>False</td>\n",
       "      <td>False</td>\n",
       "      <td>False</td>\n",
       "      <td>False</td>\n",
       "      <td>False</td>\n",
       "      <td>True</td>\n",
       "      <td>...</td>\n",
       "      <td>False</td>\n",
       "      <td>False</td>\n",
       "      <td>False</td>\n",
       "      <td>False</td>\n",
       "      <td>True</td>\n",
       "      <td>False</td>\n",
       "      <td>False</td>\n",
       "      <td>False</td>\n",
       "      <td>False</td>\n",
       "      <td>False</td>\n",
       "    </tr>\n",
       "    <tr>\n",
       "      <th>4</th>\n",
       "      <td>False</td>\n",
       "      <td>False</td>\n",
       "      <td>False</td>\n",
       "      <td>False</td>\n",
       "      <td>False</td>\n",
       "      <td>False</td>\n",
       "      <td>False</td>\n",
       "      <td>False</td>\n",
       "      <td>False</td>\n",
       "      <td>False</td>\n",
       "      <td>...</td>\n",
       "      <td>False</td>\n",
       "      <td>False</td>\n",
       "      <td>False</td>\n",
       "      <td>False</td>\n",
       "      <td>False</td>\n",
       "      <td>False</td>\n",
       "      <td>True</td>\n",
       "      <td>False</td>\n",
       "      <td>False</td>\n",
       "      <td>False</td>\n",
       "    </tr>\n",
       "  </tbody>\n",
       "</table>\n",
       "<p>5 rows × 148 columns</p>\n",
       "</div>"
      ],
      "text/plain": [
       "   amazfit  ambrane   boat  crossbeats   dizo  fire-boltt  fitbit  fossil  \\\n",
       "0    False     True  False       False  False       False   False   False   \n",
       "1    False    False  False       False  False       False   False    True   \n",
       "2     True    False  False       False  False       False   False   False   \n",
       "3    False    False  False       False  False       False   False   False   \n",
       "4    False    False  False       False  False       False   False   False   \n",
       "\n",
       "   garmin  gizmore  ...  Leather  Metal  Nylon  Other  Plastic  Rubber  \\\n",
       "0   False    False  ...    False  False  False  False    False   False   \n",
       "1   False    False  ...    False  False  False  False    False   False   \n",
       "2   False    False  ...    False  False  False  False    False   False   \n",
       "3   False     True  ...    False  False  False  False     True   False   \n",
       "4   False    False  ...    False  False  False  False    False   False   \n",
       "\n",
       "   Silicon  Stainless Steel  Synthetic  Thermo Plastic Polyurethene  \n",
       "0     True            False      False                        False  \n",
       "1    False             True      False                        False  \n",
       "2     True            False      False                        False  \n",
       "3    False            False      False                        False  \n",
       "4     True            False      False                        False  \n",
       "\n",
       "[5 rows x 148 columns]"
      ]
     },
     "execution_count": 303,
     "metadata": {},
     "output_type": "execute_result"
    }
   ],
   "source": [
    "imp_df.head()"
   ]
  },
  {
   "cell_type": "code",
   "execution_count": 304,
   "id": "a266a35c-a2f7-4dab-95d4-8b6ffb10451b",
   "metadata": {},
   "outputs": [],
   "source": [
    "new_df = pd.concat([train_df[numerical_data],imp_df],axis=1)"
   ]
  },
  {
   "cell_type": "code",
   "execution_count": 305,
   "id": "6d9c5b16-5214-4812-af44-2541979cbe23",
   "metadata": {},
   "outputs": [
    {
     "data": {
      "text/html": [
       "<div>\n",
       "<style scoped>\n",
       "    .dataframe tbody tr th:only-of-type {\n",
       "        vertical-align: middle;\n",
       "    }\n",
       "\n",
       "    .dataframe tbody tr th {\n",
       "        vertical-align: top;\n",
       "    }\n",
       "\n",
       "    .dataframe thead th {\n",
       "        text-align: right;\n",
       "    }\n",
       "</style>\n",
       "<table border=\"1\" class=\"dataframe\">\n",
       "  <thead>\n",
       "    <tr style=\"text-align: right;\">\n",
       "      <th></th>\n",
       "      <th>Current Price</th>\n",
       "      <th>Original Price</th>\n",
       "      <th>Rating</th>\n",
       "      <th>Number OF Ratings</th>\n",
       "      <th>Battery Life (Days)</th>\n",
       "      <th>Display Size</th>\n",
       "      <th>Weight</th>\n",
       "      <th>Discount Price</th>\n",
       "      <th>amazfit</th>\n",
       "      <th>ambrane</th>\n",
       "      <th>...</th>\n",
       "      <th>Leather</th>\n",
       "      <th>Metal</th>\n",
       "      <th>Nylon</th>\n",
       "      <th>Other</th>\n",
       "      <th>Plastic</th>\n",
       "      <th>Rubber</th>\n",
       "      <th>Silicon</th>\n",
       "      <th>Stainless Steel</th>\n",
       "      <th>Synthetic</th>\n",
       "      <th>Thermo Plastic Polyurethene</th>\n",
       "    </tr>\n",
       "  </thead>\n",
       "  <tbody>\n",
       "    <tr>\n",
       "      <th>0</th>\n",
       "      <td>0.025761</td>\n",
       "      <td>0.072534</td>\n",
       "      <td>0.750000</td>\n",
       "      <td>0.276596</td>\n",
       "      <td>1.000000</td>\n",
       "      <td>0.538462</td>\n",
       "      <td>0.409091</td>\n",
       "      <td>-2000.000000</td>\n",
       "      <td>False</td>\n",
       "      <td>True</td>\n",
       "      <td>...</td>\n",
       "      <td>False</td>\n",
       "      <td>False</td>\n",
       "      <td>False</td>\n",
       "      <td>False</td>\n",
       "      <td>False</td>\n",
       "      <td>False</td>\n",
       "      <td>True</td>\n",
       "      <td>False</td>\n",
       "      <td>False</td>\n",
       "      <td>False</td>\n",
       "    </tr>\n",
       "    <tr>\n",
       "      <th>1</th>\n",
       "      <td>0.515049</td>\n",
       "      <td>0.756029</td>\n",
       "      <td>0.500000</td>\n",
       "      <td>0.017529</td>\n",
       "      <td>1.000000</td>\n",
       "      <td>0.461538</td>\n",
       "      <td>0.409091</td>\n",
       "      <td>-8800.000001</td>\n",
       "      <td>False</td>\n",
       "      <td>False</td>\n",
       "      <td>...</td>\n",
       "      <td>False</td>\n",
       "      <td>False</td>\n",
       "      <td>False</td>\n",
       "      <td>False</td>\n",
       "      <td>False</td>\n",
       "      <td>False</td>\n",
       "      <td>False</td>\n",
       "      <td>True</td>\n",
       "      <td>False</td>\n",
       "      <td>False</td>\n",
       "    </tr>\n",
       "    <tr>\n",
       "      <th>2</th>\n",
       "      <td>0.120218</td>\n",
       "      <td>0.155172</td>\n",
       "      <td>0.750000</td>\n",
       "      <td>0.108115</td>\n",
       "      <td>1.000000</td>\n",
       "      <td>0.615385</td>\n",
       "      <td>1.000000</td>\n",
       "      <td>-2000.000000</td>\n",
       "      <td>True</td>\n",
       "      <td>False</td>\n",
       "      <td>...</td>\n",
       "      <td>False</td>\n",
       "      <td>False</td>\n",
       "      <td>False</td>\n",
       "      <td>False</td>\n",
       "      <td>False</td>\n",
       "      <td>False</td>\n",
       "      <td>True</td>\n",
       "      <td>False</td>\n",
       "      <td>False</td>\n",
       "      <td>False</td>\n",
       "    </tr>\n",
       "    <tr>\n",
       "      <th>3</th>\n",
       "      <td>0.090164</td>\n",
       "      <td>0.155172</td>\n",
       "      <td>0.583333</td>\n",
       "      <td>0.003423</td>\n",
       "      <td>0.552941</td>\n",
       "      <td>0.230769</td>\n",
       "      <td>1.000000</td>\n",
       "      <td>-2700.000000</td>\n",
       "      <td>False</td>\n",
       "      <td>False</td>\n",
       "      <td>...</td>\n",
       "      <td>False</td>\n",
       "      <td>False</td>\n",
       "      <td>False</td>\n",
       "      <td>False</td>\n",
       "      <td>True</td>\n",
       "      <td>False</td>\n",
       "      <td>False</td>\n",
       "      <td>False</td>\n",
       "      <td>False</td>\n",
       "      <td>False</td>\n",
       "    </tr>\n",
       "    <tr>\n",
       "      <th>4</th>\n",
       "      <td>0.012881</td>\n",
       "      <td>0.080047</td>\n",
       "      <td>0.583333</td>\n",
       "      <td>0.229402</td>\n",
       "      <td>1.000000</td>\n",
       "      <td>0.230769</td>\n",
       "      <td>0.409091</td>\n",
       "      <td>-2500.000000</td>\n",
       "      <td>False</td>\n",
       "      <td>False</td>\n",
       "      <td>...</td>\n",
       "      <td>False</td>\n",
       "      <td>False</td>\n",
       "      <td>False</td>\n",
       "      <td>False</td>\n",
       "      <td>False</td>\n",
       "      <td>False</td>\n",
       "      <td>True</td>\n",
       "      <td>False</td>\n",
       "      <td>False</td>\n",
       "      <td>False</td>\n",
       "    </tr>\n",
       "  </tbody>\n",
       "</table>\n",
       "<p>5 rows × 156 columns</p>\n",
       "</div>"
      ],
      "text/plain": [
       "   Current Price  Original Price    Rating  Number OF Ratings  \\\n",
       "0       0.025761        0.072534  0.750000           0.276596   \n",
       "1       0.515049        0.756029  0.500000           0.017529   \n",
       "2       0.120218        0.155172  0.750000           0.108115   \n",
       "3       0.090164        0.155172  0.583333           0.003423   \n",
       "4       0.012881        0.080047  0.583333           0.229402   \n",
       "\n",
       "   Battery Life (Days)  Display Size    Weight  Discount Price  amazfit  \\\n",
       "0             1.000000      0.538462  0.409091    -2000.000000    False   \n",
       "1             1.000000      0.461538  0.409091    -8800.000001    False   \n",
       "2             1.000000      0.615385  1.000000    -2000.000000     True   \n",
       "3             0.552941      0.230769  1.000000    -2700.000000    False   \n",
       "4             1.000000      0.230769  0.409091    -2500.000000    False   \n",
       "\n",
       "   ambrane  ...  Leather  Metal  Nylon  Other  Plastic  Rubber  Silicon  \\\n",
       "0     True  ...    False  False  False  False    False   False     True   \n",
       "1    False  ...    False  False  False  False    False   False    False   \n",
       "2    False  ...    False  False  False  False    False   False     True   \n",
       "3    False  ...    False  False  False  False     True   False    False   \n",
       "4    False  ...    False  False  False  False    False   False     True   \n",
       "\n",
       "   Stainless Steel  Synthetic  Thermo Plastic Polyurethene  \n",
       "0            False      False                        False  \n",
       "1             True      False                        False  \n",
       "2            False      False                        False  \n",
       "3            False      False                        False  \n",
       "4            False      False                        False  \n",
       "\n",
       "[5 rows x 156 columns]"
      ]
     },
     "execution_count": 305,
     "metadata": {},
     "output_type": "execute_result"
    }
   ],
   "source": [
    "new_df.head()"
   ]
  },
  {
   "cell_type": "code",
   "execution_count": 306,
   "id": "f497af14-2c68-460c-981d-c82d7ca919b6",
   "metadata": {},
   "outputs": [
    {
     "data": {
      "text/plain": [
       "Current Price                  0\n",
       "Original Price                 0\n",
       "Rating                         0\n",
       "Number OF Ratings              0\n",
       "Battery Life (Days)            0\n",
       "                              ..\n",
       "Rubber                         0\n",
       "Silicon                        0\n",
       "Stainless Steel                0\n",
       "Synthetic                      0\n",
       "Thermo Plastic Polyurethene    0\n",
       "Length: 156, dtype: int64"
      ]
     },
     "execution_count": 306,
     "metadata": {},
     "output_type": "execute_result"
    }
   ],
   "source": [
    "new_df.isna().sum()"
   ]
  },
  {
   "cell_type": "code",
   "execution_count": 307,
   "id": "2519ab9b-c8c9-4008-bb19-9bf49d9a51d0",
   "metadata": {},
   "outputs": [],
   "source": [
    "new_df.to_csv('clean.csv',index=False)"
   ]
  },
  {
   "cell_type": "code",
   "execution_count": null,
   "id": "c68c4d9f-4e39-4e4f-a9d6-212c5857644b",
   "metadata": {},
   "outputs": [],
   "source": []
  }
 ],
 "metadata": {
  "kernelspec": {
   "display_name": "Python 3 (ipykernel)",
   "language": "python",
   "name": "python3"
  },
  "language_info": {
   "codemirror_mode": {
    "name": "ipython",
    "version": 3
   },
   "file_extension": ".py",
   "mimetype": "text/x-python",
   "name": "python",
   "nbconvert_exporter": "python",
   "pygments_lexer": "ipython3",
   "version": "3.10.18"
  }
 },
 "nbformat": 4,
 "nbformat_minor": 5
}
