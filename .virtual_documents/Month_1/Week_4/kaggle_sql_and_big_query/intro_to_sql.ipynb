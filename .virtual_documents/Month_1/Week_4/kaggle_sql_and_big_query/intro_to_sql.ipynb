





!pip install google-cloud-bigquery


import os
from google.cloud import bigquery





# Set this to the full absolute path of your downloaded key
os.environ["GOOGLE_APPLICATION_CREDENTIALS"] = "/home/mwaki/Documents/Documents/Credentials/egerdrive-7433adb919ad.json"


# Create a "Client" object
client = bigquery.Client()





dataset_ref = client.dataset("hacker_news",project="bigquery-public-data")
# Api request - fetch the dataset
dataset = client.get_dataset(dataset_ref)





tables = list(client.list_tables(dataset))

for table in tables:
    print(table.table_id)





# construct a reference to the full talbe
table_ref = dataset_ref.table("full")
# api request - fetch the table
table = client.get_table(table_ref)








# Print information on all the columns in the "full" table in the "hacker_news" dataset
table.schema





!pip install db-dtypes



# Preview the first five lines of the "full" table
client.list_rows(table, max_results=5).to_dataframe()





# Preview the first five entries in the "by" column of the "full" table
client.list_rows(table, selected_fields=table.schema[:1], max_results=5).to_dataframe()



