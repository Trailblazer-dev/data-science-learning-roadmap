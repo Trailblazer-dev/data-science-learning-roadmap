























import os
from google.cloud import bigquery


# Set this to the full absolute path of your downloaded key
os.environ["GOOGLE_APPLICATION_CREDENTIALS"] = "/home/mwaki/Documents/Documents/Credentials/egerdrive-7433adb919ad.json"


client = bigquery.Client()
dataset_ref = client.dataset('hacker_news',project ='bigquery-public-data')
dataset = client.get_dataset(dataset_ref)
table_ref = dataset_ref.table('full')
table = client.get_table(table_ref)


client.list_rows(table,max_results=5).to_dataframe()


query_popular = """
select parent,count(id) from 
`bigquery-public-data.hacker_news.full`
group by parent having count(id) >10
"""


# Set up the query (cancel the query if it would use too much of 
# your quota, with the limit set to 10 GB)
safe_config = bigquery.QueryJobConfig(maximum_bytes_billed=10**10)
query_job = client.query(query_popular, job_config=safe_config)

# API request - run the query, and convert the results to a pandas DataFrame
popular_comments = query_job.to_dataframe()

# Print the first five rows of the DataFrame
popular_comments.head()



